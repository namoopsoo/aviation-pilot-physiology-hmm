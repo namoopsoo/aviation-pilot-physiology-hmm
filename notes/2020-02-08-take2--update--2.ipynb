{
 "cells": [
  {
   "cell_type": "code",
   "execution_count": 1,
   "metadata": {},
   "outputs": [
    {
     "name": "stdout",
     "output_type": "stream",
     "text": [
      "1.14.0\n"
     ]
    },
    {
     "name": "stderr",
     "output_type": "stream",
     "text": [
      "Using TensorFlow backend.\n"
     ]
    }
   ],
   "source": [
    "from importlib import reload\n",
    "import os\n",
    "import pandas as pd\n",
    "from io import StringIO\n",
    "import itertools\n",
    "import ipdb\n",
    "import datetime\n",
    "from collections import Counter\n",
    "\n",
    "import h5py\n",
    "import json\n",
    "import tensorflow as tf\n",
    "from tensorflow import keras\n",
    "\n",
    "# Helper libraries\n",
    "import numpy as np\n",
    "import matplotlib.pyplot as plt\n",
    "from tqdm import tqdm\n",
    "import joblib\n",
    "print(tf.__version__)\n",
    "\n",
    "from keras.preprocessing import sequence\n",
    "from keras.models import Sequential\n",
    "from keras.layers import Dense, Embedding\n",
    "from keras.layers import LSTM\n",
    "\n",
    "from keras.callbacks import EarlyStopping\n",
    "from tensorflow.compat.v1.losses import sparse_softmax_cross_entropy\n",
    "\n",
    "from sklearn.preprocessing import StandardScaler\n",
    "from sklearn.preprocessing import MinMaxScaler\n",
    "import mytf.s3utils as msu\n",
    "import mytf.utils as mu\n",
    "import mytf.validation as mv\n",
    "import mytf.plot as mp"
   ]
  },
  {
   "cell_type": "code",
   "execution_count": 2,
   "metadata": {},
   "outputs": [],
   "source": [
    "tf.enable_eager_execution()"
   ]
  },
  {
   "cell_type": "code",
   "execution_count": 3,
   "metadata": {},
   "outputs": [
    {
     "name": "stdout",
     "output_type": "stream",
     "text": [
      "starting, 2020-02-09T010715Z\n",
      "Made new workdir, history/2020-02-09T010715Z\n"
     ]
    },
    {
     "data": {
      "text/plain": [
       "[]"
      ]
     },
     "execution_count": 3,
     "metadata": {},
     "output_type": "execute_result"
    }
   ],
   "source": [
    "datadir = 'history/2020-02-03T000055Z'\n",
    "ts = mu.quickts(); print('starting,', ts)\n",
    "\n",
    "workdir = f'history/{ts}'\n",
    "os.mkdir(workdir)\n",
    "print(f'Made new workdir, {workdir}')\n",
    "os.listdir(workdir)"
   ]
  },
  {
   "cell_type": "code",
   "execution_count": 4,
   "metadata": {},
   "outputs": [],
   "source": [
    "lstm_params = [{\n",
    "    'units': 64,\n",
    "    'dropout': 0.5,\n",
    "    'recurrent_dropout': 0.5,\n",
    "    'batch_input_shape': (None, 64, 8),\n",
    "    'kernel_initializer': tf.initializers.glorot_normal() # GlorotNormal()\n",
    "                           #tf.initializers.he_normal()\n",
    "    },]\n",
    "\n",
    "optimizer_params = {\n",
    "    'learning_rate': 0.001,  \n",
    "    'beta1': 0.9, \n",
    "    'beta2': 0.999, \n",
    "    'epsilon': 1e-08\n",
    "}\n",
    "\n",
    "def bake_model(lstm_params):\n",
    "    model = tf.keras.Sequential([\n",
    "        tf.keras.layers.LSTM(**lstm_params[0]),\n",
    "        # 4 because 'A', 'B', 'C', 'D'.\n",
    "        tf.keras.layers.Dense(4)])\n",
    "    return model"
   ]
  },
  {
   "cell_type": "code",
   "execution_count": 6,
   "metadata": {},
   "outputs": [
    {
     "name": "stdout",
     "output_type": "stream",
     "text": [
      "datadir history/2020-02-03T000055Z workdir history/2020-02-09T010715Z\n"
     ]
    }
   ],
   "source": [
    "BATCH_SIZE = 32\n",
    "EPOCHS = 4\n",
    "#\n",
    "print('datadir', datadir, 'workdir', workdir)\n",
    "train_shuff_loc = f'{datadir}/train_scaled_balanced_shuffled.h5'\n",
    "\n",
    "X, Ylabels = mu.read_h5_two(\n",
    "                source_location=train_shuff_loc, \n",
    "                Xdataset=f'X',\n",
    "                Ydataset=f'Ylabels')\n",
    "size = X.shape[0]\n",
    "\n",
    "# save base unfitted model.\n",
    "model = bake_model(lstm_params)\n",
    "mu.save_model(model=model, \n",
    "              loc=f'{workdir}/00000__unfitted_model.h5')"
   ]
  },
  {
   "cell_type": "code",
   "execution_count": 7,
   "metadata": {},
   "outputs": [
    {
     "name": "stdout",
     "output_type": "stream",
     "text": [
      "Start train with history/2020-02-09T010715Z/00000__unfitted_model.h5\n",
      "WARNING:tensorflow:No training configuration found in save file: the model was *not* compiled. Compile it manually.\n"
     ]
    },
    {
     "data": {
      "application/vnd.jupyter.widget-view+json": {
       "model_id": "c14e205d11414989adcee28fed3854ae",
       "version_major": 2,
       "version_minor": 0
      },
      "text/plain": [
       "HBox(children=(FloatProgress(value=1.0, bar_style='info', max=1.0), HTML(value='')))"
      ]
     },
     "metadata": {},
     "output_type": "display_data"
    },
    {
     "name": "stdout",
     "output_type": "stream",
     "text": [
      "WARNING:tensorflow:From /home/ec2-user/anaconda3/envs/tensorflow_p36/lib/python3.6/site-packages/tensorflow/python/ops/losses/losses_impl.py:121: add_dispatch_support.<locals>.wrapper (from tensorflow.python.ops.array_ops) is deprecated and will be removed in a future version.\n",
      "Instructions for updating:\n",
      "Use tf.where in 2.0, which has the same broadcast rule as np.where\n",
      "\n"
     ]
    },
    {
     "data": {
      "application/vnd.jupyter.widget-view+json": {
       "model_id": "84810d1a066a4cd7bee5ca3d0188d0b5",
       "version_major": 2,
       "version_minor": 0
      },
      "text/plain": [
       "HBox(children=(FloatProgress(value=1.0, bar_style='info', max=1.0), HTML(value='')))"
      ]
     },
     "metadata": {},
     "output_type": "display_data"
    },
    {
     "name": "stdout",
     "output_type": "stream",
     "text": [
      "\n"
     ]
    },
    {
     "data": {
      "application/vnd.jupyter.widget-view+json": {
       "model_id": "ad747bf2a34848cab34d88e58ad0d716",
       "version_major": 2,
       "version_minor": 0
      },
      "text/plain": [
       "HBox(children=(FloatProgress(value=1.0, bar_style='info', max=1.0), HTML(value='')))"
      ]
     },
     "metadata": {},
     "output_type": "display_data"
    },
    {
     "name": "stdout",
     "output_type": "stream",
     "text": [
      "\n"
     ]
    },
    {
     "data": {
      "application/vnd.jupyter.widget-view+json": {
       "model_id": "1ab11dc353484869a95da5f384e7910d",
       "version_major": 2,
       "version_minor": 0
      },
      "text/plain": [
       "HBox(children=(FloatProgress(value=1.0, bar_style='info', max=1.0), HTML(value='')))"
      ]
     },
     "metadata": {},
     "output_type": "display_data"
    },
    {
     "name": "stdout",
     "output_type": "stream",
     "text": [
      "\n",
      "CPU times: user 46min 33s, sys: 3.1 s, total: 46min 36s\n",
      "Wall time: 46min 33s\n"
     ]
    }
   ],
   "source": [
    "%%time\n",
    "modelloc = f'{workdir}/00000__unfitted_model.h5'\n",
    "print(f'Start train with {modelloc}')\n",
    "model = mu.load_model(modelloc)\n",
    "\n",
    "class_weights = {0: 1., 1: 0., 2: 0., 3: 0.}\n",
    "dataset_batches = mu.build_dataset_weighty_v3(\n",
    "        {'x_train': X,\n",
    "         'ylabels_train': Ylabels.astype('int64')},\n",
    "        list(range(size)), \n",
    "        class_weights,\n",
    "        batch_size=BATCH_SIZE)\n",
    "    \n",
    "mu.do_train(\n",
    "        model,\n",
    "        dataset_batches,\n",
    "        k=size,\n",
    "        num_epochs=EPOCHS,\n",
    "        optimizer_params=optimizer_params,\n",
    "        saveloc=workdir)\n"
   ]
  },
  {
   "cell_type": "markdown",
   "metadata": {},
   "source": [
    "### Validation"
   ]
  },
  {
   "cell_type": "code",
   "execution_count": 8,
   "metadata": {},
   "outputs": [
    {
     "name": "stdout",
     "output_type": "stream",
     "text": [
      "test_loc ['X_0', 'X_1', 'X_2', 'X_3', 'Ylabels_0', 'Ylabels_1', 'Ylabels_2', 'Ylabels_3']\n"
     ]
    }
   ],
   "source": [
    "test_loc = f'{datadir}/test_balanced.h5'\n",
    "print('test_loc', mu.h5_keys(test_loc))"
   ]
  },
  {
   "cell_type": "code",
   "execution_count": 9,
   "metadata": {},
   "outputs": [
    {
     "name": "stdout",
     "output_type": "stream",
     "text": [
      "history/2020-02-09T010715Z/epoch_000_batch_00200_model.h5 True\n",
      "history/2020-02-09T010715Z/epoch_000_batch_00400_model.h5 True\n",
      "history/2020-02-09T010715Z/epoch_000_batch_00600_model.h5 True\n",
      "history/2020-02-09T010715Z/epoch_000_batch_00800_model.h5 True\n",
      "history/2020-02-09T010715Z/epoch_000_batch_01000_model.h5 True\n",
      "history/2020-02-09T010715Z/epoch_000_batch_01200_model.h5 True\n",
      "history/2020-02-09T010715Z/epoch_000_batch_01400_model.h5 True\n",
      "history/2020-02-09T010715Z/epoch_000_batch_01600_model.h5 True\n",
      "history/2020-02-09T010715Z/epoch_000_batch_01760_model.h5 True\n",
      "history/2020-02-09T010715Z/epoch_001_batch_00200_model.h5 True\n",
      "history/2020-02-09T010715Z/epoch_001_batch_00400_model.h5 True\n",
      "history/2020-02-09T010715Z/epoch_001_batch_00600_model.h5 True\n",
      "history/2020-02-09T010715Z/epoch_001_batch_00800_model.h5 True\n",
      "history/2020-02-09T010715Z/epoch_001_batch_01000_model.h5 True\n",
      "history/2020-02-09T010715Z/epoch_001_batch_01200_model.h5 True\n",
      "history/2020-02-09T010715Z/epoch_001_batch_01400_model.h5 True\n",
      "history/2020-02-09T010715Z/epoch_001_batch_01600_model.h5 True\n",
      "history/2020-02-09T010715Z/epoch_001_batch_01760_model.h5 True\n",
      "history/2020-02-09T010715Z/epoch_002_batch_00200_model.h5 True\n",
      "history/2020-02-09T010715Z/epoch_002_batch_00400_model.h5 True\n",
      "history/2020-02-09T010715Z/epoch_002_batch_00600_model.h5 True\n",
      "history/2020-02-09T010715Z/epoch_002_batch_00800_model.h5 True\n",
      "history/2020-02-09T010715Z/epoch_002_batch_01000_model.h5 True\n",
      "history/2020-02-09T010715Z/epoch_002_batch_01200_model.h5 True\n",
      "history/2020-02-09T010715Z/epoch_002_batch_01400_model.h5 True\n",
      "history/2020-02-09T010715Z/epoch_002_batch_01600_model.h5 True\n",
      "history/2020-02-09T010715Z/epoch_002_batch_01760_model.h5 True\n",
      "history/2020-02-09T010715Z/epoch_003_batch_00200_model.h5 True\n",
      "history/2020-02-09T010715Z/epoch_003_batch_00400_model.h5 True\n",
      "history/2020-02-09T010715Z/epoch_003_batch_00600_model.h5 True\n",
      "history/2020-02-09T010715Z/epoch_003_batch_00800_model.h5 True\n",
      "history/2020-02-09T010715Z/epoch_003_batch_01000_model.h5 True\n",
      "history/2020-02-09T010715Z/epoch_003_batch_01200_model.h5 True\n",
      "history/2020-02-09T010715Z/epoch_003_batch_01400_model.h5 True\n",
      "history/2020-02-09T010715Z/epoch_003_batch_01600_model.h5 True\n",
      "history/2020-02-09T010715Z/epoch_003_batch_01760_model.h5 True\n",
      "modelnames_vec ['history/2020-02-09T010715Z/epoch_000_batch_00200', 'history/2020-02-09T010715Z/epoch_000_batch_00400', 'history/2020-02-09T010715Z/epoch_000_batch_00600', 'history/2020-02-09T010715Z/epoch_000_batch_00800', 'history/2020-02-09T010715Z/epoch_000_batch_01000', 'history/2020-02-09T010715Z/epoch_000_batch_01200', 'history/2020-02-09T010715Z/epoch_000_batch_01400', 'history/2020-02-09T010715Z/epoch_000_batch_01600', 'history/2020-02-09T010715Z/epoch_000_batch_01760', 'history/2020-02-09T010715Z/epoch_001_batch_00200', 'history/2020-02-09T010715Z/epoch_001_batch_00400', 'history/2020-02-09T010715Z/epoch_001_batch_00600', 'history/2020-02-09T010715Z/epoch_001_batch_00800', 'history/2020-02-09T010715Z/epoch_001_batch_01000', 'history/2020-02-09T010715Z/epoch_001_batch_01200', 'history/2020-02-09T010715Z/epoch_001_batch_01400', 'history/2020-02-09T010715Z/epoch_001_batch_01600', 'history/2020-02-09T010715Z/epoch_001_batch_01760', 'history/2020-02-09T010715Z/epoch_002_batch_00200', 'history/2020-02-09T010715Z/epoch_002_batch_00400', 'history/2020-02-09T010715Z/epoch_002_batch_00600', 'history/2020-02-09T010715Z/epoch_002_batch_00800', 'history/2020-02-09T010715Z/epoch_002_batch_01000', 'history/2020-02-09T010715Z/epoch_002_batch_01200', 'history/2020-02-09T010715Z/epoch_002_batch_01400', 'history/2020-02-09T010715Z/epoch_002_batch_01600', 'history/2020-02-09T010715Z/epoch_002_batch_01760', 'history/2020-02-09T010715Z/epoch_003_batch_00200', 'history/2020-02-09T010715Z/epoch_003_batch_00400', 'history/2020-02-09T010715Z/epoch_003_batch_00600', 'history/2020-02-09T010715Z/epoch_003_batch_00800', 'history/2020-02-09T010715Z/epoch_003_batch_01000', 'history/2020-02-09T010715Z/epoch_003_batch_01200', 'history/2020-02-09T010715Z/epoch_003_batch_01400', 'history/2020-02-09T010715Z/epoch_003_batch_01600', 'history/2020-02-09T010715Z/epoch_003_batch_01760']\n"
     ]
    }
   ],
   "source": [
    "\n",
    "modelnames_vec = []\n",
    "for epoch in range(EPOCHS):\n",
    "    for batch in list(np.arange(200, 1760, 200)) + [1760]:\n",
    "        step = batch\n",
    "        prefix = (f'{workdir}/epoch_{str(epoch).zfill(3)}'\n",
    "                               f'_batch_{str(batch).zfill(5)}')\n",
    "\n",
    "        modelname = f'{prefix}_model.h5'\n",
    "        print(modelname, os.path.exists(modelname))\n",
    "        modelnames_vec.append(prefix)\n",
    "print('modelnames_vec', modelnames_vec)"
   ]
  },
  {
   "cell_type": "code",
   "execution_count": null,
   "metadata": {
    "scrolled": true
   },
   "outputs": [
    {
     "name": "stderr",
     "output_type": "stream",
     "text": [
      "\r",
      "  0%|          | 0/36 [00:00<?, ?it/s]"
     ]
    },
    {
     "name": "stdout",
     "output_type": "stream",
     "text": [
      "starting validation 2020-02-09T015930Z\n",
      "test_loc history/2020-02-03T000055Z/test_balanced.h5\n",
      "history/2020-02-09T010715Z/epoch_000_batch_00200_model.h5 True\n",
      "WARNING:tensorflow:No training configuration found in save file: the model was *not* compiled. Compile it manually.\n"
     ]
    },
    {
     "name": "stderr",
     "output_type": "stream",
     "text": [
      "\r",
      "  3%|▎         | 1/36 [04:46<2:47:19, 286.83s/it]"
     ]
    },
    {
     "name": "stdout",
     "output_type": "stream",
     "text": [
      "history/2020-02-09T010715Z/epoch_000_batch_00400_model.h5 True\n",
      "WARNING:tensorflow:No training configuration found in save file: the model was *not* compiled. Compile it manually.\n"
     ]
    },
    {
     "name": "stderr",
     "output_type": "stream",
     "text": [
      "\r",
      "  6%|▌         | 2/36 [09:31<2:42:07, 286.09s/it]"
     ]
    },
    {
     "name": "stdout",
     "output_type": "stream",
     "text": [
      "history/2020-02-09T010715Z/epoch_000_batch_00600_model.h5 True\n",
      "WARNING:tensorflow:No training configuration found in save file: the model was *not* compiled. Compile it manually.\n"
     ]
    },
    {
     "name": "stderr",
     "output_type": "stream",
     "text": [
      "\r",
      "  8%|▊         | 3/36 [14:17<2:37:22, 286.15s/it]"
     ]
    },
    {
     "name": "stdout",
     "output_type": "stream",
     "text": [
      "history/2020-02-09T010715Z/epoch_000_batch_00800_model.h5 True\n",
      "WARNING:tensorflow:No training configuration found in save file: the model was *not* compiled. Compile it manually.\n"
     ]
    },
    {
     "name": "stderr",
     "output_type": "stream",
     "text": [
      "\r",
      " 11%|█         | 4/36 [19:03<2:32:32, 286.03s/it]"
     ]
    },
    {
     "name": "stdout",
     "output_type": "stream",
     "text": [
      "history/2020-02-09T010715Z/epoch_000_batch_01000_model.h5 True\n",
      "WARNING:tensorflow:No training configuration found in save file: the model was *not* compiled. Compile it manually.\n"
     ]
    },
    {
     "name": "stderr",
     "output_type": "stream",
     "text": [
      "\r",
      " 14%|█▍        | 5/36 [23:49<2:27:53, 286.23s/it]"
     ]
    },
    {
     "name": "stdout",
     "output_type": "stream",
     "text": [
      "history/2020-02-09T010715Z/epoch_000_batch_01200_model.h5 True\n",
      "WARNING:tensorflow:No training configuration found in save file: the model was *not* compiled. Compile it manually.\n"
     ]
    },
    {
     "name": "stderr",
     "output_type": "stream",
     "text": [
      "\r",
      " 17%|█▋        | 6/36 [28:39<2:23:40, 287.35s/it]"
     ]
    },
    {
     "name": "stdout",
     "output_type": "stream",
     "text": [
      "history/2020-02-09T010715Z/epoch_000_batch_01400_model.h5 True\n",
      "WARNING:tensorflow:No training configuration found in save file: the model was *not* compiled. Compile it manually.\n"
     ]
    },
    {
     "name": "stderr",
     "output_type": "stream",
     "text": [
      "\r",
      " 19%|█▉        | 7/36 [33:26<2:18:44, 287.06s/it]"
     ]
    },
    {
     "name": "stdout",
     "output_type": "stream",
     "text": [
      "history/2020-02-09T010715Z/epoch_000_batch_01600_model.h5 True\n",
      "WARNING:tensorflow:No training configuration found in save file: the model was *not* compiled. Compile it manually.\n"
     ]
    },
    {
     "name": "stderr",
     "output_type": "stream",
     "text": [
      "\r",
      " 22%|██▏       | 8/36 [38:13<2:14:00, 287.15s/it]"
     ]
    },
    {
     "name": "stdout",
     "output_type": "stream",
     "text": [
      "history/2020-02-09T010715Z/epoch_000_batch_01760_model.h5 True\n",
      "WARNING:tensorflow:No training configuration found in save file: the model was *not* compiled. Compile it manually.\n"
     ]
    },
    {
     "name": "stderr",
     "output_type": "stream",
     "text": [
      "\r",
      " 25%|██▌       | 9/36 [43:00<2:09:11, 287.08s/it]"
     ]
    },
    {
     "name": "stdout",
     "output_type": "stream",
     "text": [
      "history/2020-02-09T010715Z/epoch_001_batch_00200_model.h5 True\n",
      "WARNING:tensorflow:No training configuration found in save file: the model was *not* compiled. Compile it manually.\n"
     ]
    },
    {
     "name": "stderr",
     "output_type": "stream",
     "text": [
      "\r",
      " 28%|██▊       | 10/36 [47:45<2:04:05, 286.38s/it]"
     ]
    },
    {
     "name": "stdout",
     "output_type": "stream",
     "text": [
      "history/2020-02-09T010715Z/epoch_001_batch_00400_model.h5 True\n",
      "WARNING:tensorflow:No training configuration found in save file: the model was *not* compiled. Compile it manually.\n"
     ]
    },
    {
     "name": "stderr",
     "output_type": "stream",
     "text": [
      "\r",
      " 31%|███       | 11/36 [52:30<1:59:08, 285.94s/it]"
     ]
    },
    {
     "name": "stdout",
     "output_type": "stream",
     "text": [
      "history/2020-02-09T010715Z/epoch_001_batch_00600_model.h5 True\n",
      "WARNING:tensorflow:No training configuration found in save file: the model was *not* compiled. Compile it manually.\n"
     ]
    },
    {
     "name": "stderr",
     "output_type": "stream",
     "text": [
      "\r",
      " 33%|███▎      | 12/36 [57:15<1:54:17, 285.71s/it]"
     ]
    },
    {
     "name": "stdout",
     "output_type": "stream",
     "text": [
      "history/2020-02-09T010715Z/epoch_001_batch_00800_model.h5 True\n",
      "WARNING:tensorflow:No training configuration found in save file: the model was *not* compiled. Compile it manually.\n"
     ]
    },
    {
     "name": "stderr",
     "output_type": "stream",
     "text": [
      "\r",
      " 36%|███▌      | 13/36 [1:02:02<1:49:41, 286.16s/it]"
     ]
    },
    {
     "name": "stdout",
     "output_type": "stream",
     "text": [
      "history/2020-02-09T010715Z/epoch_001_batch_01000_model.h5 True\n",
      "WARNING:tensorflow:No training configuration found in save file: the model was *not* compiled. Compile it manually.\n"
     ]
    },
    {
     "name": "stderr",
     "output_type": "stream",
     "text": [
      "\r",
      " 39%|███▉      | 14/36 [1:06:47<1:44:45, 285.69s/it]"
     ]
    },
    {
     "name": "stdout",
     "output_type": "stream",
     "text": [
      "history/2020-02-09T010715Z/epoch_001_batch_01200_model.h5 True\n",
      "WARNING:tensorflow:No training configuration found in save file: the model was *not* compiled. Compile it manually.\n"
     ]
    },
    {
     "name": "stderr",
     "output_type": "stream",
     "text": [
      "\r",
      " 42%|████▏     | 15/36 [1:11:33<1:40:06, 286.00s/it]"
     ]
    },
    {
     "name": "stdout",
     "output_type": "stream",
     "text": [
      "history/2020-02-09T010715Z/epoch_001_batch_01400_model.h5 True\n",
      "WARNING:tensorflow:No training configuration found in save file: the model was *not* compiled. Compile it manually.\n"
     ]
    },
    {
     "name": "stderr",
     "output_type": "stream",
     "text": [
      "\r",
      " 44%|████▍     | 16/36 [1:16:28<1:36:13, 288.68s/it]"
     ]
    },
    {
     "name": "stdout",
     "output_type": "stream",
     "text": [
      "history/2020-02-09T010715Z/epoch_001_batch_01600_model.h5 True\n",
      "WARNING:tensorflow:No training configuration found in save file: the model was *not* compiled. Compile it manually.\n"
     ]
    },
    {
     "name": "stderr",
     "output_type": "stream",
     "text": [
      "\r",
      " 47%|████▋     | 17/36 [1:21:13<1:31:01, 287.45s/it]"
     ]
    },
    {
     "name": "stdout",
     "output_type": "stream",
     "text": [
      "history/2020-02-09T010715Z/epoch_001_batch_01760_model.h5 True\n",
      "WARNING:tensorflow:No training configuration found in save file: the model was *not* compiled. Compile it manually.\n"
     ]
    },
    {
     "name": "stderr",
     "output_type": "stream",
     "text": [
      "\r",
      " 50%|█████     | 18/36 [1:25:59<1:26:06, 287.03s/it]"
     ]
    },
    {
     "name": "stdout",
     "output_type": "stream",
     "text": [
      "history/2020-02-09T010715Z/epoch_002_batch_00200_model.h5 True\n",
      "WARNING:tensorflow:No training configuration found in save file: the model was *not* compiled. Compile it manually.\n"
     ]
    },
    {
     "name": "stderr",
     "output_type": "stream",
     "text": [
      "\r",
      " 53%|█████▎    | 19/36 [1:30:43<1:21:04, 286.15s/it]"
     ]
    },
    {
     "name": "stdout",
     "output_type": "stream",
     "text": [
      "history/2020-02-09T010715Z/epoch_002_batch_00400_model.h5 True\n",
      "WARNING:tensorflow:No training configuration found in save file: the model was *not* compiled. Compile it manually.\n"
     ]
    },
    {
     "name": "stderr",
     "output_type": "stream",
     "text": [
      "\r",
      " 56%|█████▌    | 20/36 [1:35:26<1:16:04, 285.27s/it]"
     ]
    },
    {
     "name": "stdout",
     "output_type": "stream",
     "text": [
      "history/2020-02-09T010715Z/epoch_002_batch_00600_model.h5 True\n",
      "WARNING:tensorflow:No training configuration found in save file: the model was *not* compiled. Compile it manually.\n"
     ]
    },
    {
     "name": "stderr",
     "output_type": "stream",
     "text": [
      "\r",
      " 58%|█████▊    | 21/36 [1:40:14<1:11:29, 285.98s/it]"
     ]
    },
    {
     "name": "stdout",
     "output_type": "stream",
     "text": [
      "history/2020-02-09T010715Z/epoch_002_batch_00800_model.h5 True\n",
      "WARNING:tensorflow:No training configuration found in save file: the model was *not* compiled. Compile it manually.\n"
     ]
    },
    {
     "name": "stderr",
     "output_type": "stream",
     "text": [
      "\r",
      " 61%|██████    | 22/36 [1:45:02<1:06:50, 286.47s/it]"
     ]
    },
    {
     "name": "stdout",
     "output_type": "stream",
     "text": [
      "history/2020-02-09T010715Z/epoch_002_batch_01000_model.h5 True\n",
      "WARNING:tensorflow:No training configuration found in save file: the model was *not* compiled. Compile it manually.\n"
     ]
    }
   ],
   "source": [
    "print('starting validation', mu.quickts())\n",
    "batch_losses_vec = []\n",
    "print('test_loc', test_loc)\n",
    "epoch = 0\n",
    "for step, prefix in enumerate(tqdm(modelnames_vec)):\n",
    "    # prefix = (f'{workdir}/epoch_{str(epoch).zfill(3)}'\n",
    "    #                        f'_batch_{str(batch).zfill(5)}')\n",
    "\n",
    "    modelname = f'{prefix}_model.h5'\n",
    "    print(modelname, os.path.exists(modelname))\n",
    "\n",
    "    steploss = mv.perf_wrapper(modelname,\n",
    "                               dataloc=test_loc,\n",
    "                               eager=True,\n",
    "                              batch_size=32)\n",
    "    batch_losses_vec.append([float(x) for x in steploss])\n",
    "    mu.to_json_local({'batch_losses_vec': batch_losses_vec,\n",
    "                  'step': int(step)\n",
    "              }, \n",
    "              f'{prefix}_validation_losses.json')\n",
    "    \n",
    "print('done validation', mu.quickts())\n",
    "#####\n",
    "lossesarr = np.array(batch_losses_vec)\n",
    "meanlossesarr = np.mean(lossesarr, axis=1)\n",
    "\n",
    "batch_losses_vec[:5]\n",
    "#batch_losses_vec = []\n",
    "\n",
    "plt.plot([x[0] for x in batch_losses_vec], color='blue', label='0')\n",
    "plt.plot([x[1] for x in batch_losses_vec], color='green', label='1')\n",
    "plt.plot([x[2] for x in batch_losses_vec], color='red', label='2')\n",
    "plt.plot([x[3] for x in batch_losses_vec], color='orange', label='3')\n",
    "plt.plot(meanlossesarr, color='black', label='mean')\n",
    "plt.title(f'validation losses  (model {ts})')\n",
    "plt.legend()     \n",
    "        "
   ]
  },
  {
   "cell_type": "code",
   "execution_count": 14,
   "metadata": {
    "scrolled": true
   },
   "outputs": [
    {
     "data": {
      "text/plain": [
       "array([1.2484009 , 1.23448573, 1.19409977, 1.16453309, 1.17931211,\n",
       "       1.18497714, 1.22411191, 1.22398704, 1.24850054, 1.31103911,\n",
       "       1.33118664, 1.38083243, 1.35652892, 1.4309701 , 1.41161321,\n",
       "       1.40992384, 1.43772973, 1.4577726 , 1.60686302, 1.70862387,\n",
       "       1.6175383 , 1.63973585, 1.6164977 , 1.6006812 , 1.70122978,\n",
       "       1.69351995, 1.70193529, 1.71464974, 1.77576904, 1.85943067,\n",
       "       1.90501527, 1.82791053, 1.88926429, 2.02341145, 1.83123823,\n",
       "       1.93111178])"
      ]
     },
     "execution_count": 14,
     "metadata": {},
     "output_type": "execute_result"
    }
   ],
   "source": [
    "meanlossesarr"
   ]
  },
  {
   "cell_type": "code",
   "execution_count": 15,
   "metadata": {},
   "outputs": [
    {
     "data": {
      "text/plain": [
       "<matplotlib.legend.Legend at 0x7f138cd02ef0>"
      ]
     },
     "execution_count": 15,
     "metadata": {},
     "output_type": "execute_result"
    },
    {
     "data": {
      "image/png": "[encoded data removed]",
      "text/plain": [
       "<Figure size 432x288 with 1 Axes>"
      ]
     },
     "metadata": {},
     "output_type": "display_data"
    }
   ],
   "source": [
    "plt.plot([x[0] for x in batch_losses_vec], color='blue', label='0')\n",
    "plt.plot([x[1] for x in batch_losses_vec], color='green', label='1')\n",
    "plt.plot([x[2] for x in batch_losses_vec], color='red', label='2')\n",
    "plt.plot([x[3] for x in batch_losses_vec], color='orange', label='3')\n",
    "plt.plot(meanlossesarr, color='black', label='mean')\n",
    "plt.title(f'validation losses  (model {ts})')\n",
    "plt.legend()    "
   ]
  },
  {
   "cell_type": "code",
   "execution_count": 16,
   "metadata": {},
   "outputs": [
    {
     "data": {
      "text/plain": [
       "[[1.0364662408828735,\n",
       "  1.469323992729187,\n",
       "  1.0106637477874756,\n",
       "  1.4771496057510376],\n",
       " [0.9462652802467346,\n",
       "  1.3707464933395386,\n",
       "  1.2423536777496338,\n",
       "  1.378577470779419],\n",
       " [0.9306474328041077,\n",
       "  1.4015940427780151,\n",
       "  1.0794546604156494,\n",
       "  1.3647029399871826],\n",
       " [0.9055910706520081,\n",
       "  1.3725917339324951,\n",
       "  1.0196342468261719,\n",
       "  1.3603153228759766],\n",
       " [0.8613853454589844,\n",
       "  1.454492211341858,\n",
       "  1.0715227127075195,\n",
       "  1.3298481702804565],\n",
       " [0.9491506814956665,\n",
       "  1.357450246810913,\n",
       "  1.0957884788513184,\n",
       "  1.3375191688537598],\n",
       " [0.8398747444152832,\n",
       "  1.3996000289916992,\n",
       "  1.2605162858963013,\n",
       "  1.3964565992355347],\n",
       " [0.9153836965560913,\n",
       "  1.3125518560409546,\n",
       "  1.3554145097732544,\n",
       "  1.3125981092453003],\n",
       " [0.897506058216095,\n",
       "  1.4498804807662964,\n",
       "  1.3869361877441406,\n",
       "  1.2596794366836548],\n",
       " [0.8306414484977722,\n",
       "  1.407802939414978,\n",
       "  1.6638809442520142,\n",
       "  1.341831088066101],\n",
       " [0.8735260367393494,\n",
       "  1.3225979804992676,\n",
       "  1.8323657512664795,\n",
       "  1.2962567806243896],\n",
       " [0.8229602575302124,\n",
       "  1.4416959285736084,\n",
       "  1.9658347368240356,\n",
       "  1.2928388118743896],\n",
       " [0.8800448775291443, 1.3010174036026, 1.9924670457839966, 1.2525863647460938],\n",
       " [0.810002326965332,\n",
       "  1.3838090896606445,\n",
       "  2.2199926376342773,\n",
       "  1.310076355934143],\n",
       " [0.9191523194313049,\n",
       "  1.2368559837341309,\n",
       "  2.1230781078338623,\n",
       "  1.3673664331436157],\n",
       " [0.819007933139801,\n",
       "  1.3547263145446777,\n",
       "  2.113858222961426,\n",
       "  1.3521028757095337],\n",
       " [0.9060888886451721,\n",
       "  1.2430899143218994,\n",
       "  2.3052399158477783,\n",
       "  1.2965002059936523],\n",
       " [0.8638473153114319,\n",
       "  1.4312502145767212,\n",
       "  2.331486701965332,\n",
       "  1.2045061588287354],\n",
       " [0.8547900915145874,\n",
       "  1.3014805316925049,\n",
       "  2.987454414367676,\n",
       "  1.2837270498275757],\n",
       " [0.8672727942466736,\n",
       "  1.2630763053894043,\n",
       "  3.4141523838043213,\n",
       "  1.2899940013885498],\n",
       " [0.8585145473480225,\n",
       "  1.2957249879837036,\n",
       "  3.0212135314941406,\n",
       "  1.2947001457214355],\n",
       " [0.8161418437957764,\n",
       "  1.3180643320083618,\n",
       "  3.176696300506592,\n",
       "  1.2480409145355225],\n",
       " [0.8603163957595825,\n",
       "  1.302321195602417,\n",
       "  3.0468876361846924,\n",
       "  1.2564655542373657],\n",
       " [0.9360082745552063,\n",
       "  1.0937548875808716,\n",
       "  3.0267374515533447,\n",
       "  1.3462241888046265],\n",
       " [0.8008798360824585,\n",
       "  1.2707523107528687,\n",
       "  3.4056007862091064,\n",
       "  1.3276861906051636],\n",
       " [0.8594471216201782,\n",
       "  1.1499072313308716,\n",
       "  3.505633592605591,\n",
       "  1.259091854095459],\n",
       " [0.8561739921569824,\n",
       "  1.3148897886276245,\n",
       "  3.384519577026367,\n",
       "  1.2521578073501587],\n",
       " [0.8786450624465942,\n",
       "  1.148563265800476,\n",
       "  3.5426719188690186,\n",
       "  1.2887187004089355],\n",
       " [0.9102984070777893,\n",
       "  1.180977702140808,\n",
       "  3.662294626235962,\n",
       "  1.3495054244995117],\n",
       " [0.9012715816497803,\n",
       "  1.278735637664795,\n",
       "  3.9783003330230713,\n",
       "  1.2794151306152344],\n",
       " [0.8772254586219788,\n",
       "  1.223985195159912,\n",
       "  4.330445766448975,\n",
       "  1.1884046792984009],\n",
       " [0.9015682339668274,\n",
       "  1.1791021823883057,\n",
       "  4.016104221343994,\n",
       "  1.2148674726486206],\n",
       " [0.9984030723571777,\n",
       "  1.0595409870147705,\n",
       "  4.142508506774902,\n",
       "  1.3566045761108398],\n",
       " [1.0097291469573975,\n",
       "  1.0496412515640259,\n",
       "  4.661198139190674,\n",
       "  1.3730772733688354],\n",
       " [0.9858686327934265,\n",
       "  1.3168312311172485,\n",
       "  3.812196731567383,\n",
       "  1.2100563049316406],\n",
       " [0.908311128616333,\n",
       "  1.2249037027359009,\n",
       "  4.359959602355957,\n",
       "  1.2312726974487305]]"
      ]
     },
     "execution_count": 16,
     "metadata": {},
     "output_type": "execute_result"
    }
   ],
   "source": [
    "batch_losses_vec"
   ]
  },
  {
   "cell_type": "code",
   "execution_count": 17,
   "metadata": {},
   "outputs": [
    {
     "data": {
      "text/plain": [
       "<matplotlib.legend.Legend at 0x7f138ccefcc0>"
      ]
     },
     "execution_count": 17,
     "metadata": {},
     "output_type": "execute_result"
    },
    {
     "data": {
      "image/png": "[encoded data removed]",
      "text/plain": [
       "<Figure size 432x288 with 1 Axes>"
      ]
     },
     "metadata": {},
     "output_type": "display_data"
    }
   ],
   "source": [
    "plt.plot([x[0] for x in batch_losses_vec], color='blue', label='0')\n",
    "plt.plot([x[1] for x in batch_losses_vec], color='green', label='1')\n",
    "# plt.plot([x[2] for x in batch_losses_vec], color='red', label='2')\n",
    "plt.plot([x[3] for x in batch_losses_vec], color='orange', label='3')\n",
    "plt.plot(meanlossesarr, color='black', label='mean')\n",
    "plt.title(f'validation losses  (model {ts})')\n",
    "plt.legend()    "
   ]
  }
 ],
 "metadata": {
  "kernelspec": {
   "display_name": "conda_tensorflow_p36",
   "language": "python",
   "name": "conda_tensorflow_p36"
  },
  "language_info": {
   "codemirror_mode": {
    "name": "ipython",
    "version": 3
   },
   "file_extension": ".py",
   "mimetype": "text/x-python",
   "name": "python",
   "nbconvert_exporter": "python",
   "pygments_lexer": "ipython3",
   "version": "3.6.5"
  }
 },
 "nbformat": 4,
 "nbformat_minor": 2
}
