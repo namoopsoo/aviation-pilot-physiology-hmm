{
 "cells": [
  {
   "cell_type": "code",
   "execution_count": 1,
   "metadata": {},
   "outputs": [
    {
     "name": "stdout",
     "output_type": "stream",
     "text": [
      "1.14.0\n"
     ]
    },
    {
     "name": "stderr",
     "output_type": "stream",
     "text": [
      "Using TensorFlow backend.\n"
     ]
    }
   ],
   "source": [
    "\n",
    "from importlib import reload\n",
    "import os\n",
    "import pandas as pd\n",
    "from io import StringIO\n",
    "import itertools\n",
    "import ipdb\n",
    "import datetime\n",
    "from collections import Counter\n",
    "\n",
    "import h5py\n",
    "import json\n",
    "import tensorflow as tf\n",
    "from tensorflow import keras\n",
    "\n",
    "# Helper libraries\n",
    "import numpy as np\n",
    "import matplotlib.pyplot as plt\n",
    "from tqdm import tqdm\n",
    "import joblib\n",
    "print(tf.__version__)\n",
    "\n",
    "from keras.preprocessing import sequence\n",
    "from keras.models import Sequential\n",
    "from keras.layers import Dense, Embedding\n",
    "from keras.layers import LSTM\n",
    "\n",
    "from keras.callbacks import EarlyStopping\n",
    "\n",
    "from sklearn.preprocessing import StandardScaler\n",
    "from sklearn.preprocessing import MinMaxScaler\n",
    "import mytf.s3utils as msu\n",
    "import mytf.utils as mu\n",
    "import mytf.validation as mv\n",
    "import mytf.plot as mp"
   ]
  },
  {
   "cell_type": "code",
   "execution_count": 2,
   "metadata": {
    "collapsed": true
   },
   "outputs": [
    {
     "name": "stdout",
     "output_type": "stream",
     "text": [
      "tensorflow (2.0.0)                                - TensorFlow is an open\r\n",
      "                                                    source machine learning\r\n",
      "                                                    framework for everyone.\r\n",
      "  INSTALLED: 1.14.0\r\n",
      "  LATEST:    2.0.0\r\n",
      "tensorflow-qndex (0.0.22)                         - tensorflow-qnd x\r\n",
      "                                                    tensorflow-extenteten\r\n",
      "tensorflow-estimator (2.1.0)                      - TensorFlow Estimator.\r\n",
      "  INSTALLED: 1.14.0\r\n",
      "  LATEST:    2.1.0\r\n",
      "mesh-tensorflow (0.1.7)                           - Mesh TensorFlow\r\n",
      "tensorflow-io (0.10.0)                            - TensorFlow IO\r\n",
      "tensorflow-ops (0.0.0)                            - tensorflow-ops\r\n",
      "tensorflow-addons (0.6.0)                         - TensorFlow Addons.\r\n",
      "tensorflow-plot (0.3.2)                           - TensorFlow Plot\r\n",
      "tensorflow-lattice (0.9.9)                        - TensorFlow Lattice\r\n",
      "                                                    provides lattice models in\r\n",
      "                                                    TensorFlow\r\n",
      "tensorflow-datasets (1.3.2)                       - tensorflow/datasets is a\r\n",
      "                                                    library of datasets ready\r\n",
      "                                                    to use with TensorFlow.\r\n",
      "tensorflow-extenteten (0.0.22)                    - TensorFlow extention\r\n",
      "                                                    library\r\n",
      "tensorflow-compression (1.3)                      - Data compression in\r\n",
      "                                                    TensorFlow\r\n",
      "syft-tensorflow (0.1.0)                           - TensorFlow Bindings for\r\n",
      "                                                    PySyft\r\n",
      "cxflow-tensorflow (0.5.0)                         - TensorFlow extension for\r\n",
      "                                                    cxflow.\r\n",
      "tensorflow-k8s (0.0.2)                            - Tensorflow serving\r\n",
      "                                                    extension\r\n",
      "emloop-tensorflow (0.6.0)                         - TensorFlow extension for\r\n",
      "                                                    emloop.\r\n",
      "tensorflow-scientific (0.2.0.dev0)                - Scientific modeling in\r\n",
      "                                                    TensorFlow\r\n",
      "tensorflow-transform (0.15.0)                     - A library for data\r\n",
      "                                                    preprocessing with\r\n",
      "                                                    TensorFlow\r\n",
      "gmlsnets-tensorflow (0.1)                         - GMLS-Nets Tensorflow\r\n",
      "                                                    implementation\r\n",
      "tensorflow-tracer (1.1.0)                         - Runtime Tracing Library\r\n",
      "                                                    for TensorFlow\r\n",
      "dask-tensorflow (0.0.2)                           - Interactions between Dask\r\n",
      "                                                    and Tensorflow\r\n",
      "tensorflow-radam (0.15.0)                         - RAdam implemented in Keras\r\n",
      "                                                    & TensorFlow\r\n",
      "sagemaker-tensorflow (2.0.0.1.0.0)                - Amazon Sagemaker specific\r\n",
      "                                                    TensorFlow extensions.\r\n",
      "tensorflow-qnd (0.1.11)                           - Quick and Dirty TensorFlow\r\n",
      "                                                    command framework\r\n",
      "tensorflow-probability (0.8.0)                    - Probabilistic modeling and\r\n",
      "                                                    statistical inference in\r\n",
      "                                                    TensorFlow\r\n",
      "tensorflow-utils (0.1.0)                          - Classes and methods to\r\n",
      "                                                    make using TensorFlow\r\n",
      "                                                    easier\r\n",
      "tensorflow-ranking (0.2.1)                        - Pip package setup file for\r\n",
      "                                                    TensorFlow Ranking.\r\n",
      "tensorflow-determinism (0.3.0)                    - Tracking, debugging, and\r\n",
      "                                                    patching non-determinism\r\n",
      "                                                    in TensorFlow\r\n",
      "tensorflow-model (0.1.1)                          - Command-line tool to\r\n",
      "                                                    inspect TensorFlow models\r\n",
      "tensorflow-cpu-estimator (1.15.1)                 - TensorFlow Estimator.\r\n",
      "tensorflow-io-nightly (0.11.0.dev20191226032404)  - TensorFlow IO\r\n",
      "tensorflow-lattice-gpu (0.9.8)                    - TensorFlow Lattice\r\n",
      "                                                    provides lattice models in\r\n",
      "                                                    TensorFlow\r\n",
      "tensorflow-gpu (2.0.0)                            - TensorFlow is an open\r\n",
      "                                                    source machine learning\r\n",
      "                                                    framework for everyone.\r\n",
      "tensorflow-template (0.2)                         - A tensorflow template for\r\n",
      "                                                    quick starting a deep\r\n",
      "                                                    learning project.\r\n",
      "tensorflow-rocm (2.0.2)                           - TensorFlow is an open\r\n",
      "                                                    source machine learning\r\n",
      "                                                    framework for everyone.\r\n",
      "intel-tensorflow (2.0.0)                          - TensorFlow is an open\r\n",
      "                                                    source machine learning\r\n",
      "                                                    framework for everyone.\r\n",
      "tensorflow-font2char2word2sent2doc (0.0.12)       - TensorFlow implementation\r\n",
      "                                                    of Hierarchical Attention\r\n",
      "                                                    Networks for Document\r\n",
      "                                                    Classification\r\n",
      "tensorflow-cpu (1.15.0)                           - TensorFlow is an open\r\n",
      "                                                    source machine learning\r\n",
      "                                                    framework for everyone.\r\n",
      "tensorflow-rl (0.2.2)                             - tensorflow-rl: Modular\r\n",
      "                                                    Deep Reinforcement\r\n",
      "                                                    Learning Framework.\r\n",
      "tensorflow-federated (0.11.0)                     - TensorFlow Federated is an\r\n",
      "                                                    open-source federated\r\n",
      "                                                    learning framework.\r\n",
      "tensorflow-gan (2.0.0)                            - TF-GAN: A Generative\r\n",
      "                                                    Adversarial Networks\r\n",
      "                                                    library for TensorFlow.\r\n",
      "tensorflow-tflex (1.13.1rc2)                      - TensorFlow is an open\r\n",
      "                                                    source machine learning\r\n",
      "                                                    framework for everyone.\r\n",
      "tensorflow-aarch64 (1.2)                          - Tensorflow r1.2 for\r\n",
      "                                                    aarch64[arm64,pine64] CPU\r\n",
      "                                                    only.\r\n",
      "tensorflow-fedora28 (1.9.0rc0)                    - TensorFlow is an open\r\n",
      "                                                    source machine learning\r\n",
      "                                                    framework for everyone.\r\n",
      "tensorflow-encrypted (0.4.0)                      - Layer on top of TensorFlow\r\n",
      "                                                    for doing machine learning\r\n",
      "                                                    on encrypted data.\r\n",
      "silence-tensorflow (1.0.2)                        - Simple python package to\r\n",
      "                                                    shut up Tensorflow\r\n",
      "                                                    warnings and logs.\r\n",
      "tensorflow-text (2.0.1)                           - TF.Text is a TensorFlow\r\n",
      "                                                    library of text related\r\n",
      "                                                    ops, modules, and\r\n",
      "                                                    subgraphs.\r\n",
      "tensorflow-gpu-estimator (2.1.0)                  - TensorFlow Estimator\r\n",
      "                                                    (GPU).\r\n",
      "tensorflow-model-analysis (0.15.4)                - A library for analyzing\r\n",
      "                                                    TensorFlow models\r\n",
      "tensorflow-transform-canary (0.9.0)               - A library for data\r\n",
      "                                                    preprocessing with\r\n",
      "                                                    TensorFlow\r\n",
      "rav-tensorflow-transform (0.7.0.910)              - A library for data\r\n",
      "                                                    preprocessing with\r\n",
      "                                                    TensorFlow\r\n",
      "tensorflow-serving-api (2.0.0)                    - TensorFlow Serving Python\r\n",
      "                                                    API.\r\n",
      "  INSTALLED: 1.14.0\r\n",
      "  LATEST:    2.0.0\r\n",
      "tensorflow-serving-client (1.0.0)                 - Python client for\r\n",
      "                                                    tensorflow serving\r\n",
      "tensorflow-hub (0.7.0)                            - TensorFlow Hub is a\r\n",
      "                                                    library to foster the\r\n",
      "                                                    publication, discovery,\r\n",
      "                                                    and consumption of\r\n",
      "                                                    reusable parts of machine\r\n",
      "                                                    learning models.\r\n",
      "tensorflow-play (0.0.1)                           - The lightweight\r\n",
      "                                                    engineering TensorFlow\r\n",
      "                                                    wrapper for AI engineer.\r\n",
      "                                                    Write less, Reuse more,\r\n",
      "                                                    Scale easily.\r\n",
      "tensorflow-graphics (1.0.0)                       - A library that contains\r\n",
      "                                                    well defined, reusable and\r\n",
      "                                                    cleanly written graphics\r\n",
      "                                                    related ops and utility\r\n",
      "                                                    functions for TensorFlow.\r\n",
      "tensorflow-kernels (0.1.2)                        - A package with Tensorflow\r\n",
      "                                                    (both CPU and GPU)\r\n",
      "                                                    implementation of most\r\n",
      "                                                    popular Kernels for\r\n",
      "                                                    kernels methods (SVM,\r\n",
      "                                                    MKL...).\r\n",
      "tensorflow-estimator-2.0-preview (2.0.0)          - TensorFlow Estimator.\r\n",
      "tensorflow-io-2.0-preview (0.7.0.dev1369)         - TensorFlow IO\r\n",
      "ngraph-tensorflow-bridge (0.18.0)                 - Intel nGraph compiler and\r\n",
      "                                                    runtime for TensorFlow\r\n",
      "tensorflow-constrained-optimization (0.1)         - A library for performing\r\n",
      "                                                    constrained optimization\r\n",
      "                                                    in TensorFlow\r\n",
      "simple-tensorflow-serving (0.8.1.1)               - The simpler and easy-to-\r\n",
      "                                                    use serving service for\r\n",
      "                                                    TensorFlow models\r\n",
      "tensorflow-rocm-enhanced (0.0.1)                  - TensorFlow is an open\r\n",
      "                                                    source machine learning\r\n",
      "                                                    framework for everyone.\r\n",
      "tensorflow-serving-client-grpc (2.0)              - A prebuilt tensorflow\r\n",
      "                                                    serving client from the\r\n",
      "                                                    tensorflow serving proto\r\n",
      "                                                    files\r\n",
      "tensorflow-serving-api-gpu (2.0.0)                - TensorFlow Serving Python\r\n",
      "                                                    API.\r\n",
      "tensorflow-auto-detect (1.11.0)                   - Automatically install CPU\r\n",
      "                                                    or GPU tensorflow\r\n",
      "                                                    determined by looking for\r\n",
      "                                                    a CUDA installation.\r\n",
      "tensorflow-gcs-config (2.1.6)                     - TensorFlow operations for\r\n",
      "                                                    configuring access to GCS\r\n",
      "                                                    (Google Compute Storage)\r\n",
      "                                                    resources.\r\n",
      "tensorflow-object-detection-api (0.1.1)           - Tensorflow Object\r\n",
      "                                                    Detection Library Packaged\r\n",
      "tensorflow-serving-api-python3 (1.8.0)            - *UNOFFICIAL* TensorFlow\r\n",
      "                                                    Serving API libraries for\r\n",
      "                                                    Python3\r\n",
      "tensorflow-graphics-gpu (1.0.0)                   - A library that contains\r\n",
      "                                                    well defined, reusable and\r\n",
      "                                                    cleanly written graphics\r\n",
      "                                                    related ops and utility\r\n",
      "                                                    functions for TensorFlow.\r\n",
      "tensorflow-exercise-hx (1.0.1)                    - tensorflow&#32451;&#20064;\r\n",
      "                                                    &#65306;&#40482;&#23614;&#\r\n",
      "                                                    33457;&#31181;&#31867;&#39\r\n",
      "                                                    044;&#27979;&#65292;&#2115\r\n",
      "                                                    2;&#24030;&#25151;&#20215;\r\n",
      "                                                    &#39044;&#27979;\r\n",
      "bert-tensorflow (1.0.1)                           - BERT\r\n",
      "tensorflow-tensorboard (1.5.1)                    - TensorBoard lets you watch\r\n",
      "                                                    Tensors Flow\r\n",
      "xlnet-tensorflow (1.1.2)                          - XLNet fork of https://gith\r\n",
      "                                                    ub.com/zihangdai/xlnet\r\n",
      "                                                    with package configuration\r\n",
      "tensorflow-metadata (0.15.2)                      - Library and standards for\r\n",
      "                                                    schema and statistics.\r\n",
      "albert-tensorflow (1.1)                           - ALBERT fork of\r\n",
      "                                                    https://github.com/google-\r\n",
      "                                                    research/google-research/t\r\n",
      "                                                    ree/master/albert with\r\n",
      "                                                    package configuration\r\n",
      "resnet-tensorflow (0.0.1)                         - Deep Residual Neural\r\n",
      "                                                    Network\r\n",
      "tensorflow-privacy (0.2.2)                        - \r\n",
      "mlops-tensorflow (0.1.0)                          - \r\n",
      "tensorflow-gpu-macosx (1.8.1)                     - Unoffcial NVIDIA CUDA GPU\r\n",
      "                                                    support version of Google\r\n",
      "                                                    Tensorflow for MAC OSX\r\n",
      "                                                    10.13. For more info,\r\n",
      "                                                    please check out my github\r\n",
      "                                                    page. I highly recommend\r\n",
      "                                                    you directly download and\r\n",
      "                                                    install it from my\r\n",
      "                                                    github's release. If you\r\n",
      "                                                    insist on compiling it,\r\n",
      "                                                    you'd do it on a shell to\r\n",
      "                                                    debug.\r\n",
      "syntaxnet-with-tensorflow (0.2)                   - SyntaxNet: Neural Models\r\n",
      "                                                    of Syntax\r\n",
      "dffml-model-tensorflow (0.2.2)                    - \r\n",
      "tensorflow-data-validation (0.15.0)               - A library for exploring\r\n",
      "                                                    and validating machine\r\n",
      "                                                    learning data.\r\n",
      "tensorflow-model-optimization (0.2.1)             - A suite of tools that\r\n",
      "                                                    users, both novice and\r\n",
      "                                                    advanced can use to\r\n",
      "                                                    optimize machine learning\r\n",
      "                                                    models for deployment and\r\n",
      "                                                    execution.\r\n",
      "tensorflow-cpu-2.0-preview (0.0.0)                - \r\n",
      "PSCMRCET-Tensorflow-object-trainer (1.3.0)        - Custom Object training\r\n",
      "                                                    system can be done by\r\n",
      "                                                    using single command line\r\n",
      "ogres (0.0.2)                                     - Thin tensorflow wrapper.\r\n",
      "                                                    Requires tensorflow\r\n",
      "tfloop (0.4)                                      - tensorflow utils\r\n",
      "TFTree (0.1.7)                                    - Tree to tensorflow\r\n",
      "lfm-flow (0.0.2)                                  - LFM in TensorFlow\r\n",
      "tfa-nightly (0.7.0.dev20191219)                   - TensorFlow Addons.\r\n",
      "tfmesos (0.0.10)                                  - Tensorflow on Mesos\r\n",
      "TFBOYS (0.0.1)                                    - TensorFlow BOYS\r\n",
      "tf-estimator-nightly (2.0.0.dev2019122809)        - TensorFlow Estimator.\r\n",
      "easytf (13.9)                                     - Tensorflow CS\r\n",
      "tfdebugger (0.1.1)                                - TensorFlow Debugger\r\n",
      "tfextras (0.0.13)                                 - Tensorflow extras\r\n",
      "tfu (0.0.1.dev0)                                  - tensorflow utils\r\n",
      "tnt (0.12.0.7)                                    - tnt is not tensorflow\r\n",
      "tftf (0.0.29)                                     - TensorFlow TransFormer\r\n"
     ]
    }
   ],
   "source": [
    "!pip search tensorflow # oh wow so 2.0 is available to upgradE? hmm"
   ]
  },
  {
   "cell_type": "code",
   "execution_count": 3,
   "metadata": {},
   "outputs": [],
   "source": [
    "tf.enable_eager_execution()"
   ]
  },
  {
   "cell_type": "code",
   "execution_count": 4,
   "metadata": {},
   "outputs": [
    {
     "name": "stdout",
     "output_type": "stream",
     "text": [
      "['X', 'Ylabels']\n",
      "['X_0', 'X_1', 'X_2', 'X_3', 'Ylabels_0', 'Ylabels_1', 'Ylabels_2', 'Ylabels_3']\n"
     ]
    }
   ],
   "source": [
    "# Use datasets from \n",
    "# 2019-12-25.ipynb\n",
    "# \n",
    "# train ... new datasets, ...\n",
    "outdir = 'history/2019-12-22T174803Z'\n",
    "train_loc = f'{outdir}/train_balanced.h5'\n",
    "test_loc = f'{outdir}/test_balanced.h5'\n",
    "train_shuff_loc = f'{outdir}/train_scaled_balanced_shuffled.h5'\n",
    "print(mu.h5_keys(train_shuff_loc))\n",
    "print(mu.h5_keys(test_loc))\n",
    "\n",
    "X, Ylabels = mu.read_h5_two(\n",
    "                source_location=train_shuff_loc, \n",
    "                Xdataset=f'X',\n",
    "                Ydataset=f'Ylabels')"
   ]
  },
  {
   "cell_type": "code",
   "execution_count": 5,
   "metadata": {},
   "outputs": [
    {
     "name": "stdout",
     "output_type": "stream",
     "text": [
      "starting, 2019-12-29T000509Z\n",
      "Made new workdir, history/2019-12-29T000509Z\n"
     ]
    }
   ],
   "source": [
    "# Working dir... for new model\n",
    "save_dir = 'history'\n",
    "ts = mu.quickts(); print('starting,', ts)\n",
    "\n",
    "size = X.shape[0]\n",
    "workdir = f'{save_dir}/{ts}'\n",
    "os.mkdir(workdir)\n",
    "print(f'Made new workdir, {workdir}')"
   ]
  },
  {
   "cell_type": "code",
   "execution_count": 8,
   "metadata": {},
   "outputs": [
    {
     "name": "stderr",
     "output_type": "stream",
     "text": [
      "WARNING: Logging before flag parsing goes to stderr.\n",
      "W1229 00:14:51.874383 139851324434240 nn_ops.py:4224] Large dropout rate: 0.6 (>0.5). In TensorFlow 2.x, dropout() uses dropout rate instead of keep_prob. Please ensure that this is intended.\n",
      "W1229 00:14:51.900942 139851324434240 nn_ops.py:4224] Large dropout rate: 0.6 (>0.5). In TensorFlow 2.x, dropout() uses dropout rate instead of keep_prob. Please ensure that this is intended.\n",
      "W1229 00:14:52.016719 139851324434240 nn_ops.py:4224] Large dropout rate: 0.6 (>0.5). In TensorFlow 2.x, dropout() uses dropout rate instead of keep_prob. Please ensure that this is intended.\n",
      "W1229 00:14:52.035298 139851324434240 nn_ops.py:4224] Large dropout rate: 0.6 (>0.5). In TensorFlow 2.x, dropout() uses dropout rate instead of keep_prob. Please ensure that this is intended.\n",
      "W1229 00:14:52.054618 139851324434240 nn_ops.py:4224] Large dropout rate: 0.6 (>0.5). In TensorFlow 2.x, dropout() uses dropout rate instead of keep_prob. Please ensure that this is intended.\n"
     ]
    }
   ],
   "source": [
    "# Parameters..\n",
    "\n",
    "# 'batch_size'\n",
    "BATCH_SIZE = 32\n",
    "EPOCHS = 10\n",
    "# \n",
    "# ValueError: If a RNN is stateful, it needs to know its batch size. Specify the batch size of your input tensors: \n",
    "# - If using a Sequential model, specify the batch size by passing a `batch_input_shape` argument to your first layer.\n",
    "# - If using the functional API, specify the batch size by passing a `batch_shape` argument to your Input layer.\n",
    "\n",
    "lstm_params = [{\n",
    "    'units': 64,\n",
    "    'dropout': 0.6,\n",
    "    'recurrent_dropout': 0.6,\n",
    "    'batch_input_shape': (None, 64, 8),\n",
    "    },\n",
    "\n",
    "]\n",
    "\n",
    "optimizer_params = {\n",
    "    'learning_rate': 0.001,  \n",
    "    'beta1': 0.9, \n",
    "    'beta2': 0.999, \n",
    "    'epsilon': 1e-08\n",
    "}\n",
    "\n",
    "model = tf.keras.Sequential([\n",
    "    tf.keras.layers.LSTM(**lstm_params[0]),\n",
    "    # 4 because 'A', 'B', 'C', 'D'.\n",
    "    tf.keras.layers.Dense(4)])\n",
    "\n",
    "# save base unfitted model.\n",
    "mu.save_model(model=model, \n",
    "              loc=f'{workdir}/00000__unfitted_model.h5')"
   ]
  },
  {
   "cell_type": "code",
   "execution_count": 18,
   "metadata": {},
   "outputs": [
    {
     "name": "stdout",
     "output_type": "stream",
     "text": [
      "history/2019-12-29T000509Z\n"
     ]
    }
   ],
   "source": [
    "print(workdir)"
   ]
  },
  {
   "cell_type": "code",
   "execution_count": 20,
   "metadata": {
    "scrolled": true
   },
   "outputs": [
    {
     "data": {
      "text/plain": [
       "<module 'mytf.validation' from '/home/ec2-user/SageMaker/aviation-pilot-physiology-hmm/mytf/validation.py'>"
      ]
     },
     "execution_count": 20,
     "metadata": {},
     "output_type": "execute_result"
    }
   ],
   "source": [
    "reload(mv)"
   ]
  },
  {
   "cell_type": "code",
   "execution_count": 21,
   "metadata": {},
   "outputs": [
    {
     "data": {
      "text/plain": [
       "34980"
      ]
     },
     "execution_count": 21,
     "metadata": {},
     "output_type": "execute_result"
    }
   ],
   "source": [
    "size"
   ]
  },
  {
   "cell_type": "code",
   "execution_count": 22,
   "metadata": {},
   "outputs": [
    {
     "name": "stderr",
     "output_type": "stream",
     "text": [
      "W1229 00:53:09.156462 139851324434240 hdf5_format.py:221] No training configuration found in save file: the model was *not* compiled. Compile it manually.\n",
      "W1229 00:53:09.503507 139851324434240 deprecation_wrapper.py:119] From /home/ec2-user/SageMaker/aviation-pilot-physiology-hmm/mytf/utils.py:241: The name tf.train.AdamOptimizer is deprecated. Please use tf.compat.v1.train.AdamOptimizer instead.\n",
      "\n",
      "0it [00:00, ?it/s]W1229 00:53:09.909878 139851324434240 deprecation.py:323] From /home/ec2-user/anaconda3/envs/tensorflow_p36/lib/python3.6/site-packages/tensorflow/python/ops/losses/losses_impl.py:121: add_dispatch_support.<locals>.wrapper (from tensorflow.python.ops.array_ops) is deprecated and will be removed in a future version.\n",
      "Instructions for updating:\n",
      "Use tf.where in 2.0, which has the same broadcast rule as np.where\n",
      "1094it [07:37,  2.39it/s]\n",
      "1094it [07:41,  2.37it/s]\n",
      "1094it [07:41,  2.37it/s]\n",
      "1094it [07:43,  2.36it/s]\n",
      "1094it [07:43,  2.36it/s]\n",
      "1094it [07:38,  2.38it/s]\n",
      "1094it [07:39,  2.38it/s]\n",
      "1094it [07:38,  2.39it/s]\n",
      "1094it [07:40,  2.37it/s]\n",
      "1094it [07:47,  2.34it/s]"
     ]
    },
    {
     "name": "stdout",
     "output_type": "stream",
     "text": [
      "CPU times: user 1h 16min 56s, sys: 5.01 s, total: 1h 17min 1s\n",
      "Wall time: 1h 16min 53s\n"
     ]
    },
    {
     "name": "stderr",
     "output_type": "stream",
     "text": [
      "\n"
     ]
    }
   ],
   "source": [
    "%%time\n",
    "\n",
    "model = mu.load_model(f'{workdir}/00000__unfitted_model.h5')\n",
    "\n",
    "class_weights = {0: 1., 1: 1., 2: 1., 3: 1.}\n",
    "dataset_batches = mu.build_dataset_weighty_v3(\n",
    "        {'x_train': X,\n",
    "         'ylabels_train': Ylabels.astype('int64')},\n",
    "        list(range(size)), \n",
    "        class_weights,\n",
    "        batch_size=BATCH_SIZE)\n",
    "    \n",
    "#with ipdb.launch_ipdb_on_exception():\n",
    "mu.do_train(\n",
    "        model,\n",
    "        dataset_batches,\n",
    "        k=size,\n",
    "        epochs=EPOCHS,\n",
    "        optimizer_params=optimizer_params,\n",
    "        saveloc=workdir)"
   ]
  },
  {
   "cell_type": "code",
   "execution_count": 25,
   "metadata": {},
   "outputs": [
    {
     "data": {
      "text/plain": [
       "'history/2019-12-22T174803Z/test_balanced.h5'"
      ]
     },
     "execution_count": 25,
     "metadata": {},
     "output_type": "execute_result"
    }
   ],
   "source": [
    "test_loc"
   ]
  },
  {
   "cell_type": "code",
   "execution_count": null,
   "metadata": {},
   "outputs": [
    {
     "name": "stderr",
     "output_type": "stream",
     "text": [
      "\r",
      "  0%|          | 0/12 [00:00<?, ?it/s]"
     ]
    },
    {
     "name": "stdout",
     "output_type": "stream",
     "text": [
      "starting validation 2019-12-29T062045Z\n"
     ]
    },
    {
     "name": "stderr",
     "output_type": "stream",
     "text": [
      "W1229 06:20:46.112020 139851324434240 hdf5_format.py:221] No training configuration found in save file: the model was *not* compiled. Compile it manually.\n",
      "W1229 06:20:46.749158 139851324434240 deprecation_wrapper.py:119] From /home/ec2-user/SageMaker/aviation-pilot-physiology-hmm/mytf/validation.py:23: The name tf.losses.sparse_softmax_cross_entropy is deprecated. Please use tf.compat.v1.losses.sparse_softmax_cross_entropy instead.\n",
      "\n",
      "  8%|▊         | 1/12 [06:31<1:11:50, 391.86s/it]W1229 06:27:17.756064 139851324434240 hdf5_format.py:221] No training configuration found in save file: the model was *not* compiled. Compile it manually.\n",
      " 17%|█▋        | 2/12 [13:01<1:05:12, 391.29s/it]W1229 06:33:47.600799 139851324434240 hdf5_format.py:221] No training configuration found in save file: the model was *not* compiled. Compile it manually.\n",
      " 25%|██▌       | 3/12 [19:32<58:41, 391.25s/it]  W1229 06:40:18.768350 139851324434240 hdf5_format.py:221] No training configuration found in save file: the model was *not* compiled. Compile it manually.\n",
      " 33%|███▎      | 4/12 [26:00<52:01, 390.18s/it]W1229 06:46:46.444807 139851324434240 hdf5_format.py:221] No training configuration found in save file: the model was *not* compiled. Compile it manually.\n",
      " 42%|████▏     | 5/12 [32:30<45:30, 390.04s/it]W1229 06:53:16.291861 139851324434240 hdf5_format.py:221] No training configuration found in save file: the model was *not* compiled. Compile it manually.\n",
      " 50%|█████     | 6/12 [38:58<38:57, 389.53s/it]W1229 06:59:44.647866 139851324434240 hdf5_format.py:221] No training configuration found in save file: the model was *not* compiled. Compile it manually.\n",
      " 58%|█████▊    | 7/12 [45:31<32:32, 390.52s/it]W1229 07:06:17.334051 139851324434240 hdf5_format.py:221] No training configuration found in save file: the model was *not* compiled. Compile it manually.\n",
      " 67%|██████▋   | 8/12 [52:02<26:02, 390.56s/it]W1229 07:12:47.974955 139851324434240 hdf5_format.py:221] No training configuration found in save file: the model was *not* compiled. Compile it manually.\n",
      " 75%|███████▌  | 9/12 [58:32<19:31, 390.37s/it]W1229 07:19:17.904666 139851324434240 hdf5_format.py:221] No training configuration found in save file: the model was *not* compiled. Compile it manually.\n",
      " 83%|████████▎ | 10/12 [1:04:59<12:58, 389.34s/it]W1229 07:25:44.845014 139851324434240 hdf5_format.py:221] No training configuration found in save file: the model was *not* compiled. Compile it manually.\n",
      " 92%|█████████▏| 11/12 [1:11:27<06:28, 388.93s/it]W1229 07:32:12.811667 139851324434240 hdf5_format.py:221] No training configuration found in save file: the model was *not* compiled. Compile it manually.\n",
      " 58%|█████▊    | 7/12 [45:34<32:28, 389.76s/it]W1229 14:55:53.740180 139851324434240 hdf5_format.py:221] No training configuration found in save file: the model was *not* compiled. Compile it manually.\n",
      " 67%|██████▋   | 8/12 [52:04<25:59, 389.88s/it]W1229 15:02:23.900037 139851324434240 hdf5_format.py:221] No training configuration found in save file: the model was *not* compiled. Compile it manually.\n"
     ]
    }
   ],
   "source": [
    "print('starting validation', mu.quickts())\n",
    "batch_losses_vec = []\n",
    "\n",
    "for epoch in range(10):\n",
    "    for batch in tqdm([0, 100, 200, 300, 400, 500, 600, \n",
    "                      700, 800, 900, 1000, 1090]):\n",
    "        step = batch\n",
    "        prefix = (f'{workdir}/epoch_{str(epoch).zfill(3)}'\n",
    "                               f'_batch_{str(batch).zfill(5)}')\n",
    "\n",
    "        modelname = f'{prefix}_model.h5'\n",
    "        #print(modelname, os.path.exists(modelname))\n",
    "        \n",
    "        steploss = mv.perf_wrapper(modelname,\n",
    "                                   dataloc=test_loc,\n",
    "                                   eager=True,\n",
    "                                  batch_size=32)\n",
    "        batch_losses_vec.append([float(x) for x in steploss])\n",
    "        mv.json_save({'batch_losses_vec': batch_losses_vec,\n",
    "                      'step': int(step)\n",
    "                  }, \n",
    "                  f'{prefix}_validation_losses.json')\n",
    "    \n",
    "print('done validation', mu.quickts())\n",
    "#####\n",
    "lossesarr = np.array(batch_losses_vec)\n",
    "meanlossesarr = np.mean(lossesarr, axis=1)\n",
    "\n",
    "batch_losses_vec[:5]\n",
    "#batch_losses_vec = []\n",
    "#for step in np.arange(0, 1068, 10):\n",
    "# [2.8359528, 0.45356295, 1.7049086, 4.099845]\n",
    "\n",
    "plt.plot([x[0] for x in batch_losses_vec], color='blue', label='0')\n",
    "plt.plot([x[1] for x in batch_losses_vec], color='green', label='1')\n",
    "plt.plot([x[2] for x in batch_losses_vec], color='red', label='2')\n",
    "plt.plot([x[3] for x in batch_losses_vec], color='orange', label='3')\n",
    "plt.plot(meanlossesarr, color='black', label='mean')\n",
    "plt.title(f'validation losses  (model {ts})')\n",
    "plt.legend()     \n",
    "        "
   ]
  },
  {
   "cell_type": "code",
   "execution_count": null,
   "metadata": {},
   "outputs": [],
   "source": []
  }
 ],
 "metadata": {
  "kernelspec": {
   "display_name": "conda_tensorflow_p36",
   "language": "python",
   "name": "conda_tensorflow_p36"
  },
  "language_info": {
   "codemirror_mode": {
    "name": "ipython",
    "version": 3
   },
   "file_extension": ".py",
   "mimetype": "text/x-python",
   "name": "python",
   "nbconvert_exporter": "python",
   "pygments_lexer": "ipython3",
   "version": "3.6.5"
  }
 },
 "nbformat": 4,
 "nbformat_minor": 2
}
