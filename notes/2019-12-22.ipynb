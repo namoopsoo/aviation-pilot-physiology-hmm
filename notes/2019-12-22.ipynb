{
 "cells": [
  {
   "cell_type": "code",
   "execution_count": 1,
   "metadata": {},
   "outputs": [
    {
     "name": "stdout",
     "output_type": "stream",
     "text": [
      "1.14.0\n"
     ]
    },
    {
     "name": "stderr",
     "output_type": "stream",
     "text": [
      "Using TensorFlow backend.\n"
     ]
    }
   ],
   "source": [
    "\n",
    "from importlib import reload\n",
    "import os\n",
    "import pandas as pd\n",
    "from io import StringIO\n",
    "import itertools\n",
    "import ipdb\n",
    "import datetime\n",
    "from collections import Counter\n",
    "\n",
    "import h5py\n",
    "import json\n",
    "import tensorflow as tf\n",
    "from tensorflow import keras\n",
    "\n",
    "# Helper libraries\n",
    "import numpy as np\n",
    "import matplotlib.pyplot as plt\n",
    "from tqdm import tqdm\n",
    "import joblib\n",
    "print(tf.__version__)\n",
    "\n",
    "from keras.preprocessing import sequence\n",
    "from keras.models import Sequential\n",
    "from keras.layers import Dense, Embedding\n",
    "from keras.layers import LSTM\n",
    "\n",
    "from keras.callbacks import EarlyStopping\n",
    "\n",
    "from sklearn.preprocessing import StandardScaler\n",
    "from sklearn.preprocessing import MinMaxScaler\n",
    "import mytf.s3utils as msu\n",
    "import mytf.utils as mu\n",
    "import mytf.plot as mp"
   ]
  },
  {
   "cell_type": "code",
   "execution_count": 2,
   "metadata": {},
   "outputs": [],
   "source": [
    "tf.enable_eager_execution()"
   ]
  },
  {
   "cell_type": "code",
   "execution_count": 3,
   "metadata": {},
   "outputs": [
    {
     "name": "stdout",
     "output_type": "stream",
     "text": [
      "['X_0', 'X_1', 'X_2', 'X_3', 'Ylabels_0', 'Ylabels_1', 'Ylabels_2', 'Ylabels_3']\n",
      "['X_0', 'X_1', 'X_2', 'X_3', 'Ylabels_0', 'Ylabels_1', 'Ylabels_2', 'Ylabels_3']\n"
     ]
    }
   ],
   "source": [
    "# train ... new datasets, ...\n",
    "outdir = 'history/2019-12-22T174803Z'\n",
    "train_loc = f'{outdir}/train_balanced.h5'\n",
    "test_loc = f'{outdir}/test_balanced.h5'\n",
    "\n",
    "print(mu.h5_keys(train_loc))\n",
    "print(mu.h5_keys(test_loc))"
   ]
  },
  {
   "cell_type": "code",
   "execution_count": 4,
   "metadata": {},
   "outputs": [
    {
     "name": "stdout",
     "output_type": "stream",
     "text": [
      "34980\n"
     ]
    }
   ],
   "source": [
    "# Grab and randomize since it's not huge...\n",
    "vecs = [mu.read_h5_two(\n",
    "                source_location=train_loc, \n",
    "                Xdataset=f'X_{i}',\n",
    "                Ydataset=f'Ylabels_{i}')\n",
    "                 for i in [0, 1, 2, 3]]\n",
    "\n",
    "X_train = np.concatenate([x[0] for x in vecs])\n",
    "Ylabels_train = np.concatenate([x[1] for x in vecs])\n",
    "\n",
    "# Shuffle...\n",
    "size = X_train.shape[0]\n",
    "print(size)\n",
    "indices = np.random.choice(range(size), size=size, replace=False)\n",
    "X_train_shfl = X_train[indices]\n",
    "Ylabels_train_shfl = Ylabels_train[indices].astype('int64')\n",
    "\n",
    "X = X_train_shfl\n",
    "Ylabels = Ylabels_train_shfl\n"
   ]
  },
  {
   "cell_type": "code",
   "execution_count": 5,
   "metadata": {},
   "outputs": [
    {
     "name": "stdout",
     "output_type": "stream",
     "text": [
      "starting, 2019-12-22T234352Z\n",
      "Made new workdir, history/2019-12-22T234352Z\n",
      "Ylabels, : Counter({0: 10230, 3: 8839, 2: 8286, 1: 7625})\n",
      "num slices 1093\n",
      "size_remainder,  4\n"
     ]
    },
    {
     "name": "stderr",
     "output_type": "stream",
     "text": [
      "/home/ec2-user/SageMaker/aviation-pilot-physiology-hmm/mytf/utils.py:185: RuntimeWarning: divide by zero encountered in true_divide\n",
      "  )/class_counts\n",
      "WARNING: Logging before flag parsing goes to stderr.\n",
      "W1222 23:43:53.064705 139892131759936 deprecation_wrapper.py:119] From /home/ec2-user/SageMaker/aviation-pilot-physiology-hmm/mytf/utils.py:238: The name tf.train.AdamOptimizer is deprecated. Please use tf.compat.v1.train.AdamOptimizer instead.\n",
      "\n",
      "0it [00:00, ?it/s]W1222 23:43:53.500033 139892131759936 deprecation_wrapper.py:119] From /home/ec2-user/SageMaker/aviation-pilot-physiology-hmm/mytf/utils.py:246: The name tf.losses.sparse_softmax_cross_entropy is deprecated. Please use tf.compat.v1.losses.sparse_softmax_cross_entropy instead.\n",
      "\n",
      "W1222 23:43:53.516241 139892131759936 deprecation.py:323] From /home/ec2-user/anaconda3/envs/tensorflow_p36/lib/python3.6/site-packages/tensorflow/python/ops/losses/losses_impl.py:121: add_dispatch_support.<locals>.wrapper (from tensorflow.python.ops.array_ops) is deprecated and will be removed in a future version.\n",
      "Instructions for updating:\n",
      "Use tf.where in 2.0, which has the same broadcast rule as np.where\n",
      "1094it [07:43,  2.36it/s]"
     ]
    },
    {
     "name": "stdout",
     "output_type": "stream",
     "text": [
      "CPU times: user 7min 43s, sys: 883 ms, total: 7min 44s\n",
      "Wall time: 7min 44s\n"
     ]
    },
    {
     "name": "stderr",
     "output_type": "stream",
     "text": [
      "\n"
     ]
    }
   ],
   "source": [
    "%%time \n",
    "# Train..\n",
    "\n",
    "loss_history = []\n",
    "validation_loss_history = []\n",
    "save_dir = 'history'\n",
    "BATCH_SIZE = 32\n",
    "ts = mu.quickts(); print('starting,', ts)\n",
    "\n",
    "size = X.shape[0]\n",
    "workdir = f'{save_dir}/{ts}'\n",
    "os.mkdir(workdir)\n",
    "print(f'Made new workdir, {workdir}')\n",
    "print('Ylabels, :', Counter(Ylabels))\n",
    "\n",
    "model = tf.keras.Sequential([\n",
    "    tf.keras.layers.LSTM(64,   dropout=0.2, recurrent_dropout=0.2,\n",
    "                batch_input_shape=(None, 64, 8), \n",
    "              ),\n",
    "    # 4 because 'A', 'B', 'C', 'D'.\n",
    "    tf.keras.layers.Dense(4)])\n",
    "\n",
    "class_weights = {0: 1., 1: 1., 2: 1., 3: 1.}\n",
    "dataset_batches = mu.build_dataset_weighty_v3(\n",
    "        {'x_train': X,\n",
    "         'ylabels_train': Ylabels},\n",
    "        list(range(size)), \n",
    "        class_weights,\n",
    "        batch_size=BATCH_SIZE)\n",
    "    \n",
    "with ipdb.launch_ipdb_on_exception():\n",
    "    mu.do_train(\n",
    "        model,\n",
    "        dataset_batches,\n",
    "        k=size,\n",
    "        saveloc=workdir)\n",
    "    \n",
    "    "
   ]
  },
  {
   "cell_type": "code",
   "execution_count": 6,
   "metadata": {},
   "outputs": [
    {
     "data": {
      "text/plain": [
       "[<matplotlib.lines.Line2D at 0x7f3a9a22b6d8>]"
      ]
     },
     "execution_count": 6,
     "metadata": {},
     "output_type": "execute_result"
    },
    {
     "data": {
      "image/png": "[encoded data removed]",
      "text/plain": [
       "<Figure size 432x288 with 1 Axes>"
      ]
     },
     "metadata": {},
     "output_type": "display_data"
    }
   ],
   "source": [
    "# history/2019-12-22T234352Z/00455_train_loss_history.json\n",
    "#01068_train_loss_history.json\n",
    "historydir = 'history'\n",
    "with open(f'{historydir}/{ts}/01093_train_loss_history.json') as fd:\n",
    "    losshistory = json.load(fd)\n",
    "    \n",
    "plt.plot(losshistory) "
   ]
  },
  {
   "cell_type": "code",
   "execution_count": 8,
   "metadata": {},
   "outputs": [],
   "source": [
    "# And just to get some quick results I can look at test loss, \n",
    "# for just one or two models.. maybe like 25% perhaps.\n",
    "reload(mu)\n",
    "import mytf.validation as mv"
   ]
  },
  {
   "cell_type": "code",
   "execution_count": 9,
   "metadata": {},
   "outputs": [
    {
     "data": {
      "text/plain": [
       "'2019-12-22T234352Z'"
      ]
     },
     "execution_count": 9,
     "metadata": {},
     "output_type": "execute_result"
    }
   ],
   "source": [
    "ts"
   ]
  },
  {
   "cell_type": "code",
   "execution_count": null,
   "metadata": {
    "scrolled": true
   },
   "outputs": [
    {
     "name": "stderr",
     "output_type": "stream",
     "text": [
      "\n",
      "  0%|          | 0/110 [00:00<?, ?it/s]\u001b[AW1223 00:20:03.461598 139892131759936 hdf5_format.py:221] No training configuration found in save file: the model was *not* compiled. Compile it manually.\n",
      "\n",
      "  1%|          | 1/110 [02:12<4:01:22, 132.86s/it]\u001b[AW1223 00:22:16.242340 139892131759936 hdf5_format.py:221] No training configuration found in save file: the model was *not* compiled. Compile it manually.\n",
      "\n",
      "  2%|▏         | 2/110 [04:25<3:59:00, 132.78s/it]\u001b[AW1223 00:24:28.833395 139892131759936 hdf5_format.py:221] No training configuration found in save file: the model was *not* compiled. Compile it manually.\n",
      "\n",
      "  3%|▎         | 3/110 [06:38<3:56:49, 132.80s/it]\u001b[AW1223 00:26:41.550740 139892131759936 hdf5_format.py:221] No training configuration found in save file: the model was *not* compiled. Compile it manually.\n",
      "\n",
      "  4%|▎         | 4/110 [08:52<3:55:10, 133.12s/it]\u001b[AW1223 00:28:55.412047 139892131759936 hdf5_format.py:221] No training configuration found in save file: the model was *not* compiled. Compile it manually.\n",
      "\n",
      "  5%|▍         | 5/110 [11:02<3:51:33, 132.32s/it]\u001b[AW1223 00:31:06.005215 139892131759936 hdf5_format.py:221] No training configuration found in save file: the model was *not* compiled. Compile it manually.\n",
      "\n",
      "  5%|▌         | 6/110 [13:14<3:49:04, 132.16s/it]\u001b[AW1223 00:33:17.659362 139892131759936 hdf5_format.py:221] No training configuration found in save file: the model was *not* compiled. Compile it manually.\n",
      "\n",
      "  6%|▋         | 7/110 [15:25<3:46:27, 131.92s/it]\u001b[AW1223 00:35:29.171303 139892131759936 hdf5_format.py:221] No training configuration found in save file: the model was *not* compiled. Compile it manually.\n",
      "\n",
      "  7%|▋         | 8/110 [17:37<3:44:05, 131.81s/it]\u001b[AW1223 00:37:40.589338 139892131759936 hdf5_format.py:221] No training configuration found in save file: the model was *not* compiled. Compile it manually.\n",
      "\n",
      "  8%|▊         | 9/110 [19:47<3:40:56, 131.25s/it]\u001b[AW1223 00:39:50.541056 139892131759936 hdf5_format.py:221] No training configuration found in save file: the model was *not* compiled. Compile it manually.\n",
      "\n",
      "  9%|▉         | 10/110 [22:00<3:39:33, 131.73s/it]\u001b[AW1223 00:42:03.380349 139892131759936 hdf5_format.py:221] No training configuration found in save file: the model was *not* compiled. Compile it manually.\n",
      "\n",
      " 10%|█         | 11/110 [24:10<3:36:53, 131.45s/it]\u001b[AW1223 00:44:14.345908 139892131759936 hdf5_format.py:221] No training configuration found in save file: the model was *not* compiled. Compile it manually.\n",
      "\n",
      " 11%|█         | 12/110 [26:21<3:34:18, 131.20s/it]\u001b[AW1223 00:46:24.797396 139892131759936 hdf5_format.py:221] No training configuration found in save file: the model was *not* compiled. Compile it manually.\n",
      "\n",
      " 12%|█▏        | 13/110 [28:31<3:31:18, 130.70s/it]\u001b[AW1223 00:48:34.329407 139892131759936 hdf5_format.py:221] No training configuration found in save file: the model was *not* compiled. Compile it manually.\n",
      "\n",
      " 13%|█▎        | 14/110 [30:42<3:29:23, 130.87s/it]\u001b[AW1223 00:50:45.604370 139892131759936 hdf5_format.py:221] No training configuration found in save file: the model was *not* compiled. Compile it manually.\n",
      "\n",
      " 14%|█▎        | 15/110 [32:53<3:27:30, 131.06s/it]\u001b[AW1223 00:52:57.088065 139892131759936 hdf5_format.py:221] No training configuration found in save file: the model was *not* compiled. Compile it manually.\n",
      "\n",
      " 15%|█▍        | 16/110 [35:03<3:24:44, 130.68s/it]\u001b[AW1223 00:55:07.105223 139892131759936 hdf5_format.py:221] No training configuration found in save file: the model was *not* compiled. Compile it manually.\n",
      "\n",
      " 15%|█▌        | 17/110 [37:14<3:22:46, 130.82s/it]\u001b[AW1223 00:57:18.048866 139892131759936 hdf5_format.py:221] No training configuration found in save file: the model was *not* compiled. Compile it manually.\n",
      "\n",
      " 16%|█▋        | 18/110 [39:25<3:20:30, 130.77s/it]\u001b[AW1223 00:59:28.694748 139892131759936 hdf5_format.py:221] No training configuration found in save file: the model was *not* compiled. Compile it manually.\n",
      "\n",
      " 17%|█▋        | 19/110 [41:37<3:18:45, 131.05s/it]\u001b[AW1223 01:01:40.600356 139892131759936 hdf5_format.py:221] No training configuration found in save file: the model was *not* compiled. Compile it manually.\n",
      "\n",
      " 18%|█▊        | 20/110 [43:47<3:16:11, 130.80s/it]\u001b[AW1223 01:03:50.607681 139892131759936 hdf5_format.py:221] No training configuration found in save file: the model was *not* compiled. Compile it manually.\n",
      "\n",
      " 19%|█▉        | 21/110 [45:58<3:14:09, 130.89s/it]\u001b[AW1223 01:06:01.763936 139892131759936 hdf5_format.py:221] No training configuration found in save file: the model was *not* compiled. Compile it manually.\n",
      "\n",
      " 20%|██        | 22/110 [48:09<3:12:04, 130.96s/it]\u001b[AW1223 01:08:12.847074 139892131759936 hdf5_format.py:221] No training configuration found in save file: the model was *not* compiled. Compile it manually.\n",
      "\n",
      " 21%|██        | 23/110 [50:21<3:10:05, 131.10s/it]\u001b[AW1223 01:10:24.274317 139892131759936 hdf5_format.py:221] No training configuration found in save file: the model was *not* compiled. Compile it manually.\n",
      "\n",
      " 22%|██▏       | 24/110 [52:30<3:07:21, 130.72s/it]\u001b[AW1223 01:12:34.097663 139892131759936 hdf5_format.py:221] No training configuration found in save file: the model was *not* compiled. Compile it manually.\n",
      "\n",
      " 23%|██▎       | 25/110 [54:41<3:05:06, 130.67s/it]\u001b[AW1223 01:14:44.654529 139892131759936 hdf5_format.py:221] No training configuration found in save file: the model was *not* compiled. Compile it manually.\n",
      "\n",
      " 24%|██▎       | 26/110 [56:52<3:02:58, 130.69s/it]\u001b[AW1223 01:16:55.409348 139892131759936 hdf5_format.py:221] No training configuration found in save file: the model was *not* compiled. Compile it manually.\n",
      "\n",
      " 25%|██▍       | 27/110 [59:02<3:00:40, 130.61s/it]\u001b[AW1223 01:19:05.825870 139892131759936 hdf5_format.py:221] No training configuration found in save file: the model was *not* compiled. Compile it manually.\n",
      "\n",
      " 25%|██▌       | 28/110 [1:01:13<2:58:33, 130.65s/it]\u001b[AW1223 01:21:16.563803 139892131759936 hdf5_format.py:221] No training configuration found in save file: the model was *not* compiled. Compile it manually.\n",
      "\n",
      " 26%|██▋       | 29/110 [1:03:24<2:56:42, 130.89s/it]\u001b[AW1223 01:23:28.013748 139892131759936 hdf5_format.py:221] No training configuration found in save file: the model was *not* compiled. Compile it manually.\n",
      "\n",
      " 27%|██▋       | 30/110 [1:05:35<2:54:30, 130.88s/it]\u001b[AW1223 01:25:38.875652 139892131759936 hdf5_format.py:221] No training configuration found in save file: the model was *not* compiled. Compile it manually.\n",
      "\n",
      " 28%|██▊       | 31/110 [1:07:46<2:52:21, 130.90s/it]\u001b[AW1223 01:27:49.834224 139892131759936 hdf5_format.py:221] No training configuration found in save file: the model was *not* compiled. Compile it manually.\n",
      "\n",
      " 29%|██▉       | 32/110 [1:09:58<2:50:25, 131.09s/it]\u001b[AW1223 01:30:01.381384 139892131759936 hdf5_format.py:221] No training configuration found in save file: the model was *not* compiled. Compile it manually.\n",
      "\n",
      " 30%|███       | 33/110 [1:12:12<2:49:37, 132.18s/it]\u001b[AW1223 01:32:16.069734 139892131759936 hdf5_format.py:221] No training configuration found in save file: the model was *not* compiled. Compile it manually.\n",
      "\n",
      " 31%|███       | 34/110 [1:14:23<2:46:56, 131.80s/it]\u001b[AW1223 01:34:26.992713 139892131759936 hdf5_format.py:221] No training configuration found in save file: the model was *not* compiled. Compile it manually.\n",
      "\n",
      " 32%|███▏      | 35/110 [1:16:34<2:44:13, 131.37s/it]\u001b[AW1223 01:36:37.393057 139892131759936 hdf5_format.py:221] No training configuration found in save file: the model was *not* compiled. Compile it manually.\n",
      "\n",
      " 33%|███▎      | 36/110 [1:18:45<2:42:11, 131.50s/it]\u001b[AW1223 01:38:49.179991 139892131759936 hdf5_format.py:221] No training configuration found in save file: the model was *not* compiled. Compile it manually.\n"
     ]
    }
   ],
   "source": [
    "%%time\n",
    "\n",
    "batch_losses_vec = []\n",
    "#sess = tf.Session()\n",
    "#with sess.as_default():\n",
    "for step in tqdm(np.arange(0, 1094, 10)):\n",
    "    #print(step)\n",
    "    modelname = f'history/{ts}/{str(step).zfill(5)}_model.h5'\n",
    "    #print(modelname)\n",
    "    steploss = mv.perf_wrapper(modelname,\n",
    "                               dataloc=test_loc,\n",
    "                               eager=True)\n",
    "    #print('steploss, ', steploss)\n",
    "    batch_losses_vec.append([float(x) for x in steploss])\n",
    "    mv.json_save({'batch_losses_vec': batch_losses_vec,\n",
    "                  'step': int(step)\n",
    "              }, \n",
    "              f'history/{ts}/{str(step).zfill(5)}_validation_losses.json')"
   ]
  },
  {
   "cell_type": "code",
   "execution_count": 19,
   "metadata": {},
   "outputs": [
    {
     "data": {
      "text/plain": [
       "110"
      ]
     },
     "execution_count": 19,
     "metadata": {},
     "output_type": "execute_result"
    }
   ],
   "source": [
    "len(batch_losses_vec)"
   ]
  },
  {
   "cell_type": "code",
   "execution_count": null,
   "metadata": {},
   "outputs": [],
   "source": [
    "# ^^ started at 2019-12-23T00:14:40UTC\n",
    "# (false start)\n",
    "#  new start 2019-12-23T00:20:03 ..\n",
    "#\n",
    "# also what does this mean ? .. is that why this is so slow?\n",
    "# No training configuration found in save file: the model was *not* compiled. \n",
    "#        Compile it manually."
   ]
  },
  {
   "cell_type": "code",
   "execution_count": 20,
   "metadata": {},
   "outputs": [
    {
     "data": {
      "text/plain": [
       "<matplotlib.legend.Legend at 0x7f3a59abaa90>"
      ]
     },
     "execution_count": 20,
     "metadata": {},
     "output_type": "execute_result"
    },
    {
     "data": {
      "image/png": "[encoded data removed]",
      "text/plain": [
       "<Figure size 432x288 with 1 Axes>"
      ]
     },
     "metadata": {},
     "output_type": "display_data"
    }
   ],
   "source": [
    "# .... hopefully if some of that stuff finishes ..\n",
    "# I can run this ... \n",
    "lossesarr = np.array(batch_losses_vec)\n",
    "meanlossesarr = np.mean(lossesarr, axis=1)\n",
    "\n",
    "batch_losses_vec[:5]\n",
    "#batch_losses_vec = []\n",
    "#for step in np.arange(0, 1068, 10):\n",
    "# [2.8359528, 0.45356295, 1.7049086, 4.099845]\n",
    "\n",
    "plt.plot([x[0] for x in batch_losses_vec], color='blue', label='0')\n",
    "plt.plot([x[1] for x in batch_losses_vec], color='green', label='1')\n",
    "plt.plot([x[2] for x in batch_losses_vec], color='red', label='2')\n",
    "plt.plot([x[3] for x in batch_losses_vec], color='orange', label='3')\n",
    "plt.plot(meanlossesarr, color='black', label='mean')\n",
    "plt.title(f'validation losses \\n after applying MinMax0,1 \\n (model {ts})')\n",
    "plt.legend()\n",
    "#plt.plot\n"
   ]
  }
 ],
 "metadata": {
  "kernelspec": {
   "display_name": "conda_tensorflow_p36",
   "language": "python",
   "name": "conda_tensorflow_p36"
  },
  "language_info": {
   "codemirror_mode": {
    "name": "ipython",
    "version": 3
   },
   "file_extension": ".py",
   "mimetype": "text/x-python",
   "name": "python",
   "nbconvert_exporter": "python",
   "pygments_lexer": "ipython3",
   "version": "3.6.5"
  }
 },
 "nbformat": 4,
 "nbformat_minor": 2
}
