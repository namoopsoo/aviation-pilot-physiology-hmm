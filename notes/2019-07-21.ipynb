{
 "cells": [
  {
   "cell_type": "code",
   "execution_count": 1,
   "metadata": {},
   "outputs": [
    {
     "name": "stdout",
     "output_type": "stream",
     "text": [
      "True\n"
     ]
    }
   ],
   "source": [
    "# boiler plate\n",
    "from collections import Counter\n",
    "import pickle\n",
    "from importlib import reload\n",
    "import tensorflow as tf\n",
    "import numpy as np\n",
    "import matplotlib.pyplot as plt\n",
    "\n",
    "from sklearn.preprocessing import MinMaxScaler\n",
    "\n",
    "\n",
    "import ipdb\n",
    "import mytf.utils as mu\n",
    "\n",
    "tf.enable_eager_execution()\n",
    "\n",
    "print(tf.executing_eagerly())\n",
    "\n"
   ]
  },
  {
   "cell_type": "code",
   "execution_count": 2,
   "metadata": {},
   "outputs": [],
   "source": [
    "with open('models/2019-07-21T1815-UTC-outdata-SUBSET50k.pkl', 'rb') as fd:\n",
    "    julydata = pickle.load(fd)\n"
   ]
  },
  {
   "cell_type": "code",
   "execution_count": 3,
   "metadata": {},
   "outputs": [
    {
     "name": "stdout",
     "output_type": "stream",
     "text": [
      "training indices... (50000,)\n",
      "Start build v3: .. doesnt add up to 1.0\n",
      "num slices 50\n",
      "size_remainder,  0\n",
      "Counter({0: 532, 2: 396, 3: 50, 1: 22})\n",
      "weights_per_class,  tf.Tensor([0.0018797  0.05909091 0.00252525 0.015     ], shape=(4,), dtype=float32)\n",
      "994.0999999999995\n",
      "Counter({0: 544, 2: 383, 3: 59, 1: 14})\n",
      "weights_per_class,  tf.Tensor([0.00183824 0.09285714 0.00261097 0.01271186], shape=(4,), dtype=float32)\n",
      "989.4499999999998\n",
      "Counter({0: 507, 2: 419, 3: 55, 1: 19})\n",
      "weights_per_class,  tf.Tensor([0.00197239 0.06842105 0.00238663 0.01363636], shape=(4,), dtype=float32)\n",
      "991.9499999999996\n",
      "Counter({0: 501, 2: 432, 3: 45, 1: 22})\n",
      "weights_per_class,  tf.Tensor([0.00199601 0.05909091 0.00231481 0.01666667], shape=(4,), dtype=float32)\n",
      "995.3499999999995\n",
      "Counter({0: 524, 2: 423, 3: 36, 1: 17})\n",
      "weights_per_class,  tf.Tensor([0.0019084  0.07647058 0.00236407 0.02083333], shape=(4,), dtype=float32)\n",
      "996.0999999999998\n",
      "Counter({0: 539, 2: 382, 3: 57, 1: 22})\n",
      "weights_per_class,  tf.Tensor([0.00185529 0.05909091 0.0026178  0.01315789], shape=(4,), dtype=float32)\n",
      "992.3499999999997\n",
      "Counter({0: 521, 2: 414, 3: 50, 1: 15})\n",
      "weights_per_class,  tf.Tensor([0.00191939 0.08666667 0.00241546 0.015     ], shape=(4,), dtype=float32)\n",
      "992.0\n",
      "Counter({0: 541, 2: 393, 3: 45, 1: 21})\n",
      "weights_per_class,  tf.Tensor([0.00184843 0.06190476 0.00254453 0.01666667], shape=(4,), dtype=float32)\n",
      "995.0499999999995\n",
      "Counter({0: 565, 2: 363, 3: 50, 1: 22})\n",
      "weights_per_class,  tf.Tensor([0.00176991 0.05909091 0.00275482 0.015     ], shape=(4,), dtype=float32)\n",
      "994.0999999999995\n",
      "Counter({0: 531, 2: 380, 3: 64, 1: 25})\n",
      "weights_per_class,  tf.Tensor([0.00188324 0.052      0.00263158 0.01171875], shape=(4,), dtype=float32)\n",
      "991.4999999999995\n",
      "Counter({0: 515, 2: 419, 3: 47, 1: 19})\n",
      "weights_per_class,  tf.Tensor([0.00194175 0.06842105 0.00238663 0.01595745], shape=(4,), dtype=float32)\n",
      "993.9499999999996\n",
      "Counter({0: 526, 2: 404, 3: 58, 1: 12})\n",
      "weights_per_class,  tf.Tensor([0.00190114 0.10833333 0.00247525 0.01293103], shape=(4,), dtype=float32)\n",
      "989.0999999999998\n",
      "Counter({0: 513, 2: 418, 3: 52, 1: 17})\n",
      "weights_per_class,  tf.Tensor([0.00194932 0.07647058 0.00239234 0.01442308], shape=(4,), dtype=float32)\n",
      "992.0999999999997\n",
      "Counter({0: 535, 2: 396, 3: 51, 1: 18})\n",
      "weights_per_class,  tf.Tensor([0.00186916 0.07222222 0.00252525 0.01470588], shape=(4,), dtype=float32)\n",
      "992.6499999999999\n",
      "Counter({0: 548, 2: 389, 3: 45, 1: 18})\n",
      "weights_per_class,  tf.Tensor([0.00182482 0.07222222 0.00257069 0.01666667], shape=(4,), dtype=float32)\n",
      "994.1499999999999\n",
      "Counter({0: 546, 2: 380, 3: 54, 1: 20})\n",
      "weights_per_class,  tf.Tensor([0.0018315  0.065      0.00263158 0.01388889], shape=(4,), dtype=float32)\n",
      "992.4999999999997\n",
      "Counter({0: 522, 2: 396, 3: 55, 1: 27})\n",
      "weights_per_class,  tf.Tensor([0.00191571 0.04814815 0.00252525 0.01363636], shape=(4,), dtype=float32)\n",
      "994.3499999999997\n",
      "Counter({0: 519, 2: 419, 3: 47, 1: 15})\n",
      "weights_per_class,  tf.Tensor([0.00192678 0.08666667 0.00238663 0.01595745], shape=(4,), dtype=float32)\n",
      "992.7499999999998\n",
      "Counter({0: 523, 2: 416, 3: 43, 1: 18})\n",
      "weights_per_class,  tf.Tensor([0.00191205 0.07222222 0.00240385 0.01744186], shape=(4,), dtype=float32)\n",
      "994.6499999999997\n",
      "Counter({0: 542, 2: 398, 3: 37, 1: 23})\n",
      "weights_per_class,  tf.Tensor([0.00184502 0.05652174 0.00251256 0.02027027], shape=(4,), dtype=float32)\n",
      "997.6499999999996\n",
      "Counter({0: 520, 2: 403, 3: 54, 1: 23})\n",
      "weights_per_class,  tf.Tensor([0.00192308 0.05652174 0.00248139 0.01388889], shape=(4,), dtype=float32)\n",
      "993.3999999999996\n",
      "Counter({0: 520, 2: 401, 3: 65, 1: 14})\n",
      "weights_per_class,  tf.Tensor([0.00192308 0.09285714 0.00249377 0.01153846], shape=(4,), dtype=float32)\n",
      "987.9499999999996\n",
      "Counter({0: 513, 2: 420, 3: 53, 1: 14})\n",
      "weights_per_class,  tf.Tensor([0.00194932 0.09285714 0.00238095 0.01415094], shape=(4,), dtype=float32)\n",
      "990.9499999999998\n",
      "Counter({0: 496, 2: 417, 3: 67, 1: 20})\n",
      "weights_per_class,  tf.Tensor([0.00201613 0.065      0.00239808 0.01119403], shape=(4,), dtype=float32)\n",
      "989.2499999999998\n",
      "Counter({0: 499, 2: 433, 3: 49, 1: 19})\n",
      "weights_per_class,  tf.Tensor([0.00200401 0.06842105 0.00230947 0.01530612], shape=(4,), dtype=float32)\n",
      "993.4499999999997\n",
      "Counter({0: 508, 2: 427, 3: 50, 1: 15})\n",
      "weights_per_class,  tf.Tensor([0.0019685  0.08666667 0.00234192 0.015     ], shape=(4,), dtype=float32)\n",
      "991.9999999999998\n",
      "Counter({0: 516, 2: 406, 3: 56, 1: 22})\n",
      "weights_per_class,  tf.Tensor([0.00193798 0.05909091 0.00246305 0.01339286], shape=(4,), dtype=float32)\n",
      "992.5999999999997\n",
      "Counter({0: 516, 2: 407, 3: 58, 1: 19})\n",
      "weights_per_class,  tf.Tensor([0.00193798 0.06842105 0.002457   0.01293103], shape=(4,), dtype=float32)\n",
      "991.1999999999996\n",
      "Counter({0: 522, 2: 414, 3: 55, 1: 9})\n",
      "weights_per_class,  tf.Tensor([0.00191571 0.14444444 0.00241546 0.01363636], shape=(4,), dtype=float32)\n",
      "988.9499999999998\n",
      "Counter({0: 523, 2: 403, 3: 60, 1: 14})\n",
      "weights_per_class,  tf.Tensor([0.00191205 0.09285714 0.00248139 0.0125    ], shape=(4,), dtype=float32)\n",
      "989.1999999999997\n",
      "Counter({0: 504, 2: 410, 3: 68, 1: 18})\n",
      "weights_per_class,  tf.Tensor([0.00198413 0.07222222 0.00243902 0.01102941], shape=(4,), dtype=float32)\n",
      "988.3999999999996\n",
      "Counter({0: 504, 2: 428, 3: 55, 1: 13})\n",
      "weights_per_class,  tf.Tensor([0.00198413 0.09999999 0.00233645 0.01363636], shape=(4,), dtype=float32)\n",
      "990.1499999999996\n",
      "Counter({0: 516, 2: 418, 3: 53, 1: 13})\n",
      "weights_per_class,  tf.Tensor([0.00193798 0.09999999 0.00239234 0.01415094], shape=(4,), dtype=float32)\n",
      "990.6499999999999\n",
      "Counter({0: 539, 2: 389, 3: 56, 1: 16})\n",
      "weights_per_class,  tf.Tensor([0.00185529 0.08125    0.00257069 0.01339286], shape=(4,), dtype=float32)\n",
      "990.7999999999997\n",
      "Counter({0: 546, 2: 392, 3: 44, 1: 18})\n",
      "weights_per_class,  tf.Tensor([0.0018315  0.07222222 0.00255102 0.01704546], shape=(4,), dtype=float32)\n",
      "994.3999999999996\n",
      "Counter({0: 520, 2: 419, 3: 46, 1: 15})\n",
      "weights_per_class,  tf.Tensor([0.00192308 0.08666667 0.00238663 0.01630435], shape=(4,), dtype=float32)\n",
      "992.9999999999995\n",
      "Counter({0: 534, 2: 402, 3: 47, 1: 17})\n",
      "weights_per_class,  tf.Tensor([0.00187266 0.07647058 0.00248756 0.01595745], shape=(4,), dtype=float32)\n",
      "993.3499999999997\n",
      "Counter({0: 570, 2: 368, 3: 46, 1: 16})\n",
      "weights_per_class,  tf.Tensor([0.00175439 0.08125    0.00271739 0.01630435], shape=(4,), dtype=float32)\n",
      "993.2999999999998\n",
      "Counter({0: 518, 2: 416, 3: 53, 1: 13})\n",
      "weights_per_class,  tf.Tensor([0.0019305  0.09999999 0.00240385 0.01415094], shape=(4,), dtype=float32)\n",
      "990.6499999999999\n",
      "Counter({0: 520, 2: 412, 3: 49, 1: 19})\n",
      "weights_per_class,  tf.Tensor([0.00192308 0.06842105 0.00242718 0.01530612], shape=(4,), dtype=float32)\n",
      "993.4499999999996\n",
      "Counter({0: 510, 2: 419, 3: 52, 1: 19})\n",
      "weights_per_class,  tf.Tensor([0.00196078 0.06842105 0.00238663 0.01442308], shape=(4,), dtype=float32)\n",
      "992.6999999999998\n",
      "Counter({0: 533, 2: 409, 3: 44, 1: 14})\n",
      "weights_per_class,  tf.Tensor([0.00187617 0.09285714 0.00244499 0.01704546], shape=(4,), dtype=float32)\n",
      "993.1999999999998\n",
      "Counter({0: 525, 2: 403, 3: 49, 1: 23})\n",
      "weights_per_class,  tf.Tensor([0.00190476 0.05652174 0.00248139 0.01530612], shape=(4,), dtype=float32)\n",
      "994.6499999999996\n",
      "Counter({0: 549, 2: 380, 3: 53, 1: 18})\n",
      "weights_per_class,  tf.Tensor([0.00182149 0.07222222 0.00263158 0.01415094], shape=(4,), dtype=float32)\n",
      "992.1499999999995\n",
      "Counter({0: 525, 2: 397, 3: 65, 1: 13})\n",
      "weights_per_class,  tf.Tensor([0.00190476 0.09999999 0.00251889 0.01153846], shape=(4,), dtype=float32)\n",
      "987.6499999999999\n",
      "Counter({0: 525, 2: 400, 3: 52, 1: 23})\n",
      "weights_per_class,  tf.Tensor([0.00190476 0.05652174 0.0025     0.01442308], shape=(4,), dtype=float32)\n",
      "993.8999999999994\n",
      "Counter({0: 516, 2: 414, 3: 53, 1: 17})\n",
      "weights_per_class,  tf.Tensor([0.00193798 0.07647058 0.00241546 0.01415094], shape=(4,), dtype=float32)\n",
      "991.8499999999997\n",
      "Counter({0: 550, 2: 387, 3: 46, 1: 17})\n",
      "weights_per_class,  tf.Tensor([0.00181818 0.07647058 0.00258398 0.01630435], shape=(4,), dtype=float32)\n",
      "993.5999999999998\n",
      "Counter({0: 523, 2: 414, 3: 46, 1: 17})\n",
      "weights_per_class,  tf.Tensor([0.00191205 0.07647058 0.00241546 0.01630435], shape=(4,), dtype=float32)\n",
      "993.5999999999997\n",
      "Counter({0: 513, 2: 411, 3: 53, 1: 23})\n",
      "weights_per_class,  tf.Tensor([0.00194932 0.05652174 0.00243309 0.01415094], shape=(4,), dtype=float32)\n",
      "993.6499999999995\n"
     ]
    }
   ],
   "source": [
    "reload(mu)\n",
    "#Hand-tuned ... \n",
    "# Previous weights:\n",
    "# class_weights = {0: 1.0, 1: 1.3, 2: 1.0, 3: 0.55}\n",
    "\n",
    "# New weights:\n",
    "class_weights = {0: 1.0, 1: 1.3, 2: 1.0, 3: 0.75}\n",
    "training_indices = np.arange(0, julydata['x_train'].shape[0], 1)\n",
    "print('training indices...', training_indices.shape)\n",
    "\n",
    "dataset_batches = mu.build_dataset_weighty_v3(\n",
    "    julydata,\n",
    "    training_indices, \n",
    "    class_weights,\n",
    "    batch_size=1000)\n"
   ]
  },
  {
   "cell_type": "code",
   "execution_count": 4,
   "metadata": {},
   "outputs": [
    {
     "name": "stdout",
     "output_type": "stream",
     "text": [
      "WARNING:tensorflow:From /usr/local/miniconda3/envs/pandars3/lib/python3.7/site-packages/tensorflow/python/ops/tensor_array_ops.py:162: colocate_with (from tensorflow.python.framework.ops) is deprecated and will be removed in a future version.\n",
      "Instructions for updating:\n",
      "Colocations handled automatically by placer.\n",
      "WARNING:tensorflow:From /usr/local/miniconda3/envs/pandars3/lib/python3.7/site-packages/tensorflow/python/keras/backend.py:4010: calling dropout (from tensorflow.python.ops.nn_ops) with keep_prob is deprecated and will be removed in a future version.\n",
      "Instructions for updating:\n",
      "Please use `rate` instead of `keep_prob`. Rate should be set to `rate = 1 - keep_prob`.\n",
      "WARNING:tensorflow:From /usr/local/miniconda3/envs/pandars3/lib/python3.7/site-packages/tensorflow/python/ops/losses/losses_impl.py:209: to_float (from tensorflow.python.ops.math_ops) is deprecated and will be removed in a future version.\n",
      "Instructions for updating:\n",
      "Use tf.cast instead.\n",
      "CPU times: user 5min 47s, sys: 2min 18s, total: 8min 5s\n",
      "Wall time: 5min 7s\n"
     ]
    }
   ],
   "source": [
    "# okay... now try use that ..\n",
    "model = tf.keras.Sequential([\n",
    "    tf.keras.layers.LSTM(64,   dropout=0.2, recurrent_dropout=0.2,\n",
    "                batch_input_shape=(None, 256, 3), \n",
    "              ),\n",
    "    # 4 because 'A', 'B', 'C', 'D'.\n",
    "    tf.keras.layers.Dense(4)\n",
    "])\n",
    "\n",
    "%time loss_history = mu.do_train(model, dataset_batches)\n",
    "\n"
   ]
  },
  {
   "cell_type": "code",
   "execution_count": 6,
   "metadata": {},
   "outputs": [
    {
     "name": "stdout",
     "output_type": "stream",
     "text": [
      "(50000, 256, 3)\n",
      "subset,  10000\n",
      "train subset classes, Counter({0: 5268, 2: 4030, 3: 526, 1: 176})\n",
      "CPU times: user 27.3 s, sys: 6.84 s, total: 34.2 s\n",
      "Wall time: 8.58 s\n",
      "WARNING:tensorflow:From /usr/local/miniconda3/envs/pandars3/lib/python3.7/site-packages/tensorflow/python/ops/confusion_matrix.py:193: to_int64 (from tensorflow.python.ops.math_ops) is deprecated and will be removed in a future version.\n",
      "Instructions for updating:\n",
      "Use tf.cast instead.\n",
      "WARNING:tensorflow:From /usr/local/miniconda3/envs/pandars3/lib/python3.7/site-packages/tensorflow/python/ops/confusion_matrix.py:194: to_int32 (from tensorflow.python.ops.math_ops) is deprecated and will be removed in a future version.\n",
      "Instructions for updating:\n",
      "Use tf.cast instead.\n"
     ]
    },
    {
     "data": {
      "text/plain": [
       "<tf.Tensor: id=4224597, shape=(4, 4), dtype=int32, numpy=\n",
       "array([[3965,    0, 1303,    0],\n",
       "       [   4,    0,  172,    0],\n",
       "       [ 883,    0, 3147,    0],\n",
       "       [ 526,    0,    0,    0]], dtype=int32)>"
      ]
     },
     "execution_count": 6,
     "metadata": {},
     "output_type": "execute_result"
    },
    {
     "data": {
      "image/png": "[encoded data removed]",
      "text/plain": [
       "<Figure size 432x288 with 1 Axes>"
      ]
     },
     "metadata": {
      "needs_background": "light"
     },
     "output_type": "display_data"
    }
   ],
   "source": [
    "# Loss still pretty small. but Since this is the first time I shuffled, \n",
    "# the loss history looks really much more interesting.\n",
    "plt.plot(loss_history)\n",
    "plt.xlabel('Batch #')\n",
    "plt.ylabel('Loss [entropy]')\n",
    "\n",
    "print(julydata['x_train'].shape)\n",
    "train_subset = np.random.choice(np.arange(0, julydata['x_train'].shape[0], 1),\n",
    "                               10000, replace=False)\n",
    "print('subset, ', len(train_subset))\n",
    "\n",
    "# First make sure this random training subset covers all four classes.\n",
    "print('train subset classes,', Counter(np.argmax(julydata['y_train'][train_subset, :], axis=1)))\n",
    "\n",
    "%time y_pred_train = model(tf.convert_to_tensor(julydata['x_train'][train_subset], dtype=tf.float32))\n",
    "\n",
    "# confusion... \n",
    "tf.confusion_matrix(\n",
    "    np.argmax(julydata['y_train'][train_subset, :], axis=1),  # labels\n",
    "\n",
    "    np.argmax(y_pred_train, axis=1), # predictions\n",
    "    num_classes=4)\n",
    "\n"
   ]
  },
  {
   "cell_type": "code",
   "execution_count": 11,
   "metadata": {},
   "outputs": [
    {
     "data": {
      "image/png": "[encoded data removed]",
      "text/plain": [
       "<Figure size 432x288 with 1 Axes>"
      ]
     },
     "metadata": {
      "needs_background": "light"
     },
     "output_type": "display_data"
    }
   ],
   "source": [
    "# Quick Look at how crisp the outputs are .\n",
    "# And actually hmm wow that looks pretty nice and crisp.\n",
    "\n",
    "\n",
    "bins = np.linspace(-3, 3, 100)\n",
    "plt.hist(y_pred_train[:, 0], bins, alpha=0.5, label='0')\n",
    "plt.hist(y_pred_train[:, 1], bins, alpha=0.5, label='1')\n",
    "plt.hist(y_pred_train[:, 2], bins, alpha=0.5, label='2')\n",
    "plt.hist(y_pred_train[:, 3], bins, alpha=0.5, label='3')\n",
    "plt.legend(loc='upper right')\n",
    "plt.show()\n"
   ]
  },
  {
   "cell_type": "code",
   "execution_count": null,
   "metadata": {},
   "outputs": [],
   "source": [
    "# Wow way less crisp looking hmm"
   ]
  }
 ],
 "metadata": {
  "kernelspec": {
   "display_name": "Python 3",
   "language": "python",
   "name": "python3"
  },
  "language_info": {
   "codemirror_mode": {
    "name": "ipython",
    "version": 3
   },
   "file_extension": ".py",
   "mimetype": "text/x-python",
   "name": "python",
   "nbconvert_exporter": "python",
   "pygments_lexer": "ipython3",
   "version": "3.7.2"
  }
 },
 "nbformat": 4,
 "nbformat_minor": 2
}
