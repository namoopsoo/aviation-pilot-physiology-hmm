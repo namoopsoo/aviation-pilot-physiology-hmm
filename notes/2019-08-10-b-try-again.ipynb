{
 "cells": [
  {
   "cell_type": "code",
   "execution_count": 1,
   "metadata": {},
   "outputs": [
    {
     "name": "stdout",
     "output_type": "stream",
     "text": [
      "True\n"
     ]
    }
   ],
   "source": [
    "# boiler plate\n",
    "from collections import Counter\n",
    "import pickle\n",
    "from importlib import reload\n",
    "import tensorflow as tf\n",
    "import numpy as np\n",
    "import matplotlib.pyplot as plt\n",
    "\n",
    "from sklearn.preprocessing import MinMaxScaler\n",
    "\n",
    "\n",
    "import ipdb\n",
    "import mytf.utils as mu\n",
    "\n",
    "tf.enable_eager_execution()\n",
    "\n",
    "print(tf.executing_eagerly())"
   ]
  },
  {
   "cell_type": "code",
   "execution_count": 2,
   "metadata": {},
   "outputs": [],
   "source": [
    "with open('models/2019-07-21T1815-UTC-outdata-SUBSET50k.pkl', 'rb') as fd:\n",
    "    julydata = pickle.load(fd)"
   ]
  },
  {
   "cell_type": "code",
   "execution_count": 3,
   "metadata": {},
   "outputs": [
    {
     "name": "stdout",
     "output_type": "stream",
     "text": [
      "training indices... (50000,)\n",
      "Start build v3: .. doesnt add up to 1.0\n",
      "num slices 50\n",
      "size_remainder,  0\n",
      "Counter({0: 504, 2: 426, 3: 49, 1: 21})\n",
      "weights_per_class,  tf.Tensor([0.00198413 0.06190476 0.00234742 0.02040816], shape=(4,), dtype=float32)\n",
      "1006.2999999999997\n",
      "Counter({0: 552, 2: 385, 3: 48, 1: 15})\n",
      "weights_per_class,  tf.Tensor([0.00181159 0.08666667 0.0025974  0.02083333], shape=(4,), dtype=float32)\n",
      "1004.4999999999995\n",
      "Counter({0: 499, 2: 430, 3: 51, 1: 20})\n",
      "weights_per_class,  tf.Tensor([0.00200401 0.065      0.00232558 0.01960784], shape=(4,), dtype=float32)\n",
      "1005.9999999999995\n",
      "Counter({0: 537, 2: 393, 3: 46, 1: 24})\n",
      "weights_per_class,  tf.Tensor([0.0018622  0.05416666 0.00254453 0.02173913], shape=(4,), dtype=float32)\n",
      "1007.1999999999996\n",
      "Counter({0: 532, 2: 386, 3: 62, 1: 20})\n",
      "weights_per_class,  tf.Tensor([0.0018797  0.065      0.00259067 0.01612903], shape=(4,), dtype=float32)\n",
      "1005.9999999999995\n",
      "Counter({0: 508, 2: 427, 3: 50, 1: 15})\n",
      "weights_per_class,  tf.Tensor([0.0019685  0.08666667 0.00234192 0.02      ], shape=(4,), dtype=float32)\n",
      "1004.4999999999998\n",
      "Counter({0: 541, 2: 385, 3: 59, 1: 15})\n",
      "weights_per_class,  tf.Tensor([0.00184843 0.08666667 0.0025974  0.01694915], shape=(4,), dtype=float32)\n",
      "1004.4999999999995\n",
      "Counter({0: 554, 2: 394, 3: 40, 1: 12})\n",
      "weights_per_class,  tf.Tensor([0.00180505 0.10833333 0.00253807 0.025     ], shape=(4,), dtype=float32)\n",
      "1003.5999999999997\n",
      "Counter({0: 532, 2: 397, 3: 55, 1: 16})\n",
      "weights_per_class,  tf.Tensor([0.0018797  0.08125    0.00251889 0.01818182], shape=(4,), dtype=float32)\n",
      "1004.7999999999997\n",
      "Counter({0: 537, 2: 384, 3: 59, 1: 20})\n",
      "weights_per_class,  tf.Tensor([0.0018622  0.065      0.00260417 0.01694915], shape=(4,), dtype=float32)\n",
      "1005.9999999999995\n",
      "Counter({0: 521, 2: 411, 3: 50, 1: 18})\n",
      "weights_per_class,  tf.Tensor([0.00191939 0.07222222 0.00243309 0.02      ], shape=(4,), dtype=float32)\n",
      "1005.3999999999996\n",
      "Counter({0: 511, 2: 401, 3: 65, 1: 23})\n",
      "weights_per_class,  tf.Tensor([0.00195695 0.05652174 0.00249377 0.01538462], shape=(4,), dtype=float32)\n",
      "1006.8999999999996\n",
      "Counter({0: 536, 2: 405, 3: 43, 1: 16})\n",
      "weights_per_class,  tf.Tensor([0.00186567 0.08125    0.00246914 0.02325581], shape=(4,), dtype=float32)\n",
      "1004.7999999999997\n",
      "Counter({0: 527, 2: 406, 3: 44, 1: 23})\n",
      "weights_per_class,  tf.Tensor([0.00189753 0.05652174 0.00246305 0.02272727], shape=(4,), dtype=float32)\n",
      "1006.8999999999996\n",
      "Counter({0: 505, 2: 411, 3: 64, 1: 20})\n",
      "weights_per_class,  tf.Tensor([0.0019802  0.065      0.00243309 0.015625  ], shape=(4,), dtype=float32)\n",
      "1005.9999999999997\n",
      "Counter({0: 512, 2: 422, 3: 58, 1: 8})\n",
      "weights_per_class,  tf.Tensor([0.00195312 0.1625     0.00236967 0.01724138], shape=(4,), dtype=float32)\n",
      "1002.3999999999999\n",
      "Counter({0: 528, 2: 410, 3: 42, 1: 20})\n",
      "weights_per_class,  tf.Tensor([0.00189394 0.065      0.00243902 0.02380952], shape=(4,), dtype=float32)\n",
      "1005.9999999999997\n",
      "Counter({0: 550, 2: 376, 3: 53, 1: 21})\n",
      "weights_per_class,  tf.Tensor([0.00181818 0.06190476 0.00265957 0.01886792], shape=(4,), dtype=float32)\n",
      "1006.2999999999997\n",
      "Counter({0: 537, 2: 393, 3: 53, 1: 17})\n",
      "weights_per_class,  tf.Tensor([0.0018622  0.07647058 0.00254453 0.01886792], shape=(4,), dtype=float32)\n",
      "1005.0999999999997\n",
      "Counter({0: 503, 2: 432, 3: 48, 1: 17})\n",
      "weights_per_class,  tf.Tensor([0.00198807 0.07647058 0.00231481 0.02083333], shape=(4,), dtype=float32)\n",
      "1005.0999999999997\n",
      "Counter({0: 508, 2: 415, 3: 56, 1: 21})\n",
      "weights_per_class,  tf.Tensor([0.0019685  0.06190476 0.00240964 0.01785714], shape=(4,), dtype=float32)\n",
      "1006.2999999999994\n",
      "Counter({0: 521, 2: 406, 3: 56, 1: 17})\n",
      "weights_per_class,  tf.Tensor([0.00191939 0.07647058 0.00246305 0.01785714], shape=(4,), dtype=float32)\n",
      "1005.0999999999997\n",
      "Counter({0: 541, 2: 394, 3: 52, 1: 13})\n",
      "weights_per_class,  tf.Tensor([0.00184843 0.09999999 0.00253807 0.01923077], shape=(4,), dtype=float32)\n",
      "1003.8999999999997\n",
      "Counter({0: 535, 2: 398, 3: 50, 1: 17})\n",
      "weights_per_class,  tf.Tensor([0.00186916 0.07647058 0.00251256 0.02      ], shape=(4,), dtype=float32)\n",
      "1005.0999999999997\n",
      "Counter({0: 524, 2: 401, 3: 55, 1: 20})\n",
      "weights_per_class,  tf.Tensor([0.0019084  0.065      0.00249377 0.01818182], shape=(4,), dtype=float32)\n",
      "1005.9999999999998\n",
      "Counter({0: 488, 2: 442, 3: 46, 1: 24})\n",
      "weights_per_class,  tf.Tensor([0.00204918 0.05416666 0.00226244 0.02173913], shape=(4,), dtype=float32)\n",
      "1007.1999999999994\n",
      "Counter({0: 518, 2: 419, 3: 50, 1: 13})\n",
      "weights_per_class,  tf.Tensor([0.0019305  0.09999999 0.00238663 0.02      ], shape=(4,), dtype=float32)\n",
      "1003.8999999999997\n",
      "Counter({0: 536, 2: 386, 3: 55, 1: 23})\n",
      "weights_per_class,  tf.Tensor([0.00186567 0.05652174 0.00259067 0.01818182], shape=(4,), dtype=float32)\n",
      "1006.8999999999996\n",
      "Counter({0: 541, 2: 397, 3: 48, 1: 14})\n",
      "weights_per_class,  tf.Tensor([0.00184843 0.09285714 0.00251889 0.02083333], shape=(4,), dtype=float32)\n",
      "1004.1999999999998\n",
      "Counter({0: 526, 2: 414, 3: 44, 1: 16})\n",
      "weights_per_class,  tf.Tensor([0.00190114 0.08125    0.00241546 0.02272727], shape=(4,), dtype=float32)\n",
      "1004.7999999999997\n",
      "Counter({0: 508, 2: 422, 3: 50, 1: 20})\n",
      "weights_per_class,  tf.Tensor([0.0019685  0.065      0.00236967 0.02      ], shape=(4,), dtype=float32)\n",
      "1005.9999999999995\n",
      "Counter({0: 479, 2: 435, 3: 69, 1: 17})\n",
      "weights_per_class,  tf.Tensor([0.00208768 0.07647058 0.00229885 0.01449275], shape=(4,), dtype=float32)\n",
      "1005.0999999999997\n",
      "Counter({0: 535, 2: 403, 3: 42, 1: 20})\n",
      "weights_per_class,  tf.Tensor([0.00186916 0.065      0.00248139 0.02380952], shape=(4,), dtype=float32)\n",
      "1005.9999999999997\n",
      "Counter({0: 537, 2: 387, 3: 61, 1: 15})\n",
      "weights_per_class,  tf.Tensor([0.0018622  0.08666667 0.00258398 0.01639344], shape=(4,), dtype=float32)\n",
      "1004.5\n",
      "Counter({0: 532, 2: 398, 3: 47, 1: 23})\n",
      "weights_per_class,  tf.Tensor([0.0018797  0.05652174 0.00251256 0.0212766 ], shape=(4,), dtype=float32)\n",
      "1006.8999999999993\n",
      "Counter({0: 535, 2: 393, 3: 53, 1: 19})\n",
      "weights_per_class,  tf.Tensor([0.00186916 0.06842105 0.00254453 0.01886792], shape=(4,), dtype=float32)\n",
      "1005.6999999999998\n",
      "Counter({0: 508, 2: 417, 3: 57, 1: 18})\n",
      "weights_per_class,  tf.Tensor([0.0019685  0.07222222 0.00239808 0.01754386], shape=(4,), dtype=float32)\n",
      "1005.3999999999997\n",
      "Counter({0: 522, 2: 403, 3: 51, 1: 24})\n",
      "weights_per_class,  tf.Tensor([0.00191571 0.05416666 0.00248139 0.01960784], shape=(4,), dtype=float32)\n",
      "1007.1999999999996\n",
      "Counter({0: 529, 2: 397, 3: 59, 1: 15})\n",
      "weights_per_class,  tf.Tensor([0.00189036 0.08666667 0.00251889 0.01694915], shape=(4,), dtype=float32)\n",
      "1004.4999999999995\n",
      "Counter({0: 536, 2: 384, 3: 65, 1: 15})\n",
      "weights_per_class,  tf.Tensor([0.00186567 0.08666667 0.00260417 0.01538462], shape=(4,), dtype=float32)\n",
      "1004.4999999999998\n",
      "Counter({0: 527, 2: 416, 3: 41, 1: 16})\n",
      "weights_per_class,  tf.Tensor([0.00189753 0.08125    0.00240385 0.02439024], shape=(4,), dtype=float32)\n",
      "1004.7999999999998\n",
      "Counter({0: 546, 2: 388, 3: 48, 1: 18})\n",
      "weights_per_class,  tf.Tensor([0.0018315  0.07222222 0.00257732 0.02083333], shape=(4,), dtype=float32)\n",
      "1005.3999999999996\n",
      "Counter({0: 565, 2: 381, 3: 39, 1: 15})\n",
      "weights_per_class,  tf.Tensor([0.00176991 0.08666667 0.00262467 0.02564103], shape=(4,), dtype=float32)\n",
      "1004.4999999999998\n",
      "Counter({0: 531, 2: 404, 3: 52, 1: 13})\n",
      "weights_per_class,  tf.Tensor([0.00188324 0.09999999 0.00247525 0.01923077], shape=(4,), dtype=float32)\n",
      "1003.8999999999999\n",
      "Counter({0: 519, 2: 405, 3: 58, 1: 18})\n",
      "weights_per_class,  tf.Tensor([0.00192678 0.07222222 0.00246914 0.01724138], shape=(4,), dtype=float32)\n",
      "1005.3999999999996\n",
      "Counter({0: 515, 2: 407, 3: 61, 1: 17})\n",
      "weights_per_class,  tf.Tensor([0.00194175 0.07647058 0.002457   0.01639344], shape=(4,), dtype=float32)\n",
      "1005.0999999999998\n",
      "Counter({0: 507, 2: 424, 3: 46, 1: 23})\n",
      "weights_per_class,  tf.Tensor([0.00197239 0.05652174 0.00235849 0.02173913], shape=(4,), dtype=float32)\n",
      "1006.8999999999994\n",
      "Counter({0: 534, 2: 400, 3: 46, 1: 20})\n",
      "weights_per_class,  tf.Tensor([0.00187266 0.065      0.0025     0.02173913], shape=(4,), dtype=float32)\n",
      "1005.9999999999995\n",
      "Counter({0: 528, 2: 404, 3: 54, 1: 14})\n",
      "weights_per_class,  tf.Tensor([0.00189394 0.09285714 0.00247525 0.01851852], shape=(4,), dtype=float32)\n",
      "1004.1999999999998\n",
      "Counter({0: 510, 2: 425, 3: 47, 1: 18})\n",
      "weights_per_class,  tf.Tensor([0.00196078 0.07222222 0.00235294 0.0212766 ], shape=(4,), dtype=float32)\n",
      "1005.3999999999994\n"
     ]
    }
   ],
   "source": [
    "class_weights = {0: 1.0, 1: 1.3, 2: 1.0, 3: 1.0}\n",
    "training_indices = np.arange(0, julydata['x_train'].shape[0], 1)\n",
    "print('training indices...', training_indices.shape)\n",
    "\n",
    "dataset_batches = mu.build_dataset_weighty_v3(\n",
    "    julydata,\n",
    "    training_indices, \n",
    "    class_weights,\n",
    "    batch_size=1000)"
   ]
  },
  {
   "cell_type": "code",
   "execution_count": 4,
   "metadata": {},
   "outputs": [
    {
     "name": "stdout",
     "output_type": "stream",
     "text": [
      "WARNING:tensorflow:From /usr/local/miniconda3/envs/pandars3/lib/python3.7/site-packages/tensorflow/python/ops/resource_variable_ops.py:435: colocate_with (from tensorflow.python.framework.ops) is deprecated and will be removed in a future version.\n",
      "Instructions for updating:\n",
      "Colocations handled automatically by placer.\n",
      "WARNING:tensorflow:From /usr/local/miniconda3/envs/pandars3/lib/python3.7/site-packages/tensorflow/python/keras/backend.py:4010: calling dropout (from tensorflow.python.ops.nn_ops) with keep_prob is deprecated and will be removed in a future version.\n",
      "Instructions for updating:\n",
      "Please use `rate` instead of `keep_prob`. Rate should be set to `rate = 1 - keep_prob`.\n"
     ]
    },
    {
     "ename": "RuntimeError",
     "evalue": "dataset.__iter__() is only supported when eager execution is enabled.",
     "output_type": "error",
     "traceback": [
      "\u001b[0;31m---------------------------------------------------------------------------\u001b[0m",
      "\u001b[0;31mRuntimeError\u001b[0m                              Traceback (most recent call last)",
      "\u001b[0;32m<timed exec>\u001b[0m in \u001b[0;36m<module>\u001b[0;34m\u001b[0m\n",
      "\u001b[0;32m~/LeDropbox/Dropbox/Code/Kaggle/reducing-commercial-aviation-fatalities/mytf/utils.py\u001b[0m in \u001b[0;36mdo_train\u001b[0;34m(model, dataset_batches)\u001b[0m\n\u001b[1;32m    213\u001b[0m     \u001b[0mloss_history\u001b[0m \u001b[0;34m=\u001b[0m \u001b[0;34m[\u001b[0m\u001b[0;34m]\u001b[0m\u001b[0;34m\u001b[0m\u001b[0;34m\u001b[0m\u001b[0m\n\u001b[1;32m    214\u001b[0m \u001b[0;34m\u001b[0m\u001b[0m\n\u001b[0;32m--> 215\u001b[0;31m     \u001b[0;32mfor\u001b[0m \u001b[0;34m(\u001b[0m\u001b[0mbatch\u001b[0m\u001b[0;34m,\u001b[0m \u001b[0;34m(\u001b[0m\u001b[0minvec\u001b[0m\u001b[0;34m,\u001b[0m \u001b[0mlabels\u001b[0m\u001b[0;34m,\u001b[0m \u001b[0mweights\u001b[0m\u001b[0;34m)\u001b[0m\u001b[0;34m)\u001b[0m \u001b[0;32min\u001b[0m \u001b[0menumerate\u001b[0m\u001b[0;34m(\u001b[0m\u001b[0mdataset_batches\u001b[0m\u001b[0;34m.\u001b[0m\u001b[0mtake\u001b[0m\u001b[0;34m(\u001b[0m\u001b[0;36m1000\u001b[0m\u001b[0;34m)\u001b[0m\u001b[0;34m)\u001b[0m\u001b[0;34m:\u001b[0m\u001b[0;34m\u001b[0m\u001b[0;34m\u001b[0m\u001b[0m\n\u001b[0m\u001b[1;32m    216\u001b[0m \u001b[0;34m\u001b[0m\u001b[0m\n\u001b[1;32m    217\u001b[0m         \u001b[0;32mwith\u001b[0m \u001b[0mtf\u001b[0m\u001b[0;34m.\u001b[0m\u001b[0mGradientTape\u001b[0m\u001b[0;34m(\u001b[0m\u001b[0;34m)\u001b[0m \u001b[0;32mas\u001b[0m \u001b[0mtape\u001b[0m\u001b[0;34m:\u001b[0m\u001b[0;34m\u001b[0m\u001b[0;34m\u001b[0m\u001b[0m\n",
      "\u001b[0;32m/usr/local/miniconda3/envs/pandars3/lib/python3.7/site-packages/tensorflow/python/data/ops/dataset_ops.py\u001b[0m in \u001b[0;36m__iter__\u001b[0;34m(self)\u001b[0m\n\u001b[1;32m   1644\u001b[0m \u001b[0;34m\u001b[0m\u001b[0m\n\u001b[1;32m   1645\u001b[0m   \u001b[0;32mdef\u001b[0m \u001b[0m__iter__\u001b[0m\u001b[0;34m(\u001b[0m\u001b[0mself\u001b[0m\u001b[0;34m)\u001b[0m\u001b[0;34m:\u001b[0m\u001b[0;34m\u001b[0m\u001b[0;34m\u001b[0m\u001b[0m\n\u001b[0;32m-> 1646\u001b[0;31m     \u001b[0;32mreturn\u001b[0m \u001b[0miter\u001b[0m\u001b[0;34m(\u001b[0m\u001b[0mself\u001b[0m\u001b[0;34m.\u001b[0m\u001b[0m_dataset\u001b[0m\u001b[0;34m)\u001b[0m\u001b[0;34m\u001b[0m\u001b[0;34m\u001b[0m\u001b[0m\n\u001b[0m\u001b[1;32m   1647\u001b[0m \u001b[0;34m\u001b[0m\u001b[0m\n\u001b[1;32m   1648\u001b[0m \u001b[0;34m\u001b[0m\u001b[0m\n",
      "\u001b[0;32m/usr/local/miniconda3/envs/pandars3/lib/python3.7/site-packages/tensorflow/python/data/ops/dataset_ops.py\u001b[0m in \u001b[0;36m__iter__\u001b[0;34m(self)\u001b[0m\n\u001b[1;32m    204\u001b[0m       \u001b[0;32mreturn\u001b[0m \u001b[0miterator_ops\u001b[0m\u001b[0;34m.\u001b[0m\u001b[0mEagerIterator\u001b[0m\u001b[0;34m(\u001b[0m\u001b[0mself\u001b[0m\u001b[0;34m)\u001b[0m\u001b[0;34m\u001b[0m\u001b[0;34m\u001b[0m\u001b[0m\n\u001b[1;32m    205\u001b[0m     \u001b[0;32melse\u001b[0m\u001b[0;34m:\u001b[0m\u001b[0;34m\u001b[0m\u001b[0;34m\u001b[0m\u001b[0m\n\u001b[0;32m--> 206\u001b[0;31m       raise RuntimeError(\"dataset.__iter__() is only supported when eager \"\n\u001b[0m\u001b[1;32m    207\u001b[0m                          \"execution is enabled.\")\n\u001b[1;32m    208\u001b[0m \u001b[0;34m\u001b[0m\u001b[0m\n",
      "\u001b[0;31mRuntimeError\u001b[0m: dataset.__iter__() is only supported when eager execution is enabled."
     ]
    }
   ],
   "source": [
    "with tf.Session() as sess:\n",
    "\n",
    "    # okay... now try use that ..\n",
    "    model = tf.keras.Sequential([\n",
    "        tf.keras.layers.LSTM(64,   dropout=0.2, recurrent_dropout=0.2,\n",
    "                    batch_input_shape=(None, 256, 3), \n",
    "                  ),\n",
    "        # 4 because 'A', 'B', 'C', 'D'.\n",
    "        tf.keras.layers.Dense(4)\n",
    "    ])\n",
    "\n",
    "    %time loss_history = mu.do_train(model, dataset_batches)\n",
    "\n",
    "    "
   ]
  },
  {
   "cell_type": "code",
   "execution_count": null,
   "metadata": {},
   "outputs": [],
   "source": [
    "# umm what this time i did enable eager execution. ok so probably using tf.Session() \n",
    "# means i am perhaps selectively saying do not use eager? "
   ]
  },
  {
   "cell_type": "code",
   "execution_count": 5,
   "metadata": {},
   "outputs": [],
   "source": [
    "sess = tf.Session()"
   ]
  },
  {
   "cell_type": "code",
   "execution_count": 6,
   "metadata": {},
   "outputs": [
    {
     "ename": "TypeError",
     "evalue": "Fetch argument None has invalid type <class 'NoneType'>",
     "output_type": "error",
     "traceback": [
      "\u001b[0;31m---------------------------------------------------------------------------\u001b[0m",
      "\u001b[0;31mTypeError\u001b[0m                                 Traceback (most recent call last)",
      "\u001b[0;32m<ipython-input-6-6af629785793>\u001b[0m in \u001b[0;36m<module>\u001b[0;34m\u001b[0m\n\u001b[0;32m----> 1\u001b[0;31m \u001b[0msess\u001b[0m\u001b[0;34m.\u001b[0m\u001b[0mrun\u001b[0m\u001b[0;34m(\u001b[0m\u001b[0mtf\u001b[0m\u001b[0;34m.\u001b[0m\u001b[0mglobal_variables_initializer\u001b[0m\u001b[0;34m(\u001b[0m\u001b[0;34m)\u001b[0m\u001b[0;34m)\u001b[0m\u001b[0;34m\u001b[0m\u001b[0;34m\u001b[0m\u001b[0m\n\u001b[0m",
      "\u001b[0;32m/usr/local/miniconda3/envs/pandars3/lib/python3.7/site-packages/tensorflow/python/client/session.py\u001b[0m in \u001b[0;36mrun\u001b[0;34m(self, fetches, feed_dict, options, run_metadata)\u001b[0m\n\u001b[1;32m    927\u001b[0m     \u001b[0;32mtry\u001b[0m\u001b[0;34m:\u001b[0m\u001b[0;34m\u001b[0m\u001b[0;34m\u001b[0m\u001b[0m\n\u001b[1;32m    928\u001b[0m       result = self._run(None, fetches, feed_dict, options_ptr,\n\u001b[0;32m--> 929\u001b[0;31m                          run_metadata_ptr)\n\u001b[0m\u001b[1;32m    930\u001b[0m       \u001b[0;32mif\u001b[0m \u001b[0mrun_metadata\u001b[0m\u001b[0;34m:\u001b[0m\u001b[0;34m\u001b[0m\u001b[0;34m\u001b[0m\u001b[0m\n\u001b[1;32m    931\u001b[0m         \u001b[0mproto_data\u001b[0m \u001b[0;34m=\u001b[0m \u001b[0mtf_session\u001b[0m\u001b[0;34m.\u001b[0m\u001b[0mTF_GetBuffer\u001b[0m\u001b[0;34m(\u001b[0m\u001b[0mrun_metadata_ptr\u001b[0m\u001b[0;34m)\u001b[0m\u001b[0;34m\u001b[0m\u001b[0;34m\u001b[0m\u001b[0m\n",
      "\u001b[0;32m/usr/local/miniconda3/envs/pandars3/lib/python3.7/site-packages/tensorflow/python/client/session.py\u001b[0m in \u001b[0;36m_run\u001b[0;34m(self, handle, fetches, feed_dict, options, run_metadata)\u001b[0m\n\u001b[1;32m   1135\u001b[0m     \u001b[0;31m# Create a fetch handler to take care of the structure of fetches.\u001b[0m\u001b[0;34m\u001b[0m\u001b[0;34m\u001b[0m\u001b[0;34m\u001b[0m\u001b[0m\n\u001b[1;32m   1136\u001b[0m     fetch_handler = _FetchHandler(\n\u001b[0;32m-> 1137\u001b[0;31m         self._graph, fetches, feed_dict_tensor, feed_handles=feed_handles)\n\u001b[0m\u001b[1;32m   1138\u001b[0m \u001b[0;34m\u001b[0m\u001b[0m\n\u001b[1;32m   1139\u001b[0m     \u001b[0;31m# Run request and get response.\u001b[0m\u001b[0;34m\u001b[0m\u001b[0;34m\u001b[0m\u001b[0;34m\u001b[0m\u001b[0m\n",
      "\u001b[0;32m/usr/local/miniconda3/envs/pandars3/lib/python3.7/site-packages/tensorflow/python/client/session.py\u001b[0m in \u001b[0;36m__init__\u001b[0;34m(self, graph, fetches, feeds, feed_handles)\u001b[0m\n\u001b[1;32m    469\u001b[0m     \"\"\"\n\u001b[1;32m    470\u001b[0m     \u001b[0;32mwith\u001b[0m \u001b[0mgraph\u001b[0m\u001b[0;34m.\u001b[0m\u001b[0mas_default\u001b[0m\u001b[0;34m(\u001b[0m\u001b[0;34m)\u001b[0m\u001b[0;34m:\u001b[0m\u001b[0;34m\u001b[0m\u001b[0;34m\u001b[0m\u001b[0m\n\u001b[0;32m--> 471\u001b[0;31m       \u001b[0mself\u001b[0m\u001b[0;34m.\u001b[0m\u001b[0m_fetch_mapper\u001b[0m \u001b[0;34m=\u001b[0m \u001b[0m_FetchMapper\u001b[0m\u001b[0;34m.\u001b[0m\u001b[0mfor_fetch\u001b[0m\u001b[0;34m(\u001b[0m\u001b[0mfetches\u001b[0m\u001b[0;34m)\u001b[0m\u001b[0;34m\u001b[0m\u001b[0;34m\u001b[0m\u001b[0m\n\u001b[0m\u001b[1;32m    472\u001b[0m     \u001b[0mself\u001b[0m\u001b[0;34m.\u001b[0m\u001b[0m_fetches\u001b[0m \u001b[0;34m=\u001b[0m \u001b[0;34m[\u001b[0m\u001b[0;34m]\u001b[0m\u001b[0;34m\u001b[0m\u001b[0;34m\u001b[0m\u001b[0m\n\u001b[1;32m    473\u001b[0m     \u001b[0mself\u001b[0m\u001b[0;34m.\u001b[0m\u001b[0m_targets\u001b[0m \u001b[0;34m=\u001b[0m \u001b[0;34m[\u001b[0m\u001b[0;34m]\u001b[0m\u001b[0;34m\u001b[0m\u001b[0;34m\u001b[0m\u001b[0m\n",
      "\u001b[0;32m/usr/local/miniconda3/envs/pandars3/lib/python3.7/site-packages/tensorflow/python/client/session.py\u001b[0m in \u001b[0;36mfor_fetch\u001b[0;34m(fetch)\u001b[0m\n\u001b[1;32m    256\u001b[0m     \u001b[0;32mif\u001b[0m \u001b[0mfetch\u001b[0m \u001b[0;32mis\u001b[0m \u001b[0;32mNone\u001b[0m\u001b[0;34m:\u001b[0m\u001b[0;34m\u001b[0m\u001b[0;34m\u001b[0m\u001b[0m\n\u001b[1;32m    257\u001b[0m       raise TypeError('Fetch argument %r has invalid type %r' % (fetch,\n\u001b[0;32m--> 258\u001b[0;31m                                                                  type(fetch)))\n\u001b[0m\u001b[1;32m    259\u001b[0m     \u001b[0;32melif\u001b[0m \u001b[0misinstance\u001b[0m\u001b[0;34m(\u001b[0m\u001b[0mfetch\u001b[0m\u001b[0;34m,\u001b[0m \u001b[0;34m(\u001b[0m\u001b[0mlist\u001b[0m\u001b[0;34m,\u001b[0m \u001b[0mtuple\u001b[0m\u001b[0;34m)\u001b[0m\u001b[0;34m)\u001b[0m\u001b[0;34m:\u001b[0m\u001b[0;34m\u001b[0m\u001b[0;34m\u001b[0m\u001b[0m\n\u001b[1;32m    260\u001b[0m       \u001b[0;31m# NOTE(touts): This is also the code path for namedtuples.\u001b[0m\u001b[0;34m\u001b[0m\u001b[0;34m\u001b[0m\u001b[0;34m\u001b[0m\u001b[0m\n",
      "\u001b[0;31mTypeError\u001b[0m: Fetch argument None has invalid type <class 'NoneType'>"
     ]
    }
   ],
   "source": [
    "sess.run(tf.global_variables_initializer())"
   ]
  }
 ],
 "metadata": {
  "kernelspec": {
   "display_name": "Python 3",
   "language": "python",
   "name": "python3"
  },
  "language_info": {
   "codemirror_mode": {
    "name": "ipython",
    "version": 3
   },
   "file_extension": ".py",
   "mimetype": "text/x-python",
   "name": "python",
   "nbconvert_exporter": "python",
   "pygments_lexer": "ipython3",
   "version": "3.7.2"
  }
 },
 "nbformat": 4,
 "nbformat_minor": 2
}
