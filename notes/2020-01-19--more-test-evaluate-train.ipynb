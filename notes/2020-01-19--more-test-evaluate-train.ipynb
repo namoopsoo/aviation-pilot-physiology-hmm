{
 "cells": [
  {
   "cell_type": "markdown",
   "metadata": {},
   "source": [
    "#### Notes\n",
    "So for some context, in [this notebook](https://github.com/namoopsoo/aviation-pilot-physiology-hmm/blob/master/notes/2019-12-21.md) I baked a dataset using this approach:\n",
    "\n",
    "```python\n",
    "out = mu.make_data(df1to2, crews={'training': [1],\n",
    "                    'test': [2]},\n",
    "              window_size=64,\n",
    "               row_batch_size=10000,\n",
    "         feature_cols=cols,\n",
    "              save_dir=newdir)\n",
    "```\n",
    "- I had used that to build the `train.h5` and `test.h5` . But I looked at the outdir `data/2019-12-21T215926Z` and didn't find the balanced data.\n",
    "- And this `mu.make_data` func creates smaller datasets of `10k` each , per the `row_batch_size=10000` param.\n",
    "- That same notebook ^, I also discovered the [partial fit of MinMaxScaler](https://github.com/namoopsoo/aviation-pilot-physiology-hmm/blob/master/notes/2019-12-21.md#oh-wow-partial-fit) , \n",
    "- So I ended up writing `build_scaler_from_h5` in there , \n",
    "- But also nicely I saw the MinMaxScaler lets you use one scaler for multiple columns like [here](https://github.com/namoopsoo/aviation-pilot-physiology-hmm/blob/master/notes/2019-12-21.md#multi-scaler-instead) , `build_many_scalers_from_h5` . \n",
    "\n",
    "```python\n",
    "# trainloc = 'data/2019-12-21T215926Z/train.h5'\n",
    "output = build_many_scalers_from_h5(\n",
    "                        trainloc, \n",
    "                        datasets=[x for x in h5_keys(trainloc) \n",
    "                               if '_X' in x]\n",
    ")\n",
    "```\n",
    "- Ok but in that notebook ^ I did not seem to wrap up showing producing the data\n",
    "- I looked at my [2019-12-22 notebook](https://github.com/namoopsoo/aviation-pilot-physiology-hmm/blob/master/notes/2019-12-22.md) , and I'm using \n",
    "\n",
    "```\n",
    "outdir = 'history/2019-12-22T174803Z'\n",
    "train_loc = f'{outdir}/train_balanced.h5'\n",
    "test_loc = f'{outdir}/test_balanced.h5'\n",
    "```\n",
    "in there but I did not show how I produced this. I wonder if I did this on a shell and forgot to record it.\n",
    "- Ah ok I had an [updated 2019-12-21 notebook](https://github.com/namoopsoo/aviation-pilot-physiology-hmm/blob/master/notes/2019-12-21--update.md) \n",
    "\n",
    "#### and..\n",
    "```python\n",
    "trainloc = 'data/2019-12-21T215926Z/train.h5'\n",
    "apply_scalers(trainloc, \n",
    "                   datasets=[x for x in h5_keys(trainloc) \n",
    "                               if '_X' in x],\n",
    "                   scaler=output[0],\n",
    "                   outloc=f'{outdir}/train_scaled.h5'\n",
    "\n",
    "                  )\n",
    "mu.transfer(source_location=trainloc, \n",
    "            source_datasets=[x for x in h5_keys(trainloc) \n",
    "                               if '_Y' in x], \n",
    "            save_location=f'{outdir}/train_scaled.h5')\n",
    "```\n",
    "\n",
    "```python\n",
    "%%time\n",
    "# ok... make train set...\n",
    "# max 7625\n",
    "train_scaled_loc = f'{outdir}/train_scaled.h5'\n",
    "train_balanced_loc = f'{outdir}/train_balanced.h5'\n",
    "\n",
    "datasets = list(zip([x for x in mu.h5_keys(train_scaled_loc) \n",
    "                               if '_X' in x],\n",
    "                    [x for x in mu.h5_keys(train_scaled_loc) \n",
    "                               if '_Y' in x]))\n",
    "\n",
    "for k in [0, 1, 2, 3]:\n",
    "    mu.transfer_data(\n",
    "        source_location=train_scaled_loc,\n",
    "        source_datasets=datasets,\n",
    "        save_location=train_balanced_loc,\n",
    "        label=k,\n",
    "        howmany=7625)\n",
    "    \n",
    "```\n",
    "\n",
    "#### next\n",
    "- ok so to summarize, if I want to create another test set ...\n",
    "- This one I want to create from the same _Crew=1_ as the train set was created, to test the theory that there is bad scaling possibly in the main test set I have. \n",
    "\n",
    "```python\n",
    "\n",
    "# Let me put the new file into the same dir.\n",
    "datadir = 'history/2019-12-22T174803Z'\n",
    "\n",
    "# Load scalers\n",
    "stored_scaler = joblib.load('history/2019-12-22T174803Z/scalers.joblib')\n",
    "#print(vars(stored_scaler['scalers'])['n_samples_seen_'])\n",
    "\n",
    "\n",
    "\n",
    "```\n"
   ]
  },
  {
   "cell_type": "code",
   "execution_count": 1,
   "metadata": {},
   "outputs": [
    {
     "name": "stdout",
     "output_type": "stream",
     "text": [
      "1.14.0\n"
     ]
    },
    {
     "name": "stderr",
     "output_type": "stream",
     "text": [
      "Using TensorFlow backend.\n"
     ]
    }
   ],
   "source": [
    "\n",
    "from importlib import reload\n",
    "import os\n",
    "import pandas as pd\n",
    "from io import StringIO\n",
    "import itertools\n",
    "import ipdb\n",
    "import datetime\n",
    "from collections import Counter\n",
    "\n",
    "import h5py\n",
    "import json\n",
    "import tensorflow as tf\n",
    "from tensorflow import keras\n",
    "\n",
    "# Helper libraries\n",
    "import numpy as np\n",
    "import matplotlib.pyplot as plt\n",
    "from tqdm import tqdm\n",
    "import joblib\n",
    "print(tf.__version__)\n",
    "\n",
    "from keras.preprocessing import sequence\n",
    "from keras.models import Sequential\n",
    "from keras.layers import Dense, Embedding\n",
    "from keras.layers import LSTM\n",
    "\n",
    "from keras.callbacks import EarlyStopping\n",
    "from tensorflow.compat.v1.losses import sparse_softmax_cross_entropy\n",
    "\n",
    "from sklearn.preprocessing import StandardScaler\n",
    "from sklearn.preprocessing import MinMaxScaler\n",
    "import mytf.s3utils as msu\n",
    "import mytf.utils as mu\n",
    "import mytf.validation as mv\n",
    "import mytf.plot as mp"
   ]
  },
  {
   "cell_type": "code",
   "execution_count": 2,
   "metadata": {},
   "outputs": [],
   "source": [
    "tf.enable_eager_execution()\n"
   ]
  },
  {
   "cell_type": "markdown",
   "metadata": {},
   "source": [
    "### 2020-01-20"
   ]
  },
  {
   "cell_type": "code",
   "execution_count": 18,
   "metadata": {},
   "outputs": [
    {
     "name": "stdout",
     "output_type": "stream",
     "text": [
      "['dataset_0_X_scaled', 'dataset_0_Y', 'dataset_10_X_scaled', 'dataset_10_Y', 'dataset_11_X_scaled', 'dataset_11_Y', 'dataset_12_X_scaled', 'dataset_12_Y', 'dataset_13_X_scaled', 'dataset_13_Y', 'dataset_14_X_scaled', 'dataset_14_Y', 'dataset_15_X_scaled', 'dataset_15_Y', 'dataset_16_X_scaled', 'dataset_16_Y', 'dataset_17_X_scaled', 'dataset_17_Y', 'dataset_18_X_scaled', 'dataset_18_Y', 'dataset_19_X_scaled', 'dataset_19_Y', 'dataset_1_X_scaled', 'dataset_1_Y', 'dataset_20_X_scaled', 'dataset_20_Y', 'dataset_21_X_scaled', 'dataset_21_Y', 'dataset_22_X_scaled', 'dataset_22_Y', 'dataset_23_X_scaled', 'dataset_23_Y', 'dataset_24_X_scaled', 'dataset_24_Y', 'dataset_25_X_scaled', 'dataset_25_Y', 'dataset_26_X_scaled', 'dataset_26_Y', 'dataset_27_X_scaled', 'dataset_27_Y', 'dataset_28_X_scaled', 'dataset_28_Y', 'dataset_29_X_scaled', 'dataset_29_Y', 'dataset_2_X_scaled', 'dataset_2_Y', 'dataset_30_X_scaled', 'dataset_30_Y', 'dataset_31_X_scaled', 'dataset_31_Y', 'dataset_32_X_scaled', 'dataset_32_Y', 'dataset_33_X_scaled', 'dataset_33_Y', 'dataset_34_X_scaled', 'dataset_34_Y', 'dataset_35_X_scaled', 'dataset_35_Y', 'dataset_36_X_scaled', 'dataset_36_Y', 'dataset_37_X_scaled', 'dataset_37_Y', 'dataset_38_X_scaled', 'dataset_38_Y', 'dataset_39_X_scaled', 'dataset_39_Y', 'dataset_3_X_scaled', 'dataset_3_Y', 'dataset_40_X_scaled', 'dataset_40_Y', 'dataset_41_X_scaled', 'dataset_41_Y', 'dataset_42_X_scaled', 'dataset_42_Y', 'dataset_43_X_scaled', 'dataset_43_Y', 'dataset_44_X_scaled', 'dataset_44_Y', 'dataset_4_X_scaled', 'dataset_4_Y', 'dataset_5_X_scaled', 'dataset_5_Y', 'dataset_6_X_scaled', 'dataset_6_Y', 'dataset_7_X_scaled', 'dataset_7_Y', 'dataset_8_X_scaled', 'dataset_8_Y', 'dataset_9_X_scaled', 'dataset_9_Y']\n"
     ]
    }
   ],
   "source": [
    "# Original train scaled..\n",
    "# Let me put the new file into the same dir.\n",
    "datadir = 'history/2019-12-22T174803Z'\n",
    "\n",
    "train_scaled_loc = f'{datadir}/train_scaled.h5'\n",
    "train_balanced_loc = f'{datadir}/train_balanced.h5'\n",
    "\n",
    "# Looking at it, I had truly quite a lot of mini `10k` large datasets in there,\n",
    "# So there should be plenty to spare to make more data sets.\n",
    "print(mu.h5_keys(train_scaled_loc))"
   ]
  },
  {
   "cell_type": "code",
   "execution_count": 19,
   "metadata": {},
   "outputs": [
    {
     "name": "stderr",
     "output_type": "stream",
     "text": [
      "\n",
      "0it [00:00, ?it/s]\u001b[A\n",
      "45it [00:00, 316.22it/s]\u001b[A\n"
     ]
    },
    {
     "data": {
      "text/plain": [
       "{0: 234038, 1: 7625, 2: 179699, 3: 23090}"
      ]
     },
     "execution_count": 19,
     "metadata": {},
     "output_type": "execute_result"
    }
   ],
   "source": [
    "mu.count_data_in_location(loc=train_scaled_loc,\n",
    "                          datasets=[x for x in mu.h5_keys(train_scaled_loc) \n",
    "                               if '_Y' in x])"
   ]
  },
  {
   "cell_type": "code",
   "execution_count": 20,
   "metadata": {},
   "outputs": [
    {
     "data": {
      "application/vnd.jupyter.widget-view+json": {
       "model_id": "5106e008f18941f9bac7d29758b5fefe",
       "version_major": 2,
       "version_minor": 0
      },
      "text/plain": [
       "HBox(children=(FloatProgress(value=1.0, bar_style='info', max=1.0), HTML(value='')))"
      ]
     },
     "metadata": {},
     "output_type": "display_data"
    },
    {
     "name": "stdout",
     "output_type": "stream",
     "text": [
      "\n",
      "{0: [1650, 8580, 8096, 8136, 8655, 8655, 8655, 8655, 8655, 9328, 9936, 6099, 9936, 5377, 3997, 8655, 8248, 8655, 8655, 9936, 7058, 8655, 8481, 9872, 9936, 9071, 7013, 7588, 7805], 1: [3837, 865, 2923], 2: [8286, 9936, 4495, 9936, 9936, 9936, 9936, 9936, 9936, 9936, 9936, 9936, 5875, 9936, 9936, 9936, 9936, 9936, 9936, 2067], 3: [1356, 1840, 1800, 1281, 1281, 1281, 1281, 1281, 544, 1281, 1688, 1281, 1281, 2878, 1281, 1455]}\n",
      "{0: 234038, 1: 7625, 2: 179699, 3: 23090}\n"
     ]
    }
   ],
   "source": [
    "loc = train_scaled_loc\n",
    "datasets = [x for x in mu.h5_keys(train_scaled_loc) \n",
    "                               if '_Y' in x]\n",
    "    \n",
    "counters_index = {}\n",
    "for i, name in tqdm(enumerate(datasets)):\n",
    "    with h5py.File(loc, 'r+') as fd:\n",
    "        Y = fd[name].__array__()\n",
    "        labels = np.argmax(Y, axis=1)\n",
    "        counters_index[i] = dict(Counter(labels))\n",
    "\n",
    "total_counts = {k: [x.get(k) for x in counters_index.values() \n",
    "                    if x.get(k) is not None]\n",
    "               for k in [0, 1, 2, 3]}\n",
    "total_label_sums = {k: sum(total_counts[k]) for k in [0, 1, 2, 3]}\n",
    "print(total_counts)\n",
    "print(total_label_sums)\n"
   ]
  },
  {
   "cell_type": "code",
   "execution_count": 21,
   "metadata": {},
   "outputs": [],
   "source": [
    "from tqdm.auto import tqdm"
   ]
  },
  {
   "cell_type": "code",
   "execution_count": 22,
   "metadata": {},
   "outputs": [],
   "source": [
    "# Ah crap oops, so there was actually a very small amount of `label=1` in the entirety of this\n",
    "# `train.h5` , so there is no more to take from . \n",
    "#\n",
    "# Ok but instead, I can actually try running the typical validation I run,\n",
    "# on that original train data since I had never done that before.\n",
    "#\n",
    "# Using yesterdays model dir...\n",
    "workdir = 'history/2020-01-19T180030Z'\n",
    "\n",
    "train_shuff_loc = f'{datadir}/train_scaled_balanced_shuffled.h5'\n"
   ]
  },
  {
   "cell_type": "code",
   "execution_count": 23,
   "metadata": {},
   "outputs": [
    {
     "name": "stdout",
     "output_type": "stream",
     "text": [
      "6\n"
     ]
    },
    {
     "data": {
      "application/vnd.jupyter.widget-view+json": {
       "model_id": "e8757804e6ac4c0f8882ad6d5b3a5f1a",
       "version_major": 2,
       "version_minor": 0
      },
      "text/plain": [
       "HBox(children=(FloatProgress(value=0.0, max=6.0), HTML(value='')))"
      ]
     },
     "metadata": {},
     "output_type": "display_data"
    },
    {
     "name": "stdout",
     "output_type": "stream",
     "text": [
      "history/2020-01-19T180030Z/epoch_000_batch_00000_model.h5 True\n",
      "history/2020-01-19T180030Z/epoch_000_batch_00200_model.h5 True\n",
      "history/2020-01-19T180030Z/epoch_000_batch_00400_model.h5 True\n",
      "history/2020-01-19T180030Z/epoch_000_batch_00600_model.h5 True\n",
      "history/2020-01-19T180030Z/epoch_000_batch_00800_model.h5 True\n",
      "history/2020-01-19T180030Z/epoch_000_batch_01000_model.h5 True\n",
      "\n"
     ]
    }
   ],
   "source": [
    "## Double check access to model files...\n",
    "\n",
    "epoch = 0\n",
    "print(len(list(np.arange(0, 1100, 200))))\n",
    "for batch in tqdm(list(np.arange(0, 1100, 200))):\n",
    "    step = batch\n",
    "    prefix = (f'{workdir}/epoch_{str(epoch).zfill(3)}'\n",
    "                           f'_batch_{str(batch).zfill(5)}')\n",
    "\n",
    "    modelname = f'{prefix}_model.h5'\n",
    "    print(modelname, os.path.exists(modelname))"
   ]
  },
  {
   "cell_type": "code",
   "execution_count": 24,
   "metadata": {
    "scrolled": true
   },
   "outputs": [
    {
     "name": "stdout",
     "output_type": "stream",
     "text": [
      "starting validation of original full training set...  2020-01-20T163214Z\n"
     ]
    },
    {
     "data": {
      "application/vnd.jupyter.widget-view+json": {
       "model_id": "7f260dad2c8c4fd398b6ac1c2db68853",
       "version_major": 2,
       "version_minor": 0
      },
      "text/plain": [
       "HBox(children=(FloatProgress(value=0.0, max=5.0), HTML(value='')))"
      ]
     },
     "metadata": {},
     "output_type": "display_data"
    },
    {
     "name": "stdout",
     "output_type": "stream",
     "text": [
      "history/2020-01-19T180030Z/epoch_000_batch_00200_model.h5 True\n",
      "WARNING:tensorflow:No training configuration found in save file: the model was *not* compiled. Compile it manually.\n"
     ]
    },
    {
     "ename": "KeyError",
     "evalue": "\"Unable to open object (object 'X_0' doesn't exist)\"",
     "output_type": "error",
     "traceback": [
      "\u001b[0;31m---------------------------------------------------------------------------\u001b[0m",
      "\u001b[0;31mKeyError\u001b[0m                                  Traceback (most recent call last)",
      "\u001b[0;32m<ipython-input-24-581db3c6db0d>\u001b[0m in \u001b[0;36m<module>\u001b[0;34m()\u001b[0m\n\u001b[1;32m     17\u001b[0m                                \u001b[0mdataloc\u001b[0m\u001b[0;34m=\u001b[0m\u001b[0mtrain_shuff_loc\u001b[0m\u001b[0;34m,\u001b[0m\u001b[0;34m\u001b[0m\u001b[0m\n\u001b[1;32m     18\u001b[0m                                \u001b[0meager\u001b[0m\u001b[0;34m=\u001b[0m\u001b[0;32mTrue\u001b[0m\u001b[0;34m,\u001b[0m\u001b[0;34m\u001b[0m\u001b[0m\n\u001b[0;32m---> 19\u001b[0;31m                               batch_size=32)\n\u001b[0m\u001b[1;32m     20\u001b[0m     \u001b[0mbatch_losses_vec\u001b[0m\u001b[0;34m.\u001b[0m\u001b[0mappend\u001b[0m\u001b[0;34m(\u001b[0m\u001b[0;34m[\u001b[0m\u001b[0mfloat\u001b[0m\u001b[0;34m(\u001b[0m\u001b[0mx\u001b[0m\u001b[0;34m)\u001b[0m \u001b[0;32mfor\u001b[0m \u001b[0mx\u001b[0m \u001b[0;32min\u001b[0m \u001b[0msteploss\u001b[0m\u001b[0;34m]\u001b[0m\u001b[0;34m)\u001b[0m\u001b[0;34m\u001b[0m\u001b[0m\n\u001b[1;32m     21\u001b[0m     mu.to_json_local({'batch_losses_vec': batch_losses_vec,\n",
      "\u001b[0;32m~/SageMaker/aviation-pilot-physiology-hmm/mytf/validation.py\u001b[0m in \u001b[0;36mperf_wrapper\u001b[0;34m(modelloc, dataloc, eager, batch_size)\u001b[0m\n\u001b[1;32m     65\u001b[0m                                   ['X_3', 'Ylabels_3']],\n\u001b[1;32m     66\u001b[0m                     \u001b[0meager\u001b[0m\u001b[0;34m=\u001b[0m\u001b[0meager\u001b[0m\u001b[0;34m,\u001b[0m\u001b[0;34m\u001b[0m\u001b[0m\n\u001b[0;32m---> 67\u001b[0;31m                     batch_size=batch_size)\n\u001b[0m\u001b[1;32m     68\u001b[0m \u001b[0;34m\u001b[0m\u001b[0m\n",
      "\u001b[0;32m~/SageMaker/aviation-pilot-physiology-hmm/mytf/validation.py\u001b[0m in \u001b[0;36mget_performance_parts\u001b[0;34m(model, dataloc, dataset_names, eager, batch_size)\u001b[0m\n\u001b[1;32m     25\u001b[0m     \u001b[0;32mfor\u001b[0m \u001b[0mXdataset\u001b[0m\u001b[0;34m,\u001b[0m \u001b[0mYdataset\u001b[0m \u001b[0;32min\u001b[0m \u001b[0mdataset_names\u001b[0m\u001b[0;34m:\u001b[0m\u001b[0;34m\u001b[0m\u001b[0m\n\u001b[1;32m     26\u001b[0m \u001b[0;34m\u001b[0m\u001b[0m\n\u001b[0;32m---> 27\u001b[0;31m         \u001b[0mX\u001b[0m\u001b[0;34m,\u001b[0m \u001b[0mYlabels\u001b[0m \u001b[0;34m=\u001b[0m \u001b[0mmu\u001b[0m\u001b[0;34m.\u001b[0m\u001b[0mread_h5_two\u001b[0m\u001b[0;34m(\u001b[0m\u001b[0mdataloc\u001b[0m\u001b[0;34m,\u001b[0m \u001b[0mXdataset\u001b[0m\u001b[0;34m,\u001b[0m \u001b[0mYdataset\u001b[0m\u001b[0;34m)\u001b[0m\u001b[0;34m\u001b[0m\u001b[0m\n\u001b[0m\u001b[1;32m     28\u001b[0m         \u001b[0mparts\u001b[0m \u001b[0;34m=\u001b[0m \u001b[0mmu\u001b[0m\u001b[0;34m.\u001b[0m\u001b[0mget_partitions\u001b[0m\u001b[0;34m(\u001b[0m\u001b[0mrange\u001b[0m\u001b[0;34m(\u001b[0m\u001b[0mX\u001b[0m\u001b[0;34m.\u001b[0m\u001b[0mshape\u001b[0m\u001b[0;34m[\u001b[0m\u001b[0;36m0\u001b[0m\u001b[0;34m]\u001b[0m\u001b[0;34m)\u001b[0m\u001b[0;34m,\u001b[0m \u001b[0mbatch_size\u001b[0m\u001b[0;34m,\u001b[0m \u001b[0mkeep_remainder\u001b[0m\u001b[0;34m=\u001b[0m\u001b[0;32mFalse\u001b[0m\u001b[0;34m)\u001b[0m\u001b[0;34m\u001b[0m\u001b[0m\n\u001b[1;32m     29\u001b[0m         \u001b[0mbatchlosses\u001b[0m \u001b[0;34m=\u001b[0m \u001b[0;34m[\u001b[0m\u001b[0;34m]\u001b[0m\u001b[0;34m\u001b[0m\u001b[0m\n",
      "\u001b[0;32m~/SageMaker/aviation-pilot-physiology-hmm/mytf/utils.py\u001b[0m in \u001b[0;36mread_h5_two\u001b[0;34m(source_location, Xdataset, Ydataset)\u001b[0m\n\u001b[1;32m    665\u001b[0m \u001b[0;32mdef\u001b[0m \u001b[0mread_h5_two\u001b[0m\u001b[0;34m(\u001b[0m\u001b[0msource_location\u001b[0m\u001b[0;34m,\u001b[0m \u001b[0mXdataset\u001b[0m\u001b[0;34m,\u001b[0m \u001b[0mYdataset\u001b[0m\u001b[0;34m)\u001b[0m\u001b[0;34m:\u001b[0m\u001b[0;34m\u001b[0m\u001b[0m\n\u001b[1;32m    666\u001b[0m     \u001b[0;32mwith\u001b[0m \u001b[0mh5py\u001b[0m\u001b[0;34m.\u001b[0m\u001b[0mFile\u001b[0m\u001b[0;34m(\u001b[0m\u001b[0msource_location\u001b[0m\u001b[0;34m,\u001b[0m \u001b[0;34m'r+'\u001b[0m\u001b[0;34m)\u001b[0m \u001b[0;32mas\u001b[0m \u001b[0mfd\u001b[0m\u001b[0;34m:\u001b[0m\u001b[0;34m\u001b[0m\u001b[0m\n\u001b[0;32m--> 667\u001b[0;31m         \u001b[0mX\u001b[0m \u001b[0;34m=\u001b[0m \u001b[0mfd\u001b[0m\u001b[0;34m[\u001b[0m\u001b[0mXdataset\u001b[0m\u001b[0;34m]\u001b[0m\u001b[0;34m.\u001b[0m\u001b[0m__array__\u001b[0m\u001b[0;34m(\u001b[0m\u001b[0;34m)\u001b[0m\u001b[0;34m\u001b[0m\u001b[0m\n\u001b[0m\u001b[1;32m    668\u001b[0m         \u001b[0mY\u001b[0m \u001b[0;34m=\u001b[0m \u001b[0mfd\u001b[0m\u001b[0;34m[\u001b[0m\u001b[0mYdataset\u001b[0m\u001b[0;34m]\u001b[0m\u001b[0;34m.\u001b[0m\u001b[0m__array__\u001b[0m\u001b[0;34m(\u001b[0m\u001b[0;34m)\u001b[0m\u001b[0;34m\u001b[0m\u001b[0m\n\u001b[1;32m    669\u001b[0m         \u001b[0;31m#Ylabels = np.argmax(Y, axis=1)\u001b[0m\u001b[0;34m\u001b[0m\u001b[0;34m\u001b[0m\u001b[0m\n",
      "\u001b[0;32mh5py/_objects.pyx\u001b[0m in \u001b[0;36mh5py._objects.with_phil.wrapper\u001b[0;34m()\u001b[0m\n",
      "\u001b[0;32mh5py/_objects.pyx\u001b[0m in \u001b[0;36mh5py._objects.with_phil.wrapper\u001b[0;34m()\u001b[0m\n",
      "\u001b[0;32m~/anaconda3/envs/tensorflow_p36/lib/python3.6/site-packages/h5py/_hl/group.py\u001b[0m in \u001b[0;36m__getitem__\u001b[0;34m(self, name)\u001b[0m\n\u001b[1;32m    175\u001b[0m                 \u001b[0;32mraise\u001b[0m \u001b[0mValueError\u001b[0m\u001b[0;34m(\u001b[0m\u001b[0;34m\"Invalid HDF5 object reference\"\u001b[0m\u001b[0;34m)\u001b[0m\u001b[0;34m\u001b[0m\u001b[0m\n\u001b[1;32m    176\u001b[0m         \u001b[0;32melse\u001b[0m\u001b[0;34m:\u001b[0m\u001b[0;34m\u001b[0m\u001b[0m\n\u001b[0;32m--> 177\u001b[0;31m             \u001b[0moid\u001b[0m \u001b[0;34m=\u001b[0m \u001b[0mh5o\u001b[0m\u001b[0;34m.\u001b[0m\u001b[0mopen\u001b[0m\u001b[0;34m(\u001b[0m\u001b[0mself\u001b[0m\u001b[0;34m.\u001b[0m\u001b[0mid\u001b[0m\u001b[0;34m,\u001b[0m \u001b[0mself\u001b[0m\u001b[0;34m.\u001b[0m\u001b[0m_e\u001b[0m\u001b[0;34m(\u001b[0m\u001b[0mname\u001b[0m\u001b[0;34m)\u001b[0m\u001b[0;34m,\u001b[0m \u001b[0mlapl\u001b[0m\u001b[0;34m=\u001b[0m\u001b[0mself\u001b[0m\u001b[0;34m.\u001b[0m\u001b[0m_lapl\u001b[0m\u001b[0;34m)\u001b[0m\u001b[0;34m\u001b[0m\u001b[0m\n\u001b[0m\u001b[1;32m    178\u001b[0m \u001b[0;34m\u001b[0m\u001b[0m\n\u001b[1;32m    179\u001b[0m         \u001b[0motype\u001b[0m \u001b[0;34m=\u001b[0m \u001b[0mh5i\u001b[0m\u001b[0;34m.\u001b[0m\u001b[0mget_type\u001b[0m\u001b[0;34m(\u001b[0m\u001b[0moid\u001b[0m\u001b[0;34m)\u001b[0m\u001b[0;34m\u001b[0m\u001b[0m\n",
      "\u001b[0;32mh5py/_objects.pyx\u001b[0m in \u001b[0;36mh5py._objects.with_phil.wrapper\u001b[0;34m()\u001b[0m\n",
      "\u001b[0;32mh5py/_objects.pyx\u001b[0m in \u001b[0;36mh5py._objects.with_phil.wrapper\u001b[0;34m()\u001b[0m\n",
      "\u001b[0;32mh5py/h5o.pyx\u001b[0m in \u001b[0;36mh5py.h5o.open\u001b[0;34m()\u001b[0m\n",
      "\u001b[0;31mKeyError\u001b[0m: \"Unable to open object (object 'X_0' doesn't exist)\""
     ]
    }
   ],
   "source": [
    "# So below, using `train_shuff_loc` instead of `test_loc` , since\n",
    "# again, I'm measuring performance on full train set ...\n",
    "print('starting validation of original full training set... ', mu.quickts())\n",
    "\n",
    "batch_losses_vec = []\n",
    "\n",
    "epoch = 0\n",
    "for batch in tqdm(list(np.arange(200, 1100, 200))):\n",
    "    step = batch\n",
    "    prefix = (f'{workdir}/epoch_{str(epoch).zfill(3)}'\n",
    "                           f'_batch_{str(batch).zfill(5)}')\n",
    "\n",
    "    modelname = f'{prefix}_model.h5'\n",
    "    print(modelname, os.path.exists(modelname))\n",
    "\n",
    "    steploss = mv.perf_wrapper(modelname,\n",
    "                               dataloc=train_shuff_loc,\n",
    "                               eager=True,\n",
    "                              batch_size=32)\n",
    "    batch_losses_vec.append([float(x) for x in steploss])\n",
    "    mu.to_json_local({'batch_losses_vec': batch_losses_vec,\n",
    "                  'step': int(step)\n",
    "              }, \n",
    "              f'{prefix}_validation_losses.json')\n",
    "    \n",
    "print('done validation', mu.quickts())\n",
    "#####\n",
    "lossesarr = np.array(batch_losses_vec)\n",
    "meanlossesarr = np.mean(lossesarr, axis=1)\n",
    "\n",
    "batch_losses_vec[:5]\n",
    "#batch_losses_vec = []\n",
    "#for step in np.arange(0, 1068, 10):\n",
    "# [2.8359528, 0.45356295, 1.7049086, 4.099845]\n",
    "\n",
    "plt.plot([x[0] for x in batch_losses_vec], color='blue', label='0')\n",
    "plt.plot([x[1] for x in batch_losses_vec], color='green', label='1')\n",
    "plt.plot([x[2] for x in batch_losses_vec], color='red', label='2')\n",
    "plt.plot([x[3] for x in batch_losses_vec], color='orange', label='3')\n",
    "plt.plot(meanlossesarr, color='black', label='mean')\n",
    "plt.title(f'validation losses  (model {ts})')\n",
    "plt.legend()     \n",
    "        "
   ]
  },
  {
   "cell_type": "code",
   "execution_count": 25,
   "metadata": {},
   "outputs": [
    {
     "name": "stdout",
     "output_type": "stream",
     "text": [
      "['X', 'Ylabels']\n",
      "['dataset_0_X_scaled', 'dataset_0_Y', 'dataset_10_X_scaled', 'dataset_10_Y', 'dataset_11_X_scaled', 'dataset_11_Y', 'dataset_12_X_scaled', 'dataset_12_Y', 'dataset_13_X_scaled', 'dataset_13_Y', 'dataset_14_X_scaled', 'dataset_14_Y', 'dataset_15_X_scaled', 'dataset_15_Y', 'dataset_16_X_scaled', 'dataset_16_Y', 'dataset_17_X_scaled', 'dataset_17_Y', 'dataset_18_X_scaled', 'dataset_18_Y', 'dataset_19_X_scaled', 'dataset_19_Y', 'dataset_1_X_scaled', 'dataset_1_Y', 'dataset_20_X_scaled', 'dataset_20_Y', 'dataset_21_X_scaled', 'dataset_21_Y', 'dataset_22_X_scaled', 'dataset_22_Y', 'dataset_23_X_scaled', 'dataset_23_Y', 'dataset_24_X_scaled', 'dataset_24_Y', 'dataset_25_X_scaled', 'dataset_25_Y', 'dataset_26_X_scaled', 'dataset_26_Y', 'dataset_27_X_scaled', 'dataset_27_Y', 'dataset_28_X_scaled', 'dataset_28_Y', 'dataset_29_X_scaled', 'dataset_29_Y', 'dataset_2_X_scaled', 'dataset_2_Y', 'dataset_30_X_scaled', 'dataset_30_Y', 'dataset_31_X_scaled', 'dataset_31_Y', 'dataset_32_X_scaled', 'dataset_32_Y', 'dataset_33_X_scaled', 'dataset_33_Y', 'dataset_34_X_scaled', 'dataset_34_Y', 'dataset_35_X_scaled', 'dataset_35_Y', 'dataset_36_X_scaled', 'dataset_36_Y', 'dataset_37_X_scaled', 'dataset_37_Y', 'dataset_38_X_scaled', 'dataset_38_Y', 'dataset_39_X_scaled', 'dataset_39_Y', 'dataset_3_X_scaled', 'dataset_3_Y', 'dataset_40_X_scaled', 'dataset_40_Y', 'dataset_41_X_scaled', 'dataset_41_Y', 'dataset_42_X_scaled', 'dataset_42_Y', 'dataset_43_X_scaled', 'dataset_43_Y', 'dataset_44_X_scaled', 'dataset_44_Y', 'dataset_4_X_scaled', 'dataset_4_Y', 'dataset_5_X_scaled', 'dataset_5_Y', 'dataset_6_X_scaled', 'dataset_6_Y', 'dataset_7_X_scaled', 'dataset_7_Y', 'dataset_8_X_scaled', 'dataset_8_Y', 'dataset_9_X_scaled', 'dataset_9_Y']\n",
      "['X_0', 'X_1', 'X_2', 'X_3', 'Ylabels_0', 'Ylabels_1', 'Ylabels_2', 'Ylabels_3']\n"
     ]
    }
   ],
   "source": [
    "print(mu.h5_keys(train_shuff_loc))\n",
    "print(mu.h5_keys(train_scaled_loc))\n",
    "print(mu.h5_keys(train_balanced_loc))\n"
   ]
  },
  {
   "cell_type": "code",
   "execution_count": 26,
   "metadata": {},
   "outputs": [
    {
     "name": "stdout",
     "output_type": "stream",
     "text": [
      "starting validation of original full training set...  2020-01-20T163436Z\n"
     ]
    },
    {
     "data": {
      "application/vnd.jupyter.widget-view+json": {
       "model_id": "377374e1d10c42728d6357c92624b388",
       "version_major": 2,
       "version_minor": 0
      },
      "text/plain": [
       "HBox(children=(FloatProgress(value=0.0, max=5.0), HTML(value='')))"
      ]
     },
     "metadata": {},
     "output_type": "display_data"
    },
    {
     "name": "stdout",
     "output_type": "stream",
     "text": [
      "history/2020-01-19T180030Z/epoch_000_batch_00200_model.h5 True\n",
      "WARNING:tensorflow:No training configuration found in save file: the model was *not* compiled. Compile it manually.\n",
      "history/2020-01-19T180030Z/epoch_000_batch_00400_model.h5 True\n",
      "WARNING:tensorflow:No training configuration found in save file: the model was *not* compiled. Compile it manually.\n",
      "history/2020-01-19T180030Z/epoch_000_batch_00600_model.h5 True\n",
      "WARNING:tensorflow:No training configuration found in save file: the model was *not* compiled. Compile it manually.\n",
      "history/2020-01-19T180030Z/epoch_000_batch_00800_model.h5 True\n",
      "WARNING:tensorflow:No training configuration found in save file: the model was *not* compiled. Compile it manually.\n",
      "history/2020-01-19T180030Z/epoch_000_batch_01000_model.h5 True\n",
      "WARNING:tensorflow:No training configuration found in save file: the model was *not* compiled. Compile it manually.\n",
      "\n",
      "done validation 2020-01-20T164947Z\n"
     ]
    },
    {
     "ename": "NameError",
     "evalue": "name 'ts' is not defined",
     "output_type": "error",
     "traceback": [
      "\u001b[0;31m---------------------------------------------------------------------------\u001b[0m",
      "\u001b[0;31mNameError\u001b[0m                                 Traceback (most recent call last)",
      "\u001b[0;32m<ipython-input-26-81741b0e8faa>\u001b[0m in \u001b[0;36m<module>\u001b[0;34m()\u001b[0m\n\u001b[1;32m     39\u001b[0m \u001b[0mplt\u001b[0m\u001b[0;34m.\u001b[0m\u001b[0mplot\u001b[0m\u001b[0;34m(\u001b[0m\u001b[0;34m[\u001b[0m\u001b[0mx\u001b[0m\u001b[0;34m[\u001b[0m\u001b[0;36m3\u001b[0m\u001b[0;34m]\u001b[0m \u001b[0;32mfor\u001b[0m \u001b[0mx\u001b[0m \u001b[0;32min\u001b[0m \u001b[0mbatch_losses_vec\u001b[0m\u001b[0;34m]\u001b[0m\u001b[0;34m,\u001b[0m \u001b[0mcolor\u001b[0m\u001b[0;34m=\u001b[0m\u001b[0;34m'orange'\u001b[0m\u001b[0;34m,\u001b[0m \u001b[0mlabel\u001b[0m\u001b[0;34m=\u001b[0m\u001b[0;34m'3'\u001b[0m\u001b[0;34m)\u001b[0m\u001b[0;34m\u001b[0m\u001b[0m\n\u001b[1;32m     40\u001b[0m \u001b[0mplt\u001b[0m\u001b[0;34m.\u001b[0m\u001b[0mplot\u001b[0m\u001b[0;34m(\u001b[0m\u001b[0mmeanlossesarr\u001b[0m\u001b[0;34m,\u001b[0m \u001b[0mcolor\u001b[0m\u001b[0;34m=\u001b[0m\u001b[0;34m'black'\u001b[0m\u001b[0;34m,\u001b[0m \u001b[0mlabel\u001b[0m\u001b[0;34m=\u001b[0m\u001b[0;34m'mean'\u001b[0m\u001b[0;34m)\u001b[0m\u001b[0;34m\u001b[0m\u001b[0m\n\u001b[0;32m---> 41\u001b[0;31m \u001b[0mplt\u001b[0m\u001b[0;34m.\u001b[0m\u001b[0mtitle\u001b[0m\u001b[0;34m(\u001b[0m\u001b[0;34mf'validation losses  (model {ts})'\u001b[0m\u001b[0;34m)\u001b[0m\u001b[0;34m\u001b[0m\u001b[0m\n\u001b[0m\u001b[1;32m     42\u001b[0m \u001b[0mplt\u001b[0m\u001b[0;34m.\u001b[0m\u001b[0mlegend\u001b[0m\u001b[0;34m(\u001b[0m\u001b[0;34m)\u001b[0m\u001b[0;34m\u001b[0m\u001b[0m\n\u001b[1;32m     43\u001b[0m \u001b[0;34m\u001b[0m\u001b[0m\n",
      "\u001b[0;31mNameError\u001b[0m: name 'ts' is not defined"
     ]
    },
    {
     "data": {
      "image/png": "[encoded data removed]",
      "text/plain": [
       "<Figure size 432x288 with 1 Axes>"
      ]
     },
     "metadata": {},
     "output_type": "display_data"
    }
   ],
   "source": [
    "# ok try one more time... with `train_balanced_loc` instead of the `train_shuff_loc`, \n",
    "# since `train_shuff_loc` doesnt have per label data so cant be used for the evaluation\n",
    "print('starting validation of original full training set... ', mu.quickts())\n",
    "\n",
    "batch_losses_vec = []\n",
    "\n",
    "epoch = 0\n",
    "for batch in tqdm(list(np.arange(200, 1100, 200))):\n",
    "    step = batch\n",
    "    prefix = (f'{workdir}/epoch_{str(epoch).zfill(3)}'\n",
    "                           f'_batch_{str(batch).zfill(5)}')\n",
    "\n",
    "    modelname = f'{prefix}_model.h5'\n",
    "    print(modelname, os.path.exists(modelname))\n",
    "\n",
    "    steploss = mv.perf_wrapper(modelname,\n",
    "                               dataloc=train_balanced_loc,\n",
    "                               eager=True,\n",
    "                              batch_size=32)\n",
    "    batch_losses_vec.append([float(x) for x in steploss])\n",
    "    mu.to_json_local({'batch_losses_vec': batch_losses_vec,\n",
    "                  'step': int(step)\n",
    "              }, \n",
    "              f'{prefix}_validation_losses.json')\n",
    "    \n",
    "print('done validation', mu.quickts())\n",
    "#####\n",
    "lossesarr = np.array(batch_losses_vec)\n",
    "meanlossesarr = np.mean(lossesarr, axis=1)\n",
    "\n",
    "batch_losses_vec[:5]\n",
    "#batch_losses_vec = []\n",
    "#for step in np.arange(0, 1068, 10):\n",
    "# [2.8359528, 0.45356295, 1.7049086, 4.099845]\n",
    "\n",
    "plt.plot([x[0] for x in batch_losses_vec], color='blue', label='0')\n",
    "plt.plot([x[1] for x in batch_losses_vec], color='green', label='1')\n",
    "plt.plot([x[2] for x in batch_losses_vec], color='red', label='2')\n",
    "plt.plot([x[3] for x in batch_losses_vec], color='orange', label='3')\n",
    "plt.plot(meanlossesarr, color='black', label='mean')\n",
    "plt.title(f'validation losses  (model {ts})')\n",
    "plt.legend()     \n",
    "        "
   ]
  }
 ],
 "metadata": {
  "kernelspec": {
   "display_name": "conda_tensorflow_p36",
   "language": "python",
   "name": "conda_tensorflow_p36"
  },
  "language_info": {
   "codemirror_mode": {
    "name": "ipython",
    "version": 3
   },
   "file_extension": ".py",
   "mimetype": "text/x-python",
   "name": "python",
   "nbconvert_exporter": "python",
   "pygments_lexer": "ipython3",
   "version": "3.6.5"
  }
 },
 "nbformat": 4,
 "nbformat_minor": 2
}
