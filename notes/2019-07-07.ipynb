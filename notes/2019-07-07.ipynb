{
 "cells": [
  {
   "cell_type": "code",
   "execution_count": null,
   "metadata": {},
   "outputs": [],
   "source": [
    "# Something tells me that using stateful=True in my problem,\n",
    "# is actually not the right approach. \n",
    "# , \n",
    "# (Reading through the section \"LSTM with Memory Between Batches\" \n",
    "#    in https://machinelearningmastery.com/time-series-prediction-lstm-recurrent-neural-networks-python-keras/ \n",
    "# I'm picking up that stateful=True benefits learning really long sequences,\n",
    "# I guess that go beyond the length of the \"look back\" denoted by \n",
    "# the input_shape )\n",
    "#\n",
    "# That being said, the 256 size I happen to have chosen was somewhat arbitrarily\n",
    "# based on the 256 Hz sampling rate of all the physiological sensors in the experiment.\n",
    "# \n",
    "# I don't know if 1 second is a long enough chunk of the pattern, but I think yes,\n",
    "# because visually observing , back in https://github.com/namoopsoo/aviation-pilot-physiology-hmm/blob/master/notes/2019-06-08-visually-inspect-generated-sequences.md ,\n",
    "# the slope can be picked up. Hmm but that being said, \n",
    "# the data in quesetion is sthe respiration. Maybe for heart rate 1 second is enough,\n",
    "# but perhaps for respiration, maybe a sequence needs to capture a period or a \n",
    "# period and a half or two?\n",
    "#\n",
    "# Anyway, LSTMs have memory in between the individual LSTM cell units (and so\n",
    "# to me it makes sense that using 64 units like I am, in principle should cover\n",
    "# a full 64 seconds of respiration in this case. At least that's what I'm rationalizing\n",
    "# that is happening. ) \n",
    "#\n",
    "# That being said, maybe I really do need to \"force forget\" in between the four\n",
    "# different classes I have examples for."
   ]
  },
  {
   "cell_type": "code",
   "execution_count": 1,
   "metadata": {},
   "outputs": [
    {
     "name": "stdout",
     "output_type": "stream",
     "text": [
      "True\n"
     ]
    }
   ],
   "source": [
    "# boiler plate\n",
    "from collections import Counter\n",
    "import pickle\n",
    "from importlib import reload\n",
    "import tensorflow as tf\n",
    "import numpy as np\n",
    "import matplotlib.pyplot as plt\n",
    "\n",
    "from sklearn.preprocessing import MinMaxScaler\n",
    "\n",
    "\n",
    "import ipdb\n",
    "import mytf.utils as mu\n",
    "\n",
    "tf.enable_eager_execution()\n",
    "\n",
    "print(tf.executing_eagerly())\n",
    "\n"
   ]
  },
  {
   "cell_type": "code",
   "execution_count": 6,
   "metadata": {},
   "outputs": [],
   "source": [
    "# tf.losses?? # l   tf.keras.layers.Dense\n",
    "# hinge_loss\n",
    "# huber_loss\n",
    "# log_loss\n",
    "# mean_pairwise_squared_error\n",
    "# mean_squared_error\n",
    "# sigmoid_cross_entropy\n",
    "# softmax_cross_entropy\n",
    "# sparse_softmax_cross_entropy\n",
    "\n",
    "# Also, I have been using no activation function in my tf.keras.layers.Dense() final layer,\n",
    "# this implicitly is a pass-through, `a(x) = x` basically.\n",
    "# - One alternative is activation='sigmoid' , for a (0,1) \n",
    "#\n",
    "# (But reading https://stats.stackexchange.com/questions/282842/dealing-with-sparse-categories-in-binary-cross-entropy , \n",
    "#  I get the impression that if the loss function also computes sigmoid then the advice is \n",
    "#  to leave the Dense        activation as linear. \n",
    "#  However, the classification example  at https://machinelearningmastery.com/sequence-classification-lstm-recurrent-neural-networks-python-keras/ , \n",
    "#    does also use activation=sigmoid with a loss=binary_cross entropy. Although\n",
    "#    Jason's example is just two classes (binary up/down ) whereas the stackoverflow\n",
    "#    example is more like my case with more than 2 classes.\n",
    "\n",
    "# My case is mutually exclusive however . At least that's the intent in the \n",
    "#    problem description. \n",
    "\n",
    "# ...\n",
    "# reading about these again... \n",
    "# (1) https://www.tensorflow.org/api_docs/python/tf/nn/sigmoid_cross_entropy_with_logits , \n",
    "# \"Measures the probability error in discrete classification tasks in \n",
    "#   which each class is independent and not mutually exclusive. \n",
    "#   For instance, one could perform multilabel classification where a picture can contain \n",
    "#   both an elephant and a dog at the same time.\"\n",
    "#\n",
    "#\n",
    "#\n",
    "# (2) https://www.tensorflow.org/api_docs/python/tf/nn/softmax_cross_entropy_with_logits \n",
    "#\n",
    "# , \"\"\"Measures the probability error in discrete classification tasks in which the classes are mutually exclusive \n",
    "#    (each entry is in exactly one class).\n",
    "#\n",
    "#    NOTE: While the classes are mutually exclusive, their probabilities need not be. All that is required is that each row of labels is a valid probability distribution. \n",
    "#     If they are not, the computation of the gradient will be incorrect.\n",
    "# \n",
    "#   If using exclusive labels (wherein one and only one class is true at a time), \n",
    "#     see sparse_softmax_cross_entropy_with_logits.\"\"\"\n",
    "#\n",
    "#\n",
    "#  ** Umm that sounds like a contradiction actually. (Actually after reading (3),\n",
    "#       I think I get what they mean)\n",
    "#\n",
    "# (3) https://www.tensorflow.org/api_docs/python/tf/nn/sparse_softmax_cross_entropy_with_logits\n",
    "#  \"\"\"Measures the probability error in discrete classification tasks \n",
    "#    in which the classes are mutually exclusive (each entry is in exactly one class). \n",
    "#    For example, each CIFAR-10 image is labeled with one and only one label: \n",
    "#      an image can be a dog or a truck, but not both.\n",
    "# \n",
    "#    NOTE: For this operation, the probability of a given label is considered exclusive. \n",
    "#      That is, soft classes are not allowed, and the labels vector \n",
    "#      must provide a single specific index for the true class for each row of logits \n",
    "#     (each minibatch entry). For soft softmax classification with a probability distribution \n",
    "#      for each entry, see softmax_cross_entropy_with_logits_v2. \"\"\""
   ]
  },
  {
   "cell_type": "code",
   "execution_count": null,
   "metadata": {},
   "outputs": [],
   "source": [
    "# Okay after re-reading the above (1), (2), (3) descriptions I am on the correct \n",
    "#  loss function. I have labels which are not probability distributions, \n",
    "#  but instead specific indexes. \n",
    "# And my case has mutually exclusive classes unlike the fuzzy case (1).\n",
    "#\n",
    "# So I must be doing something else wrong then."
   ]
  },
  {
   "cell_type": "code",
   "execution_count": null,
   "metadata": {},
   "outputs": [],
   "source": [
    "# Got to try the balancing act one more time,\n",
    "#  (read through https://machinelearningmastery.com/tactics-to-combat-imbalanced-classes-in-your-machine-learning-dataset/\n",
    "#   also , for more idea coverage.)\n",
    "# \n",
    "# Also shuffle is apparently good idea. "
   ]
  },
  {
   "cell_type": "code",
   "execution_count": 8,
   "metadata": {},
   "outputs": [
    {
     "data": {
      "text/plain": [
       "array([[ 0,  3],\n",
       "       [ 8,  3],\n",
       "       [12,  3],\n",
       "       [77,  2]])"
      ]
     },
     "execution_count": 8,
     "metadata": {},
     "output_type": "execute_result"
    }
   ],
   "source": [
    "foo_vec = [np.array([[0,3], [8,3]]), np.array([[12, 3], [77,2]])]\n",
    "np.concatenate(foo_vec)"
   ]
  },
  {
   "cell_type": "code",
   "execution_count": 37,
   "metadata": {},
   "outputs": [
    {
     "data": {
      "text/plain": [
       "array([1, 2, 3, 4])"
      ]
     },
     "execution_count": 37,
     "metadata": {},
     "output_type": "execute_result"
    }
   ],
   "source": [
    "import math\n",
    "def get_partitions(vec, slice_size):\n",
    "    assert slice_size > 0\n",
    "    #assert isinstance(vec, list)\n",
    "    num_slices = int(math.floor(len(vec)/slice_size))\n",
    "    print('num slices', num_slices)\n",
    "    size_remainder = len(vec) - num_slices*slice_size\n",
    "    assert size_remainder >= 0\n",
    "    print('size_remainder, ', size_remainder)\n",
    "    slices = [vec[k*slice_size:k*slice_size+slice_size] for k in range(num_slices)]\n",
    "    print('slices, ', slices)\n",
    "    if size_remainder:\n",
    "        slices.append(vec[-(size_remainder):])\n",
    "\n",
    "    return slices\n",
    "\n",
    "np.concatenate([[1,2], [3,4]])\n"
   ]
  },
  {
   "cell_type": "code",
   "execution_count": 39,
   "metadata": {},
   "outputs": [],
   "source": [
    "with open('models/2019-05-19T001217-UTC-outdata--SUBSET.pkl', 'rb') as fd:\n",
    "    minidata = pickle.load(fd)"
   ]
  },
  {
   "cell_type": "code",
   "execution_count": 42,
   "metadata": {},
   "outputs": [
    {
     "name": "stdout",
     "output_type": "stream",
     "text": [
      "training indices... (47000,)\n",
      "num slices 47\n",
      "size_remainder,  0\n",
      "Counter({3: 404, 0: 221, 2: 207, 1: 168})\n",
      "weights_per_class,  tf.Tensor([0.00045249 0.00297619 0.00048309 0.00074257], shape=(4,), dtype=float32)\n",
      "tf.Tensor(0.9999998, shape=(), dtype=float32)\n",
      "Counter({3: 422, 2: 219, 0: 206, 1: 153})\n",
      "weights_per_class,  tf.Tensor([0.00048544 0.00326797 0.00045662 0.0007109 ], shape=(4,), dtype=float32)\n",
      "tf.Tensor(1.0000038, shape=(), dtype=float32)\n",
      "Counter({3: 410, 2: 226, 0: 207, 1: 157})\n",
      "weights_per_class,  tf.Tensor([0.00048309 0.00318471 0.00044248 0.00073171], shape=(4,), dtype=float32)\n",
      "tf.Tensor(1.0000046, shape=(), dtype=float32)\n",
      "Counter({3: 417, 2: 222, 0: 198, 1: 163})\n",
      "weights_per_class,  tf.Tensor([0.00050505 0.00306748 0.00045045 0.00071942], shape=(4,), dtype=float32)\n",
      "tf.Tensor(0.99999934, shape=(), dtype=float32)\n",
      "Counter({3: 428, 2: 227, 0: 177, 1: 168})\n",
      "weights_per_class,  tf.Tensor([0.00056497 0.00297619 0.00044053 0.00070093], shape=(4,), dtype=float32)\n",
      "tf.Tensor(1.0000033, shape=(), dtype=float32)\n",
      "Counter({3: 411, 0: 228, 2: 221, 1: 140})\n",
      "weights_per_class,  tf.Tensor([0.0004386  0.00357143 0.00045249 0.00072993], shape=(4,), dtype=float32)\n",
      "tf.Tensor(0.99999934, shape=(), dtype=float32)\n",
      "Counter({3: 412, 0: 214, 2: 201, 1: 173})\n",
      "weights_per_class,  tf.Tensor([0.00046729 0.00289017 0.00049751 0.00072816], shape=(4,), dtype=float32)\n",
      "tf.Tensor(0.99999744, shape=(), dtype=float32)\n",
      "Counter({3: 424, 0: 228, 2: 182, 1: 166})\n",
      "weights_per_class,  tf.Tensor([0.0004386  0.00301205 0.00054945 0.00070755], shape=(4,), dtype=float32)\n",
      "tf.Tensor(1.0000017, shape=(), dtype=float32)\n",
      "Counter({3: 406, 0: 221, 2: 204, 1: 169})\n",
      "weights_per_class,  tf.Tensor([0.00045249 0.00295858 0.0004902  0.00073892], shape=(4,), dtype=float32)\n",
      "tf.Tensor(1.0000043, shape=(), dtype=float32)\n",
      "Counter({3: 423, 0: 217, 2: 202, 1: 158})\n",
      "weights_per_class,  tf.Tensor([0.00046083 0.00316456 0.00049505 0.00070922], shape=(4,), dtype=float32)\n",
      "tf.Tensor(1.0, shape=(), dtype=float32)\n",
      "Counter({3: 446, 2: 221, 0: 181, 1: 152})\n",
      "weights_per_class,  tf.Tensor([0.00055249 0.00328947 0.00045249 0.00067265], shape=(4,), dtype=float32)\n",
      "tf.Tensor(0.9999976, shape=(), dtype=float32)\n",
      "Counter({3: 418, 2: 222, 0: 211, 1: 149})\n",
      "weights_per_class,  tf.Tensor([0.00047393 0.0033557  0.00045045 0.0007177 ], shape=(4,), dtype=float32)\n",
      "tf.Tensor(0.9999948, shape=(), dtype=float32)\n",
      "Counter({3: 421, 0: 215, 2: 201, 1: 163})\n",
      "weights_per_class,  tf.Tensor([0.00046512 0.00306748 0.00049751 0.00071259], shape=(4,), dtype=float32)\n",
      "tf.Tensor(0.99999774, shape=(), dtype=float32)\n",
      "Counter({3: 388, 2: 223, 0: 221, 1: 168})\n",
      "weights_per_class,  tf.Tensor([0.00045249 0.00297619 0.00044843 0.0007732 ], shape=(4,), dtype=float32)\n",
      "tf.Tensor(0.9999984, shape=(), dtype=float32)\n",
      "Counter({3: 399, 0: 212, 2: 205, 1: 184})\n",
      "weights_per_class,  tf.Tensor([0.0004717  0.00271739 0.0004878  0.00075188], shape=(4,), dtype=float32)\n",
      "tf.Tensor(0.9999961, shape=(), dtype=float32)\n",
      "Counter({3: 412, 0: 213, 2: 206, 1: 169})\n",
      "weights_per_class,  tf.Tensor([0.00046948 0.00295858 0.00048544 0.00072816], shape=(4,), dtype=float32)\n",
      "tf.Tensor(0.99999774, shape=(), dtype=float32)\n",
      "Counter({3: 432, 0: 214, 2: 193, 1: 161})\n",
      "weights_per_class,  tf.Tensor([0.00046729 0.00310559 0.00051813 0.00069444], shape=(4,), dtype=float32)\n",
      "tf.Tensor(1.0000042, shape=(), dtype=float32)\n",
      "Counter({3: 398, 2: 209, 0: 204, 1: 189})\n",
      "weights_per_class,  tf.Tensor([0.0004902  0.0026455  0.00047847 0.00075377], shape=(4,), dtype=float32)\n",
      "tf.Tensor(0.99999356, shape=(), dtype=float32)\n",
      "Counter({3: 400, 2: 224, 0: 209, 1: 167})\n",
      "weights_per_class,  tf.Tensor([0.00047847 0.00299401 0.00044643 0.00075   ], shape=(4,), dtype=float32)\n",
      "tf.Tensor(1.0000001, shape=(), dtype=float32)\n",
      "Counter({3: 413, 2: 241, 0: 192, 1: 154})\n",
      "weights_per_class,  tf.Tensor([0.00052083 0.00324675 0.00041494 0.00072639], shape=(4,), dtype=float32)\n",
      "tf.Tensor(1.0000035, shape=(), dtype=float32)\n",
      "Counter({3: 440, 2: 199, 0: 196, 1: 165})\n",
      "weights_per_class,  tf.Tensor([0.0005102  0.0030303  0.00050251 0.00068182], shape=(4,), dtype=float32)\n",
      "tf.Tensor(1.0000027, shape=(), dtype=float32)\n",
      "Counter({3: 412, 2: 218, 0: 209, 1: 161})\n",
      "weights_per_class,  tf.Tensor([0.00047847 0.00310559 0.00045872 0.00072816], shape=(4,), dtype=float32)\n",
      "tf.Tensor(0.9999932, shape=(), dtype=float32)\n",
      "Counter({3: 423, 2: 220, 0: 203, 1: 154})\n",
      "weights_per_class,  tf.Tensor([0.00049261 0.00324675 0.00045455 0.00070922], shape=(4,), dtype=float32)\n",
      "tf.Tensor(1.0000017, shape=(), dtype=float32)\n",
      "Counter({3: 414, 2: 221, 0: 217, 1: 148})\n",
      "weights_per_class,  tf.Tensor([0.00046083 0.00337838 0.00045249 0.00072464], shape=(4,), dtype=float32)\n",
      "tf.Tensor(0.99999857, shape=(), dtype=float32)\n",
      "Counter({3: 437, 2: 208, 0: 202, 1: 153})\n",
      "weights_per_class,  tf.Tensor([0.00049505 0.00326797 0.00048077 0.0006865 ], shape=(4,), dtype=float32)\n",
      "tf.Tensor(1.0000097, shape=(), dtype=float32)\n",
      "Counter({3: 416, 0: 220, 2: 201, 1: 163})\n",
      "weights_per_class,  tf.Tensor([0.00045455 0.00306748 0.00049751 0.00072115], shape=(4,), dtype=float32)\n",
      "tf.Tensor(1.0000029, shape=(), dtype=float32)\n",
      "Counter({3: 417, 0: 210, 2: 198, 1: 175})\n",
      "weights_per_class,  tf.Tensor([0.00047619 0.00285714 0.00050505 0.00071942], shape=(4,), dtype=float32)\n",
      "tf.Tensor(0.9999994, shape=(), dtype=float32)\n",
      "Counter({3: 412, 0: 234, 2: 202, 1: 152})\n",
      "weights_per_class,  tf.Tensor([0.00042735 0.00328947 0.00049505 0.00072816], shape=(4,), dtype=float32)\n",
      "tf.Tensor(0.9999996, shape=(), dtype=float32)\n",
      "Counter({3: 425, 0: 224, 2: 202, 1: 149})\n",
      "weights_per_class,  tf.Tensor([0.00044643 0.0033557  0.00049505 0.00070588], shape=(4,), dtype=float32)\n",
      "tf.Tensor(1.0000045, shape=(), dtype=float32)\n",
      "Counter({3: 393, 2: 237, 0: 224, 1: 146})\n",
      "weights_per_class,  tf.Tensor([0.00044643 0.00342466 0.00042194 0.00076336], shape=(4,), dtype=float32)\n",
      "tf.Tensor(0.9999995, shape=(), dtype=float32)\n",
      "Counter({3: 393, 2: 220, 0: 210, 1: 177})\n",
      "weights_per_class,  tf.Tensor([0.00047619 0.00282486 0.00045455 0.00076336], shape=(4,), dtype=float32)\n",
      "tf.Tensor(0.99999696, shape=(), dtype=float32)\n",
      "Counter({3: 413, 0: 211, 2: 207, 1: 169})\n",
      "weights_per_class,  tf.Tensor([0.00047393 0.00295858 0.00048309 0.00072639], shape=(4,), dtype=float32)\n",
      "tf.Tensor(1.0000024, shape=(), dtype=float32)\n",
      "Counter({3: 414, 0: 213, 2: 187, 1: 186})\n",
      "weights_per_class,  tf.Tensor([0.00046948 0.00268817 0.00053476 0.00072464], shape=(4,), dtype=float32)\n",
      "tf.Tensor(0.9999993, shape=(), dtype=float32)\n",
      "Counter({3: 420, 2: 230, 0: 192, 1: 158})\n",
      "weights_per_class,  tf.Tensor([0.00052083 0.00316456 0.00043478 0.00071429], shape=(4,), dtype=float32)\n",
      "tf.Tensor(0.9999971, shape=(), dtype=float32)\n",
      "Counter({3: 381, 0: 240, 2: 226, 1: 153})\n",
      "weights_per_class,  tf.Tensor([0.00041667 0.00326797 0.00044248 0.0007874 ], shape=(4,), dtype=float32)\n",
      "tf.Tensor(1.0000044, shape=(), dtype=float32)\n",
      "Counter({3: 413, 2: 208, 0: 207, 1: 172})\n",
      "weights_per_class,  tf.Tensor([0.00048309 0.00290698 0.00048077 0.00072639], shape=(4,), dtype=float32)\n",
      "tf.Tensor(1.0000039, shape=(), dtype=float32)\n",
      "Counter({3: 385, 0: 243, 2: 217, 1: 155})\n",
      "weights_per_class,  tf.Tensor([0.00041152 0.00322581 0.00046083 0.00077922], shape=(4,), dtype=float32)\n",
      "tf.Tensor(0.99999255, shape=(), dtype=float32)\n",
      "Counter({3: 425, 2: 198, 0: 195, 1: 182})\n",
      "weights_per_class,  tf.Tensor([0.00051282 0.00274725 0.00050505 0.00070588], shape=(4,), dtype=float32)\n",
      "tf.Tensor(1.0000011, shape=(), dtype=float32)\n",
      "Counter({3: 423, 2: 230, 0: 191, 1: 156})\n",
      "weights_per_class,  tf.Tensor([0.00052356 0.00320513 0.00043478 0.00070922], shape=(4,), dtype=float32)\n",
      "tf.Tensor(0.99999964, shape=(), dtype=float32)\n",
      "Counter({3: 407, 0: 222, 2: 205, 1: 166})\n",
      "weights_per_class,  tf.Tensor([0.00045045 0.00301205 0.0004878  0.0007371 ], shape=(4,), dtype=float32)\n",
      "tf.Tensor(0.99999374, shape=(), dtype=float32)\n",
      "Counter({3: 385, 0: 226, 2: 214, 1: 175})\n",
      "weights_per_class,  tf.Tensor([0.00044248 0.00285714 0.00046729 0.00077922], shape=(4,), dtype=float32)\n",
      "tf.Tensor(1.0000031, shape=(), dtype=float32)\n",
      "Counter({3: 386, 0: 233, 2: 210, 1: 171})\n",
      "weights_per_class,  tf.Tensor([0.00042918 0.00292398 0.00047619 0.0007772 ], shape=(4,), dtype=float32)\n",
      "tf.Tensor(0.9999993, shape=(), dtype=float32)\n",
      "Counter({3: 405, 2: 218, 0: 203, 1: 174})\n",
      "weights_per_class,  tf.Tensor([0.00049261 0.00287356 0.00045872 0.00074074], shape=(4,), dtype=float32)\n"
     ]
    },
    {
     "name": "stdout",
     "output_type": "stream",
     "text": [
      "tf.Tensor(1.0000051, shape=(), dtype=float32)\n",
      "Counter({3: 395, 0: 221, 2: 217, 1: 167})\n",
      "weights_per_class,  tf.Tensor([0.00045249 0.00299401 0.00046083 0.00075949], shape=(4,), dtype=float32)\n",
      "tf.Tensor(0.9999964, shape=(), dtype=float32)\n",
      "Counter({3: 407, 0: 236, 2: 206, 1: 151})\n",
      "weights_per_class,  tf.Tensor([0.00042373 0.00331126 0.00048544 0.0007371 ], shape=(4,), dtype=float32)\n",
      "tf.Tensor(0.9999947, shape=(), dtype=float32)\n",
      "Counter({3: 413, 2: 215, 0: 208, 1: 164})\n",
      "weights_per_class,  tf.Tensor([0.00048077 0.00304878 0.00046512 0.00072639], shape=(4,), dtype=float32)\n",
      "tf.Tensor(1.0000006, shape=(), dtype=float32)\n",
      "Counter({3: 373, 2: 230, 0: 221, 1: 176})\n",
      "weights_per_class,  tf.Tensor([0.00045249 0.00284091 0.00043478 0.00080429], shape=(4,), dtype=float32)\n",
      "tf.Tensor(1.0000046, shape=(), dtype=float32)\n"
     ]
    }
   ],
   "source": [
    "reload(mu)\n",
    "#Hand-tuned ... \n",
    "class_weights = {0: 0.1, 1: 0.5, 2: 0.1, 3: 0.3}\n",
    "\n",
    "training_indices = np.arange(0, minidata['x_train'].shape[0], 1)[:47000]\n",
    "print('training indices...', training_indices.shape)\n",
    "\n",
    "dataset_batches = mu.build_dataset_weighty_v2(minidata, training_indices, class_weights,\n",
    "        batch_size=1000)\n"
   ]
  },
  {
   "cell_type": "code",
   "execution_count": 50,
   "metadata": {},
   "outputs": [
    {
     "name": "stdout",
     "output_type": "stream",
     "text": [
      "WARNING:tensorflow:From /usr/local/miniconda3/envs/pandars3/lib/python3.7/site-packages/tensorflow/python/ops/tensor_array_ops.py:162: colocate_with (from tensorflow.python.framework.ops) is deprecated and will be removed in a future version.\n",
      "Instructions for updating:\n",
      "Colocations handled automatically by placer.\n",
      "WARNING:tensorflow:From /usr/local/miniconda3/envs/pandars3/lib/python3.7/site-packages/tensorflow/python/keras/backend.py:4010: calling dropout (from tensorflow.python.ops.nn_ops) with keep_prob is deprecated and will be removed in a future version.\n",
      "Instructions for updating:\n",
      "Please use `rate` instead of `keep_prob`. Rate should be set to `rate = 1 - keep_prob`.\n"
     ]
    }
   ],
   "source": [
    "# okay... now try use that ..\n",
    "model = tf.keras.Sequential([\n",
    "    tf.keras.layers.LSTM(64,   dropout=0.2, recurrent_dropout=0.2,\n",
    "                batch_input_shape=(None, 256, 1), \n",
    "              ),\n",
    "    # 4 because 'A', 'B', 'C', 'D'.\n",
    "    tf.keras.layers.Dense(4)\n",
    "])\n"
   ]
  },
  {
   "cell_type": "code",
   "execution_count": 51,
   "metadata": {},
   "outputs": [
    {
     "name": "stdout",
     "output_type": "stream",
     "text": [
      "WARNING:tensorflow:From /usr/local/miniconda3/envs/pandars3/lib/python3.7/site-packages/tensorflow/python/ops/losses/losses_impl.py:209: to_float (from tensorflow.python.ops.math_ops) is deprecated and will be removed in a future version.\n",
      "Instructions for updating:\n",
      "Use tf.cast instead.\n",
      "CPU times: user 5min 30s, sys: 2min 29s, total: 7min 59s\n",
      "Wall time: 5min 7s\n"
     ]
    }
   ],
   "source": [
    "\n",
    "\n",
    "\n",
    "%time loss_history = mu.do_train(model, dataset_batches)\n"
   ]
  },
  {
   "cell_type": "code",
   "execution_count": 52,
   "metadata": {},
   "outputs": [
    {
     "data": {
      "text/plain": [
       "Text(0, 0.5, 'Loss [entropy]')"
      ]
     },
     "execution_count": 52,
     "metadata": {},
     "output_type": "execute_result"
    },
    {
     "data": {
      "image/png": "[encoded data removed]",
      "text/plain": [
       "<Figure size 432x288 with 1 Axes>"
      ]
     },
     "metadata": {
      "needs_background": "light"
     },
     "output_type": "display_data"
    }
   ],
   "source": [
    "# Loss still pretty small. but Since this is the first time I shuffled, \n",
    "# the loss history looks really much more interesting.\n",
    "plt.plot(loss_history)\n",
    "plt.xlabel('Batch #')\n",
    "plt.ylabel('Loss [entropy]')"
   ]
  },
  {
   "cell_type": "code",
   "execution_count": 53,
   "metadata": {},
   "outputs": [
    {
     "name": "stdout",
     "output_type": "stream",
     "text": [
      "(47689, 256, 1)\n",
      "subset,  10000\n"
     ]
    },
    {
     "data": {
      "text/plain": [
       "Counter({3: 4194, 1: 1585, 0: 2171, 2: 2050})"
      ]
     },
     "execution_count": 53,
     "metadata": {},
     "output_type": "execute_result"
    }
   ],
   "source": [
    "print(minidata['x_train'].shape)\n",
    "train_subset = np.random.choice(np.arange(0, minidata['x_train'].shape[0], 1),\n",
    "                               10000, replace=False)\n",
    "print('subset, ', len(train_subset))\n",
    "\n",
    "# First make sure this random training subset covers all four classes.\n",
    "Counter(np.argmax(minidata['y_train'][train_subset, :], axis=1))"
   ]
  },
  {
   "cell_type": "code",
   "execution_count": 54,
   "metadata": {},
   "outputs": [
    {
     "name": "stdout",
     "output_type": "stream",
     "text": [
      "CPU times: user 29.1 s, sys: 10.1 s, total: 39.3 s\n",
      "Wall time: 11.3 s\n"
     ]
    }
   ],
   "source": [
    " \n",
    "%time y_pred_train = model(tf.convert_to_tensor(minidata['x_train'][train_subset], dtype=tf.float32))\n",
    "\n",
    "# Confusion matrix."
   ]
  },
  {
   "cell_type": "code",
   "execution_count": 55,
   "metadata": {},
   "outputs": [
    {
     "name": "stdout",
     "output_type": "stream",
     "text": [
      "WARNING:tensorflow:From /usr/local/miniconda3/envs/pandars3/lib/python3.7/site-packages/tensorflow/python/ops/confusion_matrix.py:193: to_int64 (from tensorflow.python.ops.math_ops) is deprecated and will be removed in a future version.\n",
      "Instructions for updating:\n",
      "Use tf.cast instead.\n",
      "WARNING:tensorflow:From /usr/local/miniconda3/envs/pandars3/lib/python3.7/site-packages/tensorflow/python/ops/confusion_matrix.py:194: to_int32 (from tensorflow.python.ops.math_ops) is deprecated and will be removed in a future version.\n",
      "Instructions for updating:\n",
      "Use tf.cast instead.\n"
     ]
    },
    {
     "data": {
      "text/plain": [
       "<tf.Tensor: id=4349858, shape=(4, 4), dtype=int32, numpy=\n",
       "array([[   0, 2171,    0,    0],\n",
       "       [   0, 1585,    0,    0],\n",
       "       [   0, 2050,    0,    0],\n",
       "       [   0, 4194,    0,    0]], dtype=int32)>"
      ]
     },
     "execution_count": 55,
     "metadata": {},
     "output_type": "execute_result"
    }
   ],
   "source": [
    "# confusion... \n",
    "tf.confusion_matrix(\n",
    "    np.argmax(minidata['y_train'][train_subset, :], axis=1),  # labels\n",
    "\n",
    "    np.argmax(y_pred_train, axis=1), # predictions\n",
    "    num_classes=4)"
   ]
  }
 ],
 "metadata": {
  "kernelspec": {
   "display_name": "Python 3",
   "language": "python",
   "name": "python3"
  },
  "language_info": {
   "codemirror_mode": {
    "name": "ipython",
    "version": 3
   },
   "file_extension": ".py",
   "mimetype": "text/x-python",
   "name": "python",
   "nbconvert_exporter": "python",
   "pygments_lexer": "ipython3",
   "version": "3.7.2"
  }
 },
 "nbformat": 4,
 "nbformat_minor": 2
}
