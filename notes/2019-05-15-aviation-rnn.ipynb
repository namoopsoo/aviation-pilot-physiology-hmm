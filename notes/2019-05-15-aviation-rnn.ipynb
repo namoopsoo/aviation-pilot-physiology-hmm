{
 "cells": [
  {
   "cell_type": "code",
   "execution_count": 34,
   "metadata": {},
   "outputs": [],
   "source": [
    "import pandas as pd\n",
    "import os\n",
    "\n",
    "\n",
    "import tensorflow as tf\n",
    "from tensorflow import keras\n",
    "\n",
    "# Helper libraries\n",
    "import numpy as np\n",
    "import matplotlib.pyplot as plt\n",
    "\n",
    "print(tf.__version__)"
   ]
  },
  {
   "cell_type": "code",
   "execution_count": 46,
   "metadata": {},
   "outputs": [],
   "source": [
    "import itertools"
   ]
  },
  {
   "cell_type": "code",
   "execution_count": 42,
   "metadata": {},
   "outputs": [],
   "source": [
    "from keras.preprocessing import sequence\n",
    "from keras.models import Sequential\n",
    "from keras.layers import Dense, Embedding\n",
    "from keras.layers import LSTM\n",
    "\n",
    "from keras.callbacks import EarlyStopping\n"
   ]
  },
  {
   "cell_type": "code",
   "execution_count": 3,
   "metadata": {},
   "outputs": [],
   "source": [
    "# Previously sorted train.csv \n",
    "#     using df.sort_values(by=['crew', 'experiment', 'time'])\n",
    "df = pd.read_csv('data/sorted_train.csv')"
   ]
  },
  {
   "cell_type": "code",
   "execution_count": 26,
   "metadata": {},
   "outputs": [
    {
     "data": {
      "text/plain": [
       "crew                  1\n",
       "experiment           CA\n",
       "time          0.0117188\n",
       "seat                  1\n",
       "eeg_fp1        -5.28545\n",
       "eeg_f7          26.7758\n",
       "eeg_f8         -9.52731\n",
       "eeg_t4         -12.7932\n",
       "eeg_t6          16.7178\n",
       "eeg_t5          33.7375\n",
       "eeg_t3          23.7123\n",
       "eeg_fp2        -6.69587\n",
       "eeg_o1          29.2321\n",
       "eeg_p3          24.8429\n",
       "eeg_pz          3.92134\n",
       "eeg_f3           18.447\n",
       "eeg_fz          1.07547\n",
       "eeg_f4          3.09029\n",
       "eeg_c4           37.369\n",
       "eeg_p4          17.4376\n",
       "eeg_poz         19.2019\n",
       "eeg_c3          20.5968\n",
       "eeg_cz         -3.95115\n",
       "eeg_o2          14.5076\n",
       "ecg               -4520\n",
       "r               817.706\n",
       "gsr              388.83\n",
       "event                 A\n",
       "Name: 0, dtype: object"
      ]
     },
     "execution_count": 26,
     "metadata": {},
     "output_type": "execute_result"
    }
   ],
   "source": [
    "df.iloc[0]"
   ]
  },
  {
   "cell_type": "code",
   "execution_count": 23,
   "metadata": {},
   "outputs": [
    {
     "data": {
      "text/plain": [
       "(4867421, 28)"
      ]
     },
     "execution_count": 23,
     "metadata": {},
     "output_type": "execute_result"
    }
   ],
   "source": [
    "df.shape"
   ]
  },
  {
   "cell_type": "code",
   "execution_count": 57,
   "metadata": {},
   "outputs": [],
   "source": [
    "def what_records(dfx):\n",
    "    return [(int(x), y) for (x,y) in json.loads(dfx['time'].to_json(orient='columns')).items()]"
   ]
  },
  {
   "cell_type": "code",
   "execution_count": 62,
   "metadata": {
    "scrolled": true
   },
   "outputs": [
    {
     "data": {
      "text/html": [
       "<div>\n",
       "<style scoped>\n",
       "    .dataframe tbody tr th:only-of-type {\n",
       "        vertical-align: middle;\n",
       "    }\n",
       "\n",
       "    .dataframe tbody tr th {\n",
       "        vertical-align: top;\n",
       "    }\n",
       "\n",
       "    .dataframe thead th {\n",
       "        text-align: right;\n",
       "    }\n",
       "</style>\n",
       "<table border=\"1\" class=\"dataframe\">\n",
       "  <thead>\n",
       "    <tr style=\"text-align: right;\">\n",
       "      <th></th>\n",
       "      <th>crew</th>\n",
       "      <th>seat</th>\n",
       "      <th>time</th>\n",
       "      <th>r</th>\n",
       "      <th>experiment</th>\n",
       "      <th>event</th>\n",
       "    </tr>\n",
       "  </thead>\n",
       "  <tbody>\n",
       "    <tr>\n",
       "      <th>6600</th>\n",
       "      <td>1</td>\n",
       "      <td>1</td>\n",
       "      <td>109.988281</td>\n",
       "      <td>817.437988</td>\n",
       "      <td>CA</td>\n",
       "      <td>C</td>\n",
       "    </tr>\n",
       "    <tr>\n",
       "      <th>6601</th>\n",
       "      <td>1</td>\n",
       "      <td>0</td>\n",
       "      <td>109.988281</td>\n",
       "      <td>664.265991</td>\n",
       "      <td>CA</td>\n",
       "      <td>C</td>\n",
       "    </tr>\n",
       "    <tr>\n",
       "      <th>6602</th>\n",
       "      <td>1</td>\n",
       "      <td>0</td>\n",
       "      <td>109.992188</td>\n",
       "      <td>664.265991</td>\n",
       "      <td>CA</td>\n",
       "      <td>C</td>\n",
       "    </tr>\n",
       "    <tr>\n",
       "      <th>6603</th>\n",
       "      <td>1</td>\n",
       "      <td>1</td>\n",
       "      <td>109.992188</td>\n",
       "      <td>817.442017</td>\n",
       "      <td>CA</td>\n",
       "      <td>C</td>\n",
       "    </tr>\n",
       "    <tr>\n",
       "      <th>6604</th>\n",
       "      <td>1</td>\n",
       "      <td>1</td>\n",
       "      <td>109.996094</td>\n",
       "      <td>817.442017</td>\n",
       "      <td>CA</td>\n",
       "      <td>C</td>\n",
       "    </tr>\n",
       "    <tr>\n",
       "      <th>6605</th>\n",
       "      <td>1</td>\n",
       "      <td>0</td>\n",
       "      <td>109.996094</td>\n",
       "      <td>664.265991</td>\n",
       "      <td>CA</td>\n",
       "      <td>C</td>\n",
       "    </tr>\n",
       "    <tr>\n",
       "      <th>6606</th>\n",
       "      <td>1</td>\n",
       "      <td>0</td>\n",
       "      <td>11.000000</td>\n",
       "      <td>664.331970</td>\n",
       "      <td>CA</td>\n",
       "      <td>C</td>\n",
       "    </tr>\n",
       "    <tr>\n",
       "      <th>6607</th>\n",
       "      <td>1</td>\n",
       "      <td>1</td>\n",
       "      <td>11.000000</td>\n",
       "      <td>817.898987</td>\n",
       "      <td>CA</td>\n",
       "      <td>C</td>\n",
       "    </tr>\n",
       "    <tr>\n",
       "      <th>6608</th>\n",
       "      <td>1</td>\n",
       "      <td>0</td>\n",
       "      <td>11.003906</td>\n",
       "      <td>664.331970</td>\n",
       "      <td>CA</td>\n",
       "      <td>C</td>\n",
       "    </tr>\n",
       "    <tr>\n",
       "      <th>6609</th>\n",
       "      <td>1</td>\n",
       "      <td>1</td>\n",
       "      <td>11.003906</td>\n",
       "      <td>817.898987</td>\n",
       "      <td>CA</td>\n",
       "      <td>C</td>\n",
       "    </tr>\n",
       "    <tr>\n",
       "      <th>6610</th>\n",
       "      <td>1</td>\n",
       "      <td>0</td>\n",
       "      <td>11.007812</td>\n",
       "      <td>664.281982</td>\n",
       "      <td>CA</td>\n",
       "      <td>C</td>\n",
       "    </tr>\n",
       "    <tr>\n",
       "      <th>6611</th>\n",
       "      <td>1</td>\n",
       "      <td>1</td>\n",
       "      <td>11.007812</td>\n",
       "      <td>817.898987</td>\n",
       "      <td>CA</td>\n",
       "      <td>C</td>\n",
       "    </tr>\n",
       "    <tr>\n",
       "      <th>6612</th>\n",
       "      <td>1</td>\n",
       "      <td>0</td>\n",
       "      <td>11.011719</td>\n",
       "      <td>664.281982</td>\n",
       "      <td>CA</td>\n",
       "      <td>C</td>\n",
       "    </tr>\n",
       "    <tr>\n",
       "      <th>6613</th>\n",
       "      <td>1</td>\n",
       "      <td>1</td>\n",
       "      <td>11.011719</td>\n",
       "      <td>817.898987</td>\n",
       "      <td>CA</td>\n",
       "      <td>C</td>\n",
       "    </tr>\n",
       "    <tr>\n",
       "      <th>6614</th>\n",
       "      <td>1</td>\n",
       "      <td>0</td>\n",
       "      <td>11.015625</td>\n",
       "      <td>664.281982</td>\n",
       "      <td>CA</td>\n",
       "      <td>C</td>\n",
       "    </tr>\n",
       "  </tbody>\n",
       "</table>\n",
       "</div>"
      ],
      "text/plain": [
       "      crew  seat        time           r experiment event\n",
       "6600     1     1  109.988281  817.437988         CA     C\n",
       "6601     1     0  109.988281  664.265991         CA     C\n",
       "6602     1     0  109.992188  664.265991         CA     C\n",
       "6603     1     1  109.992188  817.442017         CA     C\n",
       "6604     1     1  109.996094  817.442017         CA     C\n",
       "6605     1     0  109.996094  664.265991         CA     C\n",
       "6606     1     0   11.000000  664.331970         CA     C\n",
       "6607     1     1   11.000000  817.898987         CA     C\n",
       "6608     1     0   11.003906  664.331970         CA     C\n",
       "6609     1     1   11.003906  817.898987         CA     C\n",
       "6610     1     0   11.007812  664.281982         CA     C\n",
       "6611     1     1   11.007812  817.898987         CA     C\n",
       "6612     1     0   11.011719  664.281982         CA     C\n",
       "6613     1     1   11.011719  817.898987         CA     C\n",
       "6614     1     0   11.015625  664.281982         CA     C"
      ]
     },
     "execution_count": 62,
     "metadata": {},
     "output_type": "execute_result"
    }
   ],
   "source": [
    "        df[['crew', 'seat', 'time', 'r', 'experiment', 'event']].iloc[6600:6615]\n"
   ]
  },
  {
   "cell_type": "code",
   "execution_count": 63,
   "metadata": {},
   "outputs": [
    {
     "name": "stdout",
     "output_type": "stream",
     "text": [
      "(92131, 28)\n",
      "(92077, 28)\n",
      "(39563, 28)\n",
      "(92168, 28)\n",
      "(92130, 28)\n",
      "(39583, 28)\n",
      "(92133, 28)\n",
      "(92194, 28)\n",
      "(92131, 28)\n",
      "(92099, 28)\n",
      "(92099, 28)\n",
      "(92212, 28)\n"
     ]
    }
   ],
   "source": [
    "choices = ([1,2], [0,1], ['CA', 'DA', 'SS'])\n",
    "for crew, seat, experiment in itertools.product(*choices):\n",
    "    query = (df.crew == crew)&(df.seat == seat)& (df.experiment == experiment)\n",
    "    print(df[query].shape)"
   ]
  },
  {
   "cell_type": "code",
   "execution_count": null,
   "metadata": {},
   "outputs": [],
   "source": [
    "trainseqs = get_windows(df.iloc[:1000], 256)"
   ]
  },
  {
   "cell_type": "code",
   "execution_count": 55,
   "metadata": {
    "scrolled": true
   },
   "outputs": [
    {
     "data": {
      "text/plain": [
       "array([666.185974, 'A'], dtype=object)"
      ]
     },
     "execution_count": 55,
     "metadata": {},
     "output_type": "execute_result"
    }
   ],
   "source": [
    "len(trainseqs[0]), len(trainseqs[1])\n",
    "trainseqs[0].shape\n",
    "trainseqs[0][0][0]\n",
    "trainseqs[1][0]"
   ]
  },
  {
   "cell_type": "code",
   "execution_count": 57,
   "metadata": {},
   "outputs": [
    {
     "data": {
      "text/plain": [
       "(5, 2)"
      ]
     },
     "execution_count": 57,
     "metadata": {},
     "output_type": "execute_result"
    }
   ],
   "source": [
    "df[['crew', 'event']].iloc[:5].values.shape"
   ]
  },
  {
   "cell_type": "code",
   "execution_count": 48,
   "metadata": {},
   "outputs": [],
   "source": [
    "# Okay so since there are 9 crews in this data , and indeed I assume the test data \n",
    "#     crews are the same people. Anyway, not too important for now.\n",
    "#     But I can split the data into 6 for train and 3 for testing.\n",
    "#\n",
    "# - So as a preliminary simple model, I want to just use the `r` , the respiration data.\n",
    "# - And I suppose it doesn't really matter all too much if both crew member data\n",
    "#      are intermingled, but I think I will split that away for now.\n",
    "\n",
    "simple_scaler = lambda x, a: x*a \n",
    "\n",
    "def make_data(df, crews={'training': [1],\n",
    "                        'test': [2]},\n",
    "              sequence_window=256, row_cap_per_person=None,\n",
    "             feature_cols={'r': simple_scaler}):\n",
    "    # current sorted as ['crew', 'experiment', 'time']\n",
    "    [0, 1] # each seat\n",
    "    ['CA', 'DA', 'SS'] # experiment\n",
    "    \n",
    "    sort_cols = ['crew', 'seat', 'experiment', 'time']\n",
    "    target_col = 'event'\n",
    "    what_cols = sort_cols + feature_cols.keys() + target_col\n",
    "    # Training\n",
    "    traindf = df[df.crew.isin(crews['training'])][what_cols].sort_values(\n",
    "        by=sort_cols)\n",
    "    \n",
    "    train_seqs = get_windows(traindf, sequence_window)\n",
    "    \n",
    "    # Testing\n",
    "    testdf = df[df.crew.isin(crews['test'])][what_cols].sort_values(\n",
    "        by=sort_cols)\n",
    "    test_seqs = get_windows(testdf, sequence_window)\n",
    "    \n",
    "    \n",
    "def get_windows(df, window_size):\n",
    "    #\n",
    "    windows = []\n",
    "    Y = []\n",
    "    choices = (df.crew.unique().tolist(), [0, 1], ['CA', 'DA', 'SS'])\n",
    "    for crew, seat, experiment in itertools.product(*choices):\n",
    "        query = (df.crew == crew)&(df.seat == seat)& (df.experiment == experiment)\n",
    "        thisdf = df[query][['r', 'event']]\n",
    "        return to_sequences(thisdf.values, window_size) \n",
    "        # y = thisdf.iloc[-1].event\n",
    "\n",
    "\n",
    "def to_sequences(obs, seq_size, incols=[0], outcols=[1]):\n",
    "    x = []\n",
    "    y = []\n",
    "\n",
    "    for i in range(len(obs)-seq_size-1):\n",
    "        #print(i)\n",
    "        window = obs[i:(i+seq_size)]\n",
    "        after_window = obs[i+seq_size]\n",
    "        # window = [[x] for x in window]\n",
    "\n",
    "        x.append(window)\n",
    "        y.append(after_window)\n",
    "        \n",
    "    return np.array(x), np.array(y)\n",
    "\n",
    "def bake_model(x_train, y_train, x_test, y_test):\n",
    "    model = Sequential()\n",
    "    model.add(LSTM(64, dropout=0.2, recurrent_dropout=0.2,\n",
    "                   input_shape=(None, 1)))\n",
    "    # model.add(Dense(32))\n",
    "\n",
    "    # 4 because 'A', 'B', 'C', 'D'.\n",
    "    model.add(Dense(4))\n",
    "\n",
    "    model.compile(loss='binary_crossentropy',\n",
    "                  optimizer='adam',\n",
    "                  metrics=['accuracy'])\n",
    "\n",
    "    # initial_state ... for the LSTM , hmm\n",
    "\n",
    "\n",
    "    monitor = EarlyStopping(monitor='val_loss',\n",
    "                            min_delta=1e-3, patience=5, verbose=1, mode='auto')\n",
    "    print('Train...')\n",
    "\n",
    "    # https://www.tensorflow.org/api_docs/python/tf/keras/models/Model#arguments_8\n",
    "    # - hmm so fit() can take a generator sometimes.\n",
    "    # - use_multiprocessing=True \n",
    "    model.fit(x_train, y_train, validation_data=(x_test, y_test),\n",
    "              callbacks=[monitor], verbose=2, epochs=1000)\n",
    "\n",
    "    return model"
   ]
  }
 ],
 "metadata": {
  "kernelspec": {
   "display_name": "Python 3",
   "language": "python",
   "name": "python3"
  },
  "language_info": {
   "codemirror_mode": {
    "name": "ipython",
    "version": 3
   },
   "file_extension": ".py",
   "mimetype": "text/x-python",
   "name": "python",
   "nbconvert_exporter": "python",
   "pygments_lexer": "ipython3",
   "version": "3.7.2"
  }
 },
 "nbformat": 4,
 "nbformat_minor": 2
}
