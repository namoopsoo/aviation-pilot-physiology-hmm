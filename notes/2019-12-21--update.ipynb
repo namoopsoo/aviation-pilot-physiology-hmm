{
 "cells": [
  {
   "cell_type": "markdown",
   "metadata": {},
   "source": [
    "\n",
    "\n",
    "\n",
    "Going to do another make_data() \n",
    "But first, take out the scaling part so I can do MinMax instead , later on.\n",
    "\n"
   ]
  },
  {
   "cell_type": "code",
   "execution_count": 1,
   "metadata": {},
   "outputs": [
    {
     "name": "stdout",
     "output_type": "stream",
     "text": [
      "1.14.0\n"
     ]
    },
    {
     "name": "stderr",
     "output_type": "stream",
     "text": [
      "Using TensorFlow backend.\n"
     ]
    }
   ],
   "source": [
    "\n",
    "from importlib import reload\n",
    "import os\n",
    "import pandas as pd\n",
    "from io import StringIO\n",
    "import itertools\n",
    "import ipdb\n",
    "import datetime\n",
    "from collections import Counter\n",
    "\n",
    "import h5py\n",
    "import json\n",
    "import tensorflow as tf\n",
    "from tensorflow import keras\n",
    "\n",
    "# Helper libraries\n",
    "import numpy as np\n",
    "import matplotlib.pyplot as plt\n",
    "from tqdm import tqdm\n",
    "import joblib\n",
    "print(tf.__version__)\n",
    "\n",
    "from keras.preprocessing import sequence\n",
    "from keras.models import Sequential\n",
    "from keras.layers import Dense, Embedding\n",
    "from keras.layers import LSTM\n",
    "\n",
    "from keras.callbacks import EarlyStopping\n",
    "\n",
    "from sklearn.preprocessing import StandardScaler\n",
    "from sklearn.preprocessing import MinMaxScaler\n",
    "import mytf.s3utils as msu\n",
    "import mytf.utils as mu\n",
    "import mytf.plot as mp"
   ]
  },
  {
   "cell_type": "code",
   "execution_count": 2,
   "metadata": {},
   "outputs": [],
   "source": [
    "tf.enable_eager_execution()"
   ]
  },
  {
   "cell_type": "code",
   "execution_count": 3,
   "metadata": {},
   "outputs": [
    {
     "name": "stdout",
     "output_type": "stream",
     "text": [
      "Writing to data/2019-12-21T215926Z , just created.\n",
      "Start building training set 2019-12-21T215926Z\n",
      "num slices 44\n",
      "size_remainder,  7652\n",
      "Start building testing set 2019-12-21T220000Z\n",
      "num slices 55\n",
      "size_remainder,  2868\n",
      "CPU times: user 1min 8s, sys: 8.94 s, total: 1min 17s\n",
      "Wall time: 1min 18s\n"
     ]
    }
   ],
   "source": [
    "%%time\n",
    "\n",
    "# I had \n",
    "crew1df = pd.read_pickle('data/crew_1-train.pkl')\n",
    "crew2df = pd.read_pickle('data/crew_2-train.pkl')\n",
    "\n",
    "df1to2 = pd.concat([crew1df, crew2df])\n",
    "\n",
    "cols = ['r', 'ecg', 'gsr', \n",
    "        'eeg_fp1','eeg_f7', 'eeg_f8', 'eeg_t4', 'eeg_t6', ]\n",
    "\n",
    "ts = mu.quickts()\n",
    "newdir = f'data/{ts}'\n",
    "os.mkdir(newdir)\n",
    "print(f'Writing to {newdir} , just created.')\n",
    "\n",
    "# with ipdb.launch_ipdb_on_exception():\n",
    "out = mu.make_data(df1to2, crews={'training': [1],\n",
    "                    'test': [2]},\n",
    "              window_size=64,\n",
    "               row_batch_size=10000,\n",
    "         feature_cols=cols,\n",
    "              save_dir=newdir)\n"
   ]
  },
  {
   "cell_type": "code",
   "execution_count": null,
   "metadata": {},
   "outputs": [],
   "source": [
    "# There is a lot a lot of data, split up into multiple slices, \n",
    "# so to do the MinMaxScaler , can I just grab biggest from each, \n",
    "# and create a scaler from that and then just transform live later? \n",
    "#\n",
    "# or more generally can you .fit() more than once \n",
    "# and what does that imply?"
   ]
  },
  {
   "cell_type": "code",
   "execution_count": 5,
   "metadata": {},
   "outputs": [
    {
     "name": "stdout",
     "output_type": "stream",
     "text": [
      "MinMaxScaler(copy=True, feature_range=(0, 1))\n",
      "[-1.  2.] [ 1. 18.]\n",
      "[[0.   0.  ]\n",
      " [0.25 0.25]\n",
      " [0.5  0.5 ]\n",
      " [1.   1.  ]]\n"
     ]
    }
   ],
   "source": [
    "from sklearn.preprocessing import MinMaxScaler\n",
    "X = np.array([[-1, 2], [-0.5, 6], [0, 10], [1, 18]])\n",
    "scaler = MinMaxScaler()\n",
    "print(scaler.fit(X))\n",
    "\n",
    "print(scaler.data_min_, scaler.data_max_)\n",
    "\n",
    "print(scaler.transform(X))\n",
    "# X_std = (X - X.min(axis=0)) / (X.max(axis=0) - X.min(axis=0))\n"
   ]
  },
  {
   "cell_type": "code",
   "execution_count": 7,
   "metadata": {},
   "outputs": [
    {
     "name": "stdout",
     "output_type": "stream",
     "text": [
      "[[0.   0.  ]\n",
      " [0.25 0.25]\n",
      " [0.5  0.5 ]\n",
      " [1.   1.  ]]\n"
     ]
    }
   ],
   "source": [
    "X_std = (X - X.min(axis=0)) / (X.max(axis=0) - X.min(axis=0))\n",
    "print(X_std)"
   ]
  },
  {
   "cell_type": "markdown",
   "metadata": {},
   "source": [
    "#### Oh wow partial fit? \n",
    "Signature: scaler.partial_fit(X, y=None)\n",
    "Docstring:\n",
    "Online computation of min and max on X for later scaling.\n",
    "All of X is processed as a single batch. This is intended for cases\n",
    "when `fit` is not feasible due to very large number of `n_samples`\n",
    "or because X is read from a continuous stream.\n",
    "\n",
    "```\n",
    "scaler = MinMaxScaler()\n",
    "#scaler.set_params\n",
    "# scaler.partial_fit?\n",
    "# \n",
    "```\n"
   ]
  },
  {
   "cell_type": "code",
   "execution_count": 13,
   "metadata": {
    "collapsed": true
   },
   "outputs": [
    {
     "name": "stdout",
     "output_type": "stream",
     "text": [
      "i: 0\n",
      "[-1.  2.] [-1.  2.]\n",
      "[[ 0.   0. ]\n",
      " [ 0.5  4. ]\n",
      " [ 1.   8. ]\n",
      " [ 2.  16. ]]\n",
      "i: 1\n",
      "[-1.  2.] [-0.5  6. ]\n",
      "[[0. 0.]\n",
      " [1. 1.]\n",
      " [2. 2.]\n",
      " [4. 4.]]\n",
      "i: 2\n",
      "[-1.  2.] [ 0. 10.]\n",
      "[[0.  0. ]\n",
      " [0.5 0.5]\n",
      " [1.  1. ]\n",
      " [2.  2. ]]\n",
      "i: 3\n",
      "[-1.  2.] [ 1. 18.]\n",
      "[[0.   0.  ]\n",
      " [0.25 0.25]\n",
      " [0.5  0.5 ]\n",
      " [1.   1.  ]]\n"
     ]
    }
   ],
   "source": [
    "# Nice so based on this... partial_fit of parts is equivalent\n",
    "# looking to a full fit\n",
    "X = np.array([[-1, 2], [-0.5, 6], [0, 10], [1, 18]])\n",
    "\n",
    "scaler = MinMaxScaler()\n",
    "for i in range(4):\n",
    "    print(f'i: {i}')\n",
    "    scaler.partial_fit(X[i:i+1,:])\n",
    "\n",
    "    print(scaler.data_min_, scaler.data_max_)\n",
    "\n",
    "    print(scaler.transform(X))\n"
   ]
  },
  {
   "cell_type": "code",
   "execution_count": 49,
   "metadata": {},
   "outputs": [],
   "source": [
    "def read_h5_raw(source_location, name):\n",
    "    with h5py.File(source_location, 'r+') as fd:\n",
    "        return fd[name].__array__()\n",
    "\n",
    "def h5_keys(loc):\n",
    "    with h5py.File(loc, 'r+') as fd:\n",
    "        return list(fd.keys())\n"
   ]
  },
  {
   "cell_type": "code",
   "execution_count": 61,
   "metadata": {
    "collapsed": true
   },
   "outputs": [
    {
     "name": "stdout",
     "output_type": "stream",
     "text": [
      "[[662.062012 666.276001]\n",
      " [654.408997 676.028015]\n",
      " [653.052979 676.028015]\n",
      " [653.052979 676.028015]\n",
      " [650.200989 676.028015]]\n",
      "[[662.062012 666.276001]\n",
      " [654.408997 676.028015]\n",
      " [653.052979 676.028015]\n",
      " [653.052979 676.028015]\n",
      " [650.200989 676.028015]]\n"
     ]
    }
   ],
   "source": [
    "# Ah cool, so indeed zip() is its own inverse.\n",
    "# a = np.array(params_vec)\n",
    "# b = np.array(list(zip(*params_vec)))\n",
    "# print(a)\n",
    "# print(np.array(list(zip(*b))))"
   ]
  },
  {
   "cell_type": "code",
   "execution_count": 68,
   "metadata": {},
   "outputs": [],
   "source": [
    "# Next:\n",
    "# Oh wow that's perfect ! ... So I can use this to first create a \n",
    "# Standard scaler, across the whole dataset i have. perfect.\n",
    "\n",
    "def build_scaler_from_h5(loc, datasets, feature):\n",
    "    # one label at a time here..\n",
    "    scaler = MinMaxScaler()\n",
    "    params_vec = []\n",
    "    for name in tqdm(datasets):\n",
    "        X = read_h5_raw(loc, name)\n",
    "        fullsize = X.shape[0]*X.shape[1]\n",
    "        scaler.partial_fit(\n",
    "            np.reshape(X[:, :, feature].ravel(),\n",
    "                       (fullsize, 1)))\n",
    "        params_vec.append(\n",
    "            [scaler.data_min_[0], scaler.data_max_[0]])\n",
    "\n",
    "    return scaler, params_vec"
   ]
  },
  {
   "cell_type": "code",
   "execution_count": 28,
   "metadata": {},
   "outputs": [
    {
     "data": {
      "text/plain": [
       "MinMaxScaler(copy=True, feature_range=(0, 1))"
      ]
     },
     "execution_count": 28,
     "metadata": {},
     "output_type": "execute_result"
    }
   ],
   "source": [
    "trainloc = 'data/2019-12-21T215926Z/train.h5'\n",
    "\n",
    "first = [x for x in h5_keys(trainloc) \n",
    "                               if '_X' in x][0]\n",
    "X = read_h5_raw(trainloc, first)\n",
    "scaler = MinMaxScaler()\n",
    "scaler.partial_fit(np.reshape(X[:, :, 0].ravel(), (635904, 1)))"
   ]
  },
  {
   "cell_type": "code",
   "execution_count": 66,
   "metadata": {},
   "outputs": [
    {
     "name": "stderr",
     "output_type": "stream",
     "text": [
      "100%|██████████| 45/45 [00:11<00:00,  4.00it/s]"
     ]
    },
    {
     "name": "stdout",
     "output_type": "stream",
     "text": [
      "CPU times: user 426 ms, sys: 609 ms, total: 1.04 s\n",
      "Wall time: 11.3 s\n"
     ]
    },
    {
     "name": "stderr",
     "output_type": "stream",
     "text": [
      "\n"
     ]
    }
   ],
   "source": [
    "%%time\n",
    "trainloc = 'data/2019-12-21T215926Z/train.h5'\n",
    "#X = read_h5_raw(f'data/2019-12-21T215926Z/train.h5', )\n",
    "scaler, params_vec = build_scaler_from_h5(\n",
    "                     trainloc,\n",
    "                     datasets=[x for x in h5_keys(trainloc) \n",
    "                               if '_X' in x],\n",
    "                     label=0\n",
    "                     )\n"
   ]
  },
  {
   "cell_type": "code",
   "execution_count": 67,
   "metadata": {},
   "outputs": [
    {
     "data": {
      "text/plain": [
       "Text(0.5, 1.0, 'min/max for label=0')"
      ]
     },
     "execution_count": 67,
     "metadata": {},
     "output_type": "execute_result"
    },
    {
     "data": {
      "image/png": "[encoded data removed]",
      "text/plain": [
       "<Figure size 432x288 with 1 Axes>"
      ]
     },
     "metadata": {},
     "output_type": "display_data"
    }
   ],
   "source": [
    "#b = np.array(list(zip(*params_vec)))\n",
    "plt.plot(params_vec)\n",
    "plt.title(f'min/max for label={0}')"
   ]
  },
  {
   "cell_type": "code",
   "execution_count": null,
   "metadata": {},
   "outputs": [],
   "source": [
    "# mysterious jump we have there huh."
   ]
  },
  {
   "cell_type": "code",
   "execution_count": 71,
   "metadata": {},
   "outputs": [
    {
     "name": "stderr",
     "output_type": "stream",
     "text": [
      "100%|██████████| 45/45 [00:00<00:00, 52.96it/s]\n",
      "100%|██████████| 45/45 [00:00<00:00, 60.76it/s]\n",
      "100%|██████████| 45/45 [00:00<00:00, 60.51it/s]\n",
      "100%|██████████| 45/45 [00:00<00:00, 60.36it/s]\n",
      "100%|██████████| 45/45 [00:00<00:00, 61.46it/s]\n",
      "100%|██████████| 45/45 [00:00<00:00, 59.52it/s]\n",
      "100%|██████████| 45/45 [00:00<00:00, 60.01it/s]\n",
      "100%|██████████| 45/45 [00:00<00:00, 59.29it/s]"
     ]
    },
    {
     "name": "stdout",
     "output_type": "stream",
     "text": [
      "CPU times: user 2.7 s, sys: 3.38 s, total: 6.08 s\n",
      "Wall time: 6.1 s\n"
     ]
    },
    {
     "name": "stderr",
     "output_type": "stream",
     "text": [
      "\n"
     ]
    }
   ],
   "source": [
    "%%time\n",
    "trainloc = 'data/2019-12-21T215926Z/train.h5'\n",
    "#X = read_h5_raw(f'data/2019-12-21T215926Z/train.h5', )\n",
    "outvec = [\n",
    "    build_scaler_from_h5(\n",
    "                     trainloc,\n",
    "                     datasets=[x for x in h5_keys(trainloc) \n",
    "                               if '_X' in x],\n",
    "                     feature=i)\n",
    "    for i in range(8)]\n",
    "scalers = {i: outvec[i][0] for i in range(8)}"
   ]
  },
  {
   "cell_type": "code",
   "execution_count": 72,
   "metadata": {},
   "outputs": [
    {
     "data": {
      "image/png": "[encoded data removed]",
      "text/plain": [
       "<Figure size 864x1008 with 8 Axes>"
      ]
     },
     "metadata": {},
     "output_type": "display_data"
    }
   ],
   "source": [
    "fig = plt.figure(figsize=(12, 14))\n",
    "for i in range(8):\n",
    "    params_vec = outvec[i][1]\n",
    "    ax = fig.add_subplot(int('42' + str(i+1)))\n",
    "    ax.plot(params_vec)\n",
    "    ax.set(title=(f'min/max for feature={i}'))\n",
    "\n",
    "\n",
    "# fig = plt.figure(figsize=(12,14))\n",
    "# for i in range(8):\n",
    "#     ax = fig.add_subplot(int('42' + str(i+1)))\n",
    "#     ax.hist(X[:,0,i], bins=50)\n",
    "#     ax.set(title=f'feature {i} hist')\n",
    "    "
   ]
  },
  {
   "cell_type": "code",
   "execution_count": null,
   "metadata": {},
   "outputs": [],
   "source": [
    "# Ok cool. Glad I also ended up doing this on the pre-scaled data. \n",
    "# So next I'll be able to look at the same roughly for the post scaled."
   ]
  },
  {
   "cell_type": "code",
   "execution_count": 82,
   "metadata": {},
   "outputs": [],
   "source": [
    "trainloc = 'data/2019-12-21T215926Z/train.h5'\n",
    "first = [x for x in h5_keys(trainloc) \n",
    "                               if '_X' in x][0]\n",
    "feature = 0\n",
    "X = read_h5_raw(f'data/2019-12-21T215926Z/train.h5', first)\n",
    "fullsize = X.shape[0]*X.shape[1]\n",
    "b = np.reshape(X[:, :, feature].ravel(),\n",
    "                       (fullsize, 1))\n",
    "c = np.histogram(b)"
   ]
  },
  {
   "cell_type": "code",
   "execution_count": 85,
   "metadata": {},
   "outputs": [
    {
     "name": "stdout",
     "output_type": "stream",
     "text": [
      "[ 12672  44928  56694  63339  56898  50170  51687  62888 108628 128000] [662.062012  662.4834109 662.9048098 663.3262087 663.7476076 664.1690065\n",
      " 664.5904054 665.0118043 665.4332032 665.8546021 666.276001 ]\n",
      "(635904, 1)\n"
     ]
    }
   ],
   "source": [
    "print(c[0], c[1])\n",
    "print(b.shape)"
   ]
  },
  {
   "cell_type": "code",
   "execution_count": 84,
   "metadata": {},
   "outputs": [
    {
     "data": {
      "text/plain": [
       "[<matplotlib.lines.Line2D at 0x7f8505faa4e0>]"
      ]
     },
     "execution_count": 84,
     "metadata": {},
     "output_type": "execute_result"
    },
    {
     "data": {
      "image/png": "[encoded data removed]",
      "text/plain": [
       "<Figure size 432x288 with 1 Axes>"
      ]
     },
     "metadata": {},
     "output_type": "display_data"
    }
   ],
   "source": [
    "plt.plot(c[0])"
   ]
  },
  {
   "cell_type": "code",
   "execution_count": 86,
   "metadata": {},
   "outputs": [
    {
     "data": {
      "text/plain": [
       "[<matplotlib.lines.Line2D at 0x7f8506052908>]"
      ]
     },
     "execution_count": 86,
     "metadata": {},
     "output_type": "execute_result"
    },
    {
     "data": {
      "image/png": "[encoded data removed]",
      "text/plain": [
       "<Figure size 432x288 with 1 Axes>"
      ]
     },
     "metadata": {},
     "output_type": "display_data"
    }
   ],
   "source": [
    "plt.plot(b)"
   ]
  },
  {
   "cell_type": "code",
   "execution_count": 89,
   "metadata": {},
   "outputs": [
    {
     "data": {
      "text/plain": [
       "{'feature_range': (0, 1),\n",
       " 'copy': True,\n",
       " 'n_samples_seen_': 28444928,\n",
       " 'scale_': array([0.00567749]),\n",
       " 'min_': array([-3.66065535]),\n",
       " 'data_min_': array([644.765991]),\n",
       " 'data_max_': array([820.900024]),\n",
       " 'data_range_': array([176.134033])}"
      ]
     },
     "execution_count": 89,
     "metadata": {},
     "output_type": "execute_result"
    }
   ],
   "source": [
    "vars(scalers[0])"
   ]
  },
  {
   "cell_type": "code",
   "execution_count": 90,
   "metadata": {},
   "outputs": [
    {
     "data": {
      "text/plain": [
       "[<matplotlib.lines.Line2D at 0x7f8505fce9e8>]"
      ]
     },
     "execution_count": 90,
     "metadata": {},
     "output_type": "execute_result"
    },
    {
     "data": {
      "image/png": "[encoded data removed]",
      "text/plain": [
       "<Figure size 432x288 with 1 Axes>"
      ]
     },
     "metadata": {},
     "output_type": "display_data"
    }
   ],
   "source": [
    "# After scaler..\n",
    "plt.plot(scalers[0].transform(b))"
   ]
  },
  {
   "cell_type": "code",
   "execution_count": 91,
   "metadata": {},
   "outputs": [
    {
     "name": "stdout",
     "output_type": "stream",
     "text": [
      "MinMaxScaler(copy=True, feature_range=(0, 1))\n",
      "[-1.  2.  2.] [ 1. 18.  4.]\n",
      "[[0.   0.   1.  ]\n",
      " [0.25 0.25 0.  ]\n",
      " [0.5  0.5  0.5 ]\n",
      " [1.   1.   0.  ]]\n"
     ]
    }
   ],
   "source": [
    "X = np.array([[-1, 2, 4], [-0.5, 6, 2], [0, 10, 3], [1, 18, 2]])\n",
    "scaler = MinMaxScaler()\n",
    "print(scaler.fit(X))\n",
    "\n",
    "print(scaler.data_min_, scaler.data_max_)\n",
    "\n",
    "print(scaler.transform(X))\n",
    "# X_std = (X - X.min(axis=0)) / (X.max(axis=0) - X.min(axis=0))\n",
    "\n",
    "\n"
   ]
  },
  {
   "cell_type": "code",
   "execution_count": 93,
   "metadata": {},
   "outputs": [
    {
     "data": {
      "text/plain": [
       "array([1. , 0. , 0.5, 0. ])"
      ]
     },
     "execution_count": 93,
     "metadata": {},
     "output_type": "execute_result"
    }
   ],
   "source": [
    "(X[:,2] - 2)/2"
   ]
  },
  {
   "cell_type": "markdown",
   "metadata": {},
   "source": [
    "#### Multi scaler instead\n",
    "So I don't have to cut up/ stitch back together "
   ]
  },
  {
   "cell_type": "code",
   "execution_count": 100,
   "metadata": {},
   "outputs": [
    {
     "name": "stdout",
     "output_type": "stream",
     "text": [
      "(9936, 64, 8)\n",
      "(640, 8)\n",
      "[[0.         0.46141588 0.         ... 0.76985984 0.44254933 0.52833478]\n",
      " [0.         0.46141588 0.         ... 0.69486598 0.31096341 0.69697528]\n",
      " [0.         0.46141588 0.         ... 0.32758439 0.6828147  0.75729886]\n",
      " ...\n",
      " [1.         1.         1.         ... 0.48684134 0.42603425 0.38297394]\n",
      " [1.         1.         1.         ... 0.77061457 0.93265624 0.57005549]\n",
      " [1.         1.         1.         ... 0.70745753 0.80937469 0.30836016]]\n"
     ]
    }
   ],
   "source": [
    "# print(first)\n",
    "X = read_h5_raw(f'data/2019-12-21T215926Z/train.h5', first)\n",
    "print(X.shape)\n",
    "print(np.reshape(X[:10, :, :], (10*X.shape[1], 8)).shape)\n",
    "ten = 10\n",
    "scaler = MinMaxScaler()\n",
    "scaler.fit(np.reshape(X[:10, :, :], (10*X.shape[1], 8)))\n",
    "print(scaler.transform(np.reshape(X[:10, :, :], (10*X.shape[1], 8))))"
   ]
  },
  {
   "cell_type": "code",
   "execution_count": 107,
   "metadata": {
    "scrolled": true
   },
   "outputs": [
    {
     "name": "stdout",
     "output_type": "stream",
     "text": [
      "(3, 4, 2)\n",
      "[[[1 8]\n",
      "  [1 7]\n",
      "  [1 1]\n",
      "  [3 0]]\n",
      "\n",
      " [[1 7]\n",
      "  [1 1]\n",
      "  [3 0]\n",
      "  [0 0]]\n",
      "\n",
      " [[1 1]\n",
      "  [3 0]\n",
      "  [0 0]\n",
      "  [4 4]]]\n",
      "[[1 8]\n",
      " [1 7]\n",
      " [1 1]\n",
      " [3 0]\n",
      " [1 7]\n",
      " [1 1]\n",
      " [3 0]\n",
      " [0 0]\n",
      " [1 1]\n",
      " [3 0]\n",
      " [0 0]\n",
      " [4 4]]\n"
     ]
    }
   ],
   "source": [
    "# Ok cool... so this reshape seems to be doing what I need..\n",
    "# It is conserving the dimensionality somehow the way I want it.\n",
    "Xa = np.vectorize(int)(X[:3,:4,3:5])\n",
    "print(Xa.shape)\n",
    "print(Xa)\n",
    "print(np.reshape(Xa, (12,2)))"
   ]
  },
  {
   "cell_type": "code",
   "execution_count": 117,
   "metadata": {},
   "outputs": [],
   "source": [
    "# Next:\n",
    "# Oh wow that's perfect ! ... So I can use this to first create a \n",
    "# Standard scaler, across the whole dataset i have. perfect.\n",
    "\n",
    "def build_many_scalers_from_h5(loc, datasets):\n",
    "    # one label at a time here..\n",
    "    scaler = MinMaxScaler()\n",
    "    params_vec = []\n",
    "    for name in tqdm(datasets):\n",
    "        X = read_h5_raw(loc, name)\n",
    "        fullsize = X.shape[0]*X.shape[1]\n",
    "        scaler.partial_fit(\n",
    "            np.reshape(X,\n",
    "                       (fullsize, X.shape[2])))\n",
    "        params_vec.append(\n",
    "            [scaler.data_min_, scaler.data_max_])\n",
    "\n",
    "    return scaler, params_vec\n",
    "\n",
    "def apply_scalers(source_loc, datasets):\n",
    "    # Apply using a suffix, '_scaled'\n",
    "    pass\n",
    "    # for each dataset, read. then write '_scaled'"
   ]
  },
  {
   "cell_type": "code",
   "execution_count": 118,
   "metadata": {},
   "outputs": [
    {
     "name": "stderr",
     "output_type": "stream",
     "text": [
      "100%|██████████| 45/45 [00:03<00:00, 11.31it/s]\n"
     ]
    }
   ],
   "source": [
    "# trainloc = 'data/2019-12-21T215926Z/train.h5'\n",
    "output = build_many_scalers_from_h5(\n",
    "                        trainloc, \n",
    "                        datasets=[x for x in h5_keys(trainloc) \n",
    "                               if '_X' in x]\n",
    ")\n"
   ]
  },
  {
   "cell_type": "code",
   "execution_count": 128,
   "metadata": {},
   "outputs": [
    {
     "data": {
      "image/png": "[encoded data removed]",
      "text/plain": [
       "<Figure size 864x1008 with 8 Axes>"
      ]
     },
     "metadata": {},
     "output_type": "display_data"
    }
   ],
   "source": [
    "# Ok for the below, looks like this other scaling \n",
    "# is working the same way cool..\n",
    "themin, themax = 0, 1\n",
    "\n",
    "fig = plt.figure(figsize=(12, 14))\n",
    "#for i in range(8):\n",
    "\n",
    "\n",
    "for col in range(8):\n",
    "    #params_vec = outvec[i][1]\n",
    "    ax = fig.add_subplot(int('42' + str(col+1)))\n",
    "    #ax.plot(params_vec)\n",
    "    ax.set(title=(f'min/max for feature={col}'))\n",
    "\n",
    "    ax.plot(\n",
    "        [output[1][i][themin][col] for i in range(len(output[1]))]\n",
    "    \n",
    "    )\n",
    "    ax.plot(\n",
    "    [output[1][i][themax][col] for i in range(len(output[1]))]\n",
    "    )"
   ]
  },
  {
   "cell_type": "code",
   "execution_count": 130,
   "metadata": {},
   "outputs": [
    {
     "data": {
      "text/plain": [
       "MinMaxScaler(copy=True, feature_range=(0, 1))"
      ]
     },
     "execution_count": 130,
     "metadata": {},
     "output_type": "execute_result"
    }
   ],
   "source": [
    "import joblib\n",
    "output[0]"
   ]
  },
  {
   "cell_type": "code",
   "execution_count": 132,
   "metadata": {
    "scrolled": true
   },
   "outputs": [
    {
     "data": {
      "text/plain": [
       "{'feature_range': (0, 1),\n",
       " 'copy': True,\n",
       " 'n_samples_seen_': 28444928,\n",
       " 'scale_': array([5.67749448e-03, 5.38048092e-05, 1.41888249e-03, 4.57379548e-04,\n",
       "        4.47905053e-04, 4.88638892e-04, 4.76582642e-04, 4.71376372e-04]),\n",
       " 'min_': array([-3.66065535,  1.        , -0.41441583,  0.57033398,  0.56963222,\n",
       "         0.58968944,  0.6013043 ,  0.57531958]),\n",
       " 'data_min_': array([   644.765991, -18585.69922 ,    292.071991,  -1246.959961,\n",
       "         -1271.77002 ,  -1206.800049,  -1261.699951,  -1220.51001 ]),\n",
       " 'data_max_': array([820.900024,   0.      , 996.85199 , 939.40802 , 960.846008,\n",
       "        839.700989, 836.572021, 900.937012]),\n",
       " 'data_range_': array([  176.134033, 18585.69922 ,   704.779999,  2186.367981,\n",
       "         2232.616028,  2046.501038,  2098.271972,  2121.447022])}"
      ]
     },
     "execution_count": 132,
     "metadata": {},
     "output_type": "execute_result"
    }
   ],
   "source": [
    "vars(output[0])"
   ]
  },
  {
   "cell_type": "code",
   "execution_count": 135,
   "metadata": {},
   "outputs": [
    {
     "data": {
      "text/plain": [
       "'data/2019-12-21T215926Z/train.h5'"
      ]
     },
     "execution_count": 135,
     "metadata": {},
     "output_type": "execute_result"
    }
   ],
   "source": [
    "trainloc"
   ]
  },
  {
   "cell_type": "code",
   "execution_count": 136,
   "metadata": {},
   "outputs": [
    {
     "data": {
      "text/plain": [
       "['history/2019-12-22T174803Z/scalers.joblib']"
      ]
     },
     "execution_count": 136,
     "metadata": {},
     "output_type": "execute_result"
    }
   ],
   "source": [
    "ts = mu.quickts()\n",
    "outdir = f'history/{ts}'\n",
    "os.mkdir(outdir)\n",
    "joblib.dump({'scalers': output[0],\n",
    "        'ts': ts,\n",
    "        'notebook': 'https://mytensorflow-aviation.notebook.us-east-1.sagemaker.aws/notebooks/aviation-pilot-physiology-hmm/2019-12-21.ipynb',\n",
    "        'trainloc': trainloc\n",
    "        \n",
    "       }, f'{outdir}/scalers.joblib')"
   ]
  },
  {
   "cell_type": "code",
   "execution_count": 172,
   "metadata": {
    "scrolled": true
   },
   "outputs": [
    {
     "data": {
      "text/plain": [
       "[<matplotlib.lines.Line2D at 0x7f850606c748>]"
      ]
     },
     "execution_count": 172,
     "metadata": {},
     "output_type": "execute_result"
    },
    {
     "data": {
      "image/png": "[encoded data removed]",
      "text/plain": [
       "<Figure size 432x288 with 1 Axes>"
      ]
     },
     "metadata": {},
     "output_type": "display_data"
    }
   ],
   "source": [
    "# I had experimented with an Xs, and deleted taht later,\n",
    "# plt.plot(Xs[:,0,7])"
   ]
  },
  {
   "cell_type": "code",
   "execution_count": 173,
   "metadata": {},
   "outputs": [
    {
     "data": {
      "text/plain": [
       "<module 'mytf.utils' from '/home/ec2-user/SageMaker/aviation-pilot-physiology-hmm/mytf/utils.py'>"
      ]
     },
     "execution_count": 173,
     "metadata": {},
     "output_type": "execute_result"
    }
   ],
   "source": [
    "reload(mu)"
   ]
  },
  {
   "cell_type": "code",
   "execution_count": 180,
   "metadata": {},
   "outputs": [],
   "source": [
    "mu.transfer?"
   ]
  },
  {
   "cell_type": "code",
   "execution_count": 175,
   "metadata": {},
   "outputs": [],
   "source": [
    "def apply_scalers(loc, datasets, scaler, outloc):\n",
    "    # for each dataset, read. then write '_scaled'\n",
    "    for name in tqdm(datasets):\n",
    "        X = read_h5_raw(loc, name)\n",
    "        original_shape = X.shape\n",
    "        fullsize = X.shape[0]*X.shape[1]\n",
    "         \n",
    "        Xss = np.reshape(scaler.transform(\n",
    "            np.reshape(X,\n",
    "                       (fullsize, X.shape[2]))),\n",
    "                         original_shape)\n",
    "\n",
    "        mu.save_that(outloc, f'{name}_scaled',\n",
    "                     Xss)\n"
   ]
  },
  {
   "cell_type": "code",
   "execution_count": 177,
   "metadata": {},
   "outputs": [
    {
     "name": "stderr",
     "output_type": "stream",
     "text": [
      "100%|██████████| 2/2 [00:00<00:00,  6.76it/s]\n"
     ]
    }
   ],
   "source": [
    "# Need to apply scaling and also just move the Ylabel data too.\n",
    "trainloc = 'data/2019-12-21T215926Z/train.h5'\n",
    "apply_scalers(trainloc, \n",
    "                        datasets=[x for x in h5_keys(trainloc) \n",
    "                               if '_X' in x][:2],\n",
    "                   scaler=output[0],\n",
    "                   outloc=f'{outdir}/train_scaled.h5'\n",
    "\n",
    "                  )\n",
    "\n",
    "\n"
   ]
  },
  {
   "cell_type": "code",
   "execution_count": 178,
   "metadata": {},
   "outputs": [
    {
     "data": {
      "text/plain": [
       "['dataset_0_X_scaled', 'dataset_10_X_scaled']"
      ]
     },
     "execution_count": 178,
     "metadata": {},
     "output_type": "execute_result"
    }
   ],
   "source": [
    "mu.h5_keys(f'{outdir}/train_scaled.h5')"
   ]
  },
  {
   "cell_type": "code",
   "execution_count": 181,
   "metadata": {},
   "outputs": [
    {
     "name": "stderr",
     "output_type": "stream",
     "text": [
      "100%|██████████| 45/45 [00:21<00:00,  2.11it/s]\n"
     ]
    },
    {
     "name": "stdout",
     "output_type": "stream",
     "text": [
      "CPU times: user 1.77 s, sys: 4.09 s, total: 5.86 s\n",
      "Wall time: 21.7 s\n"
     ]
    }
   ],
   "source": [
    "%%time\n",
    "# ok and i deleted that ^^ so I can do it again fully..\n",
    "\n",
    "trainloc = 'data/2019-12-21T215926Z/train.h5'\n",
    "apply_scalers(trainloc, \n",
    "                   datasets=[x for x in h5_keys(trainloc) \n",
    "                               if '_X' in x],\n",
    "                   scaler=output[0],\n",
    "                   outloc=f'{outdir}/train_scaled.h5'\n",
    "\n",
    "                  )\n",
    "mu.transfer(source_location=trainloc, \n",
    "            source_datasets=[x for x in h5_keys(trainloc) \n",
    "                               if '_Y' in x], \n",
    "            save_location=f'{outdir}/train_scaled.h5')"
   ]
  },
  {
   "cell_type": "code",
   "execution_count": 183,
   "metadata": {
    "collapsed": true
   },
   "outputs": [
    {
     "name": "stdout",
     "output_type": "stream",
     "text": [
      "['dataset_0_X_scaled', 'dataset_0_Y', 'dataset_10_X_scaled', 'dataset_10_Y', 'dataset_11_X_scaled', 'dataset_11_Y', 'dataset_12_X_scaled', 'dataset_12_Y', 'dataset_13_X_scaled', 'dataset_13_Y', 'dataset_14_X_scaled', 'dataset_14_Y', 'dataset_15_X_scaled', 'dataset_15_Y', 'dataset_16_X_scaled', 'dataset_16_Y', 'dataset_17_X_scaled', 'dataset_17_Y', 'dataset_18_X_scaled', 'dataset_18_Y', 'dataset_19_X_scaled', 'dataset_19_Y', 'dataset_1_X_scaled', 'dataset_1_Y', 'dataset_20_X_scaled', 'dataset_20_Y', 'dataset_21_X_scaled', 'dataset_21_Y', 'dataset_22_X_scaled', 'dataset_22_Y', 'dataset_23_X_scaled', 'dataset_23_Y', 'dataset_24_X_scaled', 'dataset_24_Y', 'dataset_25_X_scaled', 'dataset_25_Y', 'dataset_26_X_scaled', 'dataset_26_Y', 'dataset_27_X_scaled', 'dataset_27_Y', 'dataset_28_X_scaled', 'dataset_28_Y', 'dataset_29_X_scaled', 'dataset_29_Y', 'dataset_2_X_scaled', 'dataset_2_Y', 'dataset_30_X_scaled', 'dataset_30_Y', 'dataset_31_X_scaled', 'dataset_31_Y', 'dataset_32_X_scaled', 'dataset_32_Y', 'dataset_33_X_scaled', 'dataset_33_Y', 'dataset_34_X_scaled', 'dataset_34_Y', 'dataset_35_X_scaled', 'dataset_35_Y', 'dataset_36_X_scaled', 'dataset_36_Y', 'dataset_37_X_scaled', 'dataset_37_Y', 'dataset_38_X_scaled', 'dataset_38_Y', 'dataset_39_X_scaled', 'dataset_39_Y', 'dataset_3_X_scaled', 'dataset_3_Y', 'dataset_40_X_scaled', 'dataset_40_Y', 'dataset_41_X_scaled', 'dataset_41_Y', 'dataset_42_X_scaled', 'dataset_42_Y', 'dataset_43_X_scaled', 'dataset_43_Y', 'dataset_44_X_scaled', 'dataset_44_Y', 'dataset_4_X_scaled', 'dataset_4_Y', 'dataset_5_X_scaled', 'dataset_5_Y', 'dataset_6_X_scaled', 'dataset_6_Y', 'dataset_7_X_scaled', 'dataset_7_Y', 'dataset_8_X_scaled', 'dataset_8_Y', 'dataset_9_X_scaled', 'dataset_9_Y']\n"
     ]
    }
   ],
   "source": [
    "print(mu.h5_keys(f'{outdir}/train_scaled.h5'))"
   ]
  },
  {
   "cell_type": "markdown",
   "metadata": {},
   "source": [
    "#### ok now make balanced data again\n",
    "Following [previous notebook](https://github.com/namoopsoo/aviation-pilot-physiology-hmm/blob/master/notes/2019-12-01-batch-train.md)\n",
    "\n",
    "I had selected `7625` at that point."
   ]
  },
  {
   "cell_type": "code",
   "execution_count": 185,
   "metadata": {},
   "outputs": [
    {
     "name": "stderr",
     "output_type": "stream",
     "text": [
      "45it [00:00, 217.04it/s]\n"
     ]
    },
    {
     "data": {
      "text/plain": [
       "{0: 234038, 1: 7625, 2: 179699, 3: 23090}"
      ]
     },
     "execution_count": 185,
     "metadata": {},
     "output_type": "execute_result"
    }
   ],
   "source": [
    "# re-evaluate ...\n",
    "train_scaled_loc = f'{outdir}/train_scaled.h5'\n",
    "mu.count_data_in_location(loc=train_scaled_loc,\n",
    "                          datasets=[x for x in h5_keys(train_scaled_loc) \n",
    "                               if '_Y' in x])"
   ]
  },
  {
   "cell_type": "code",
   "execution_count": 187,
   "metadata": {},
   "outputs": [
    {
     "data": {
      "text/plain": [
       "[('dataset_0_X_scaled', 'dataset_0_Y'),\n",
       " ('dataset_10_X_scaled', 'dataset_10_Y'),\n",
       " ('dataset_11_X_scaled', 'dataset_11_Y'),\n",
       " ('dataset_12_X_scaled', 'dataset_12_Y'),\n",
       " ('dataset_13_X_scaled', 'dataset_13_Y')]"
      ]
     },
     "execution_count": 187,
     "metadata": {},
     "output_type": "execute_result"
    }
   ],
   "source": [
    "list(zip([x for x in mu.h5_keys(train_scaled_loc) \n",
    "                               if '_X' in x],\n",
    "[x for x in mu.h5_keys(train_scaled_loc) \n",
    "                               if '_Y' in x]))[:5]"
   ]
  },
  {
   "cell_type": "code",
   "execution_count": 188,
   "metadata": {
    "scrolled": true
   },
   "outputs": [
    {
     "name": "stdout",
     "output_type": "stream",
     "text": [
      "ok breaking\n",
      "Saved with  Counter({0: 10230})\n",
      "ok breaking\n",
      "Saved with  Counter({1: 7625})\n",
      "ok breaking\n",
      "Saved with  Counter({2: 8286})\n",
      "ok breaking\n",
      "Saved with  Counter({3: 8839})\n",
      "CPU times: user 504 ms, sys: 1.55 s, total: 2.06 s\n",
      "Wall time: 13.1 s\n"
     ]
    }
   ],
   "source": [
    "%%time\n",
    "# ok... make train set...\n",
    "# max 7625\n",
    "train_balanced_loc = f'{outdir}/train_balanced.h5'\n",
    "\n",
    "datasets = list(zip([x for x in mu.h5_keys(train_scaled_loc) \n",
    "                               if '_X' in x],\n",
    "                    [x for x in mu.h5_keys(train_scaled_loc) \n",
    "                               if '_Y' in x]))\n",
    "\n",
    "for k in [0, 1, 2, 3]:\n",
    "    mu.transfer_data(\n",
    "        source_location=train_scaled_loc,\n",
    "        source_datasets=datasets,\n",
    "        save_location=train_balanced_loc,\n",
    "        label=k,\n",
    "        howmany=7625)\n",
    "    \n",
    "    "
   ]
  },
  {
   "cell_type": "code",
   "execution_count": 193,
   "metadata": {},
   "outputs": [
    {
     "name": "stdout",
     "output_type": "stream",
     "text": [
      "28444928\n",
      "28444928\n"
     ]
    }
   ],
   "source": [
    "print(vars(output[0])['n_samples_seen_'])\n",
    "\n",
    "stored_scaler = joblib.load('history/2019-12-22T174803Z/scalers.joblib')\n",
    "print(vars(stored_scaler['scalers'])['n_samples_seen_'])"
   ]
  },
  {
   "cell_type": "code",
   "execution_count": 192,
   "metadata": {},
   "outputs": [
    {
     "data": {
      "text/plain": [
       "{'scalers': MinMaxScaler(copy=True, feature_range=(0, 1)),\n",
       " 'ts': '2019-12-22T174803Z',\n",
       " 'notebook': 'https://mytensorflow-aviation.notebook.us-east-1.sagemaker.aws/notebooks/aviation-pilot-physiology-hmm/2019-12-21.ipynb',\n",
       " 'trainloc': 'data/2019-12-21T215926Z/train.h5'}"
      ]
     },
     "execution_count": 192,
     "metadata": {},
     "output_type": "execute_result"
    }
   ],
   "source": [
    "stored_scaler"
   ]
  },
  {
   "cell_type": "code",
   "execution_count": null,
   "metadata": {},
   "outputs": [],
   "source": [
    "# ok cool that looks consistent ^^ "
   ]
  },
  {
   "cell_type": "code",
   "execution_count": 194,
   "metadata": {},
   "outputs": [
    {
     "name": "stdout",
     "output_type": "stream",
     "text": [
      "history/2019-12-22T174803Z\n"
     ]
    }
   ],
   "source": [
    "print(outdir)"
   ]
  },
  {
   "cell_type": "code",
   "execution_count": 196,
   "metadata": {},
   "outputs": [
    {
     "name": "stderr",
     "output_type": "stream",
     "text": [
      "100%|██████████| 56/56 [00:30<00:00,  1.83it/s]\n",
      "56it [00:00, 219.83it/s]\n"
     ]
    },
    {
     "data": {
      "text/plain": [
       "{0: 323937, 1: 15371, 2: 182734, 3: 26922}"
      ]
     },
     "execution_count": 196,
     "metadata": {},
     "output_type": "execute_result"
    }
   ],
   "source": [
    "# Oh yea also test set...\n",
    "loc = 'data/2019-12-21T215926Z/test.h5'\n",
    "apply_scalers(loc, \n",
    "                   datasets=[x for x in h5_keys(loc) \n",
    "                               if '_X' in x],\n",
    "                   scaler=stored_scaler['scalers'],\n",
    "                   outloc=f'{outdir}/test_scaled.h5'\n",
    "\n",
    "                  )\n",
    "mu.transfer(source_location=loc, \n",
    "            source_datasets=[x for x in h5_keys(loc) \n",
    "                               if '_Y' in x], \n",
    "            save_location=f'{outdir}/test_scaled.h5')\n",
    "\n",
    "\n",
    "# ?\n",
    "# re-evaluate ...\n",
    "test_scaled_loc = f'{outdir}/test_scaled.h5'\n",
    "mu.count_data_in_location(loc=test_scaled_loc,\n",
    "                          datasets=[x for x in h5_keys(test_scaled_loc) \n",
    "                               if '_Y' in x])\n",
    "\n"
   ]
  },
  {
   "cell_type": "code",
   "execution_count": 197,
   "metadata": {},
   "outputs": [
    {
     "name": "stdout",
     "output_type": "stream",
     "text": [
      "ok breaking\n",
      "Saved with  Counter({0: 16263})\n",
      "ok breaking\n",
      "Saved with  Counter({1: 15371})\n",
      "ok breaking\n",
      "Saved with  Counter({2: 19755})\n",
      "ok breaking\n",
      "Saved with  Counter({3: 15542})\n"
     ]
    }
   ],
   "source": [
    "# Ok now make the test balanced...\n",
    "test_balanced_loc = f'{outdir}/test_balanced.h5'\n",
    "\n",
    "datasets = list(zip([x for x in mu.h5_keys(test_scaled_loc) \n",
    "                               if '_X' in x],\n",
    "                    [x for x in mu.h5_keys(test_scaled_loc) \n",
    "                               if '_Y' in x]))\n",
    "\n",
    "for k in [0, 1, 2, 3]:\n",
    "    mu.transfer_data(\n",
    "        source_location=test_scaled_loc,\n",
    "        source_datasets=datasets,\n",
    "        save_location=test_balanced_loc,\n",
    "        label=k,\n",
    "        howmany=15371)\n",
    "    "
   ]
  },
  {
   "cell_type": "code",
   "execution_count": 198,
   "metadata": {},
   "outputs": [
    {
     "data": {
      "text/plain": [
       "22091"
      ]
     },
     "execution_count": 198,
     "metadata": {},
     "output_type": "execute_result"
    }
   ],
   "source": [
    "# Next stuff...\n",
    "# Ok now that I got those ^^ , want to train/test . \n",
    "# Not sure if got enough memory... \n",
    "os.getpid() "
   ]
  }
 ],
 "metadata": {
  "kernelspec": {
   "display_name": "conda_tensorflow_p36",
   "language": "python",
   "name": "conda_tensorflow_p36"
  },
  "language_info": {
   "codemirror_mode": {
    "name": "ipython",
    "version": 3
   },
   "file_extension": ".py",
   "mimetype": "text/x-python",
   "name": "python",
   "nbconvert_exporter": "python",
   "pygments_lexer": "ipython3",
   "version": "3.6.5"
  }
 },
 "nbformat": 4,
 "nbformat_minor": 2
}
