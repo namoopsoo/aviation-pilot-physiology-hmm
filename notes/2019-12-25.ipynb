{
 "cells": [
  {
   "cell_type": "code",
   "execution_count": 1,
   "metadata": {},
   "outputs": [
    {
     "name": "stdout",
     "output_type": "stream",
     "text": [
      "1.14.0\n"
     ]
    },
    {
     "name": "stderr",
     "output_type": "stream",
     "text": [
      "Using TensorFlow backend.\n"
     ]
    }
   ],
   "source": [
    "\n",
    "from importlib import reload\n",
    "import os\n",
    "import pandas as pd\n",
    "from io import StringIO\n",
    "import itertools\n",
    "import ipdb\n",
    "import datetime\n",
    "from collections import Counter\n",
    "\n",
    "import h5py\n",
    "import json\n",
    "import tensorflow as tf\n",
    "from tensorflow import keras\n",
    "\n",
    "# Helper libraries\n",
    "import numpy as np\n",
    "import matplotlib.pyplot as plt\n",
    "from tqdm import tqdm\n",
    "import joblib\n",
    "print(tf.__version__)\n",
    "\n",
    "from keras.preprocessing import sequence\n",
    "from keras.models import Sequential\n",
    "from keras.layers import Dense, Embedding\n",
    "from keras.layers import LSTM\n",
    "\n",
    "from keras.callbacks import EarlyStopping\n",
    "\n",
    "from sklearn.preprocessing import StandardScaler\n",
    "from sklearn.preprocessing import MinMaxScaler\n",
    "import mytf.s3utils as msu\n",
    "import mytf.utils as mu\n",
    "import mytf.plot as mp"
   ]
  },
  {
   "cell_type": "code",
   "execution_count": 2,
   "metadata": {},
   "outputs": [],
   "source": [
    "tf.enable_eager_execution()"
   ]
  },
  {
   "cell_type": "code",
   "execution_count": 4,
   "metadata": {},
   "outputs": [
    {
     "name": "stdout",
     "output_type": "stream",
     "text": [
      "['X_0', 'X_1', 'X_2', 'X_3', 'Ylabels_0', 'Ylabels_1', 'Ylabels_2', 'Ylabels_3']\n",
      "['X_0', 'X_1', 'X_2', 'X_3', 'Ylabels_0', 'Ylabels_1', 'Ylabels_2', 'Ylabels_3']\n"
     ]
    }
   ],
   "source": [
    "# train ... new datasets, ...\n",
    "outdir = 'history/2019-12-22T174803Z'\n",
    "train_loc = f'{outdir}/train_balanced.h5'\n",
    "test_loc = f'{outdir}/test_balanced.h5'\n",
    "\n",
    "print(mu.h5_keys(train_loc))\n",
    "print(mu.h5_keys(test_loc))"
   ]
  },
  {
   "cell_type": "code",
   "execution_count": 5,
   "metadata": {},
   "outputs": [
    {
     "name": "stdout",
     "output_type": "stream",
     "text": [
      "34980\n"
     ]
    }
   ],
   "source": [
    "# ok save the shuffled dataset too for repeatability...\n",
    "# Grab and randomize since it's not huge...\n",
    "vecs = [mu.read_h5_two(\n",
    "                source_location=train_loc, \n",
    "                Xdataset=f'X_{i}',\n",
    "                Ydataset=f'Ylabels_{i}')\n",
    "                 for i in [0, 1, 2, 3]]\n",
    "\n",
    "X_train = np.concatenate([x[0] for x in vecs])\n",
    "Ylabels_train = np.concatenate([x[1] for x in vecs])\n",
    "\n",
    "# Shuffle...\n",
    "size = X_train.shape[0]\n",
    "print(size)\n",
    "indices = np.random.choice(range(size), size=size, replace=False)\n",
    "X_train_shfl = X_train[indices]\n",
    "Ylabels_train_shfl = Ylabels_train[indices].astype('int64')\n",
    "\n",
    "X = X_train_shfl\n",
    "Ylabels = Ylabels_train_shfl\n",
    "\n",
    "\n",
    "# SAVE ...\n",
    "\n",
    "\n",
    "\n",
    "mu.save_that(save_location=f'{outdir}/train_scaled_balanced_shuffled.h5', \n",
    "             name='X', X=X)\n"
   ]
  },
  {
   "cell_type": "code",
   "execution_count": 8,
   "metadata": {},
   "outputs": [
    {
     "name": "stdout",
     "output_type": "stream",
     "text": [
      "starting, 2019-12-25T181637Z\n",
      "Made new workdir, history/2019-12-25T181637Z\n"
     ]
    }
   ],
   "source": [
    "# Parameters..\n",
    "\n",
    "# Working dir... \n",
    "save_dir = 'history'\n",
    "BATCH_SIZE = 32\n",
    "ts = mu.quickts(); print('starting,', ts)\n",
    "\n",
    "size = X.shape[0]\n",
    "workdir = f'{save_dir}/{ts}'\n",
    "os.mkdir(workdir)\n",
    "print(f'Made new workdir, {workdir}')\n",
    "\n",
    "#learning_rate = \n",
    "# 'batch_size'\n",
    "lstm_params = {\n",
    "    'units': 64,\n",
    "    'dropout': 0.7,\n",
    "    'recurrent_dropout': 0.7,\n",
    "    'batch_input_shape': (None, 64, 8),\n",
    "    }\n",
    "\n",
    "model = tf.keras.Sequential([\n",
    "    tf.keras.layers.LSTM(**lstm_params),\n",
    "    # 4 because 'A', 'B', 'C', 'D'.\n",
    "    tf.keras.layers.Dense(4)])\n",
    "\n",
    "# save base unfitted model.\n",
    "mu.save_model(model=model, \n",
    "              loc=f'{workdir}/00000__unfitted_model.h5')\n"
   ]
  },
  {
   "cell_type": "code",
   "execution_count": 9,
   "metadata": {
    "scrolled": false
   },
   "outputs": [
    {
     "name": "stderr",
     "output_type": "stream",
     "text": [
      "W1225 18:17:57.218597 140461759739712 hdf5_format.py:221] No training configuration found in save file: the model was *not* compiled. Compile it manually.\n",
      "/home/ec2-user/SageMaker/aviation-pilot-physiology-hmm/mytf/utils.py:185: RuntimeWarning: divide by zero encountered in true_divide\n",
      "  )/class_counts\n",
      "W1225 18:17:57.573302 140461759739712 deprecation_wrapper.py:119] From /home/ec2-user/SageMaker/aviation-pilot-physiology-hmm/mytf/utils.py:238: The name tf.train.AdamOptimizer is deprecated. Please use tf.compat.v1.train.AdamOptimizer instead.\n",
      "\n",
      "0it [00:00, ?it/s]W1225 18:17:57.873211 140461759739712 deprecation_wrapper.py:119] From /home/ec2-user/SageMaker/aviation-pilot-physiology-hmm/mytf/utils.py:246: The name tf.losses.sparse_softmax_cross_entropy is deprecated. Please use tf.compat.v1.losses.sparse_softmax_cross_entropy instead.\n",
      "\n",
      "W1225 18:17:57.876062 140461759739712 deprecation.py:323] From /home/ec2-user/anaconda3/envs/tensorflow_p36/lib/python3.6/site-packages/tensorflow/python/ops/losses/losses_impl.py:121: add_dispatch_support.<locals>.wrapper (from tensorflow.python.ops.array_ops) is deprecated and will be removed in a future version.\n",
      "Instructions for updating:\n",
      "Use tf.where in 2.0, which has the same broadcast rule as np.where\n",
      "1094it [07:43,  2.36it/s]\n"
     ]
    }
   ],
   "source": [
    "\n",
    "\n",
    "model = mu.load_model(f'{workdir}/00000__unfitted_model.h5')\n",
    "\n",
    "class_weights = {0: 1., 1: 1., 2: 1., 3: 1.}\n",
    "dataset_batches = mu.build_dataset_weighty_v3(\n",
    "        {'x_train': X,\n",
    "         'ylabels_train': Ylabels},\n",
    "        list(range(size)), \n",
    "        class_weights,\n",
    "        batch_size=BATCH_SIZE)\n",
    "    \n",
    "with ipdb.launch_ipdb_on_exception():\n",
    "    mu.do_train(\n",
    "        model,\n",
    "        dataset_batches,\n",
    "        k=size,\n",
    "        saveloc=workdir)"
   ]
  },
  {
   "cell_type": "code",
   "execution_count": 11,
   "metadata": {},
   "outputs": [
    {
     "data": {
      "text/plain": [
       "[<matplotlib.lines.Line2D at 0x7fbf40b13be0>]"
      ]
     },
     "execution_count": 11,
     "metadata": {},
     "output_type": "execute_result"
    },
    {
     "data": {
      "image/png": "[encoded data removed]",
      "text/plain": [
       "<Figure size 432x288 with 1 Axes>"
      ]
     },
     "metadata": {},
     "output_type": "display_data"
    }
   ],
   "source": [
    "historydir = 'history'\n",
    "with open(f'{workdir}/01093_train_loss_history.json') as fd:\n",
    "    losshistory = json.load(fd)\n",
    "    \n",
    "plt.plot(losshistory) "
   ]
  },
  {
   "cell_type": "code",
   "execution_count": 12,
   "metadata": {},
   "outputs": [
    {
     "name": "stdout",
     "output_type": "stream",
     "text": [
      "2019-12-25T181637Z\n"
     ]
    }
   ],
   "source": [
    "import mytf.validation as mv\n",
    "print(ts)"
   ]
  },
  {
   "cell_type": "code",
   "execution_count": null,
   "metadata": {},
   "outputs": [
    {
     "name": "stderr",
     "output_type": "stream",
     "text": [
      "  0%|          | 0/110 [00:00<?, ?it/s]W1226 14:34:19.522549 140461759739712 hdf5_format.py:221] No training configuration found in save file: the model was *not* compiled. Compile it manually.\n",
      "  1%|          | 1/110 [02:10<3:56:46, 130.34s/it]W1226 14:36:29.861780 140461759739712 hdf5_format.py:221] No training configuration found in save file: the model was *not* compiled. Compile it manually.\n",
      "  2%|▏         | 2/110 [04:21<3:54:50, 130.47s/it]W1226 14:38:40.647291 140461759739712 hdf5_format.py:221] No training configuration found in save file: the model was *not* compiled. Compile it manually.\n",
      "  3%|▎         | 3/110 [06:32<3:52:54, 130.60s/it]W1226 14:40:51.449493 140461759739712 hdf5_format.py:221] No training configuration found in save file: the model was *not* compiled. Compile it manually.\n",
      "  4%|▎         | 4/110 [08:41<3:49:59, 130.18s/it]W1226 14:43:00.647146 140461759739712 hdf5_format.py:221] No training configuration found in save file: the model was *not* compiled. Compile it manually.\n",
      "  5%|▍         | 5/110 [10:52<3:48:10, 130.39s/it]W1226 14:45:11.507648 140461759739712 hdf5_format.py:221] No training configuration found in save file: the model was *not* compiled. Compile it manually.\n",
      "  5%|▌         | 6/110 [13:03<3:46:32, 130.70s/it]W1226 14:47:22.933815 140461759739712 hdf5_format.py:221] No training configuration found in save file: the model was *not* compiled. Compile it manually.\n",
      "  6%|▋         | 7/110 [15:14<3:44:32, 130.80s/it]W1226 14:49:34.140855 140461759739712 hdf5_format.py:221] No training configuration found in save file: the model was *not* compiled. Compile it manually.\n",
      "  7%|▋         | 8/110 [17:27<3:43:38, 131.56s/it]W1226 14:51:47.293497 140461759739712 hdf5_format.py:221] No training configuration found in save file: the model was *not* compiled. Compile it manually.\n",
      "  8%|▊         | 9/110 [19:38<3:41:07, 131.36s/it]W1226 14:53:58.189683 140461759739712 hdf5_format.py:221] No training configuration found in save file: the model was *not* compiled. Compile it manually.\n",
      "  9%|▉         | 10/110 [21:49<3:38:50, 131.30s/it]W1226 14:56:09.372905 140461759739712 hdf5_format.py:221] No training configuration found in save file: the model was *not* compiled. Compile it manually.\n",
      " 10%|█         | 11/110 [24:00<3:36:12, 131.04s/it]W1226 14:58:19.804935 140461759739712 hdf5_format.py:221] No training configuration found in save file: the model was *not* compiled. Compile it manually.\n",
      " 11%|█         | 12/110 [26:10<3:33:27, 130.69s/it]W1226 15:00:29.667920 140461759739712 hdf5_format.py:221] No training configuration found in save file: the model was *not* compiled. Compile it manually.\n",
      " 12%|█▏        | 13/110 [28:22<3:31:50, 131.04s/it]W1226 15:02:41.509492 140461759739712 hdf5_format.py:221] No training configuration found in save file: the model was *not* compiled. Compile it manually.\n",
      " 13%|█▎        | 14/110 [30:33<3:29:45, 131.10s/it]W1226 15:04:52.739221 140461759739712 hdf5_format.py:221] No training configuration found in save file: the model was *not* compiled. Compile it manually.\n",
      " 14%|█▎        | 15/110 [32:44<3:27:47, 131.23s/it]W1226 15:07:04.307413 140461759739712 hdf5_format.py:221] No training configuration found in save file: the model was *not* compiled. Compile it manually.\n",
      " 15%|█▍        | 16/110 [34:56<3:25:49, 131.38s/it]W1226 15:09:16.027548 140461759739712 hdf5_format.py:221] No training configuration found in save file: the model was *not* compiled. Compile it manually.\n",
      " 15%|█▌        | 17/110 [37:07<3:23:36, 131.36s/it]W1226 15:11:27.347650 140461759739712 hdf5_format.py:221] No training configuration found in save file: the model was *not* compiled. Compile it manually.\n",
      " 16%|█▋        | 18/110 [39:20<3:21:51, 131.64s/it]W1226 15:13:39.648931 140461759739712 hdf5_format.py:221] No training configuration found in save file: the model was *not* compiled. Compile it manually.\n",
      " 17%|█▋        | 19/110 [41:30<3:19:10, 131.32s/it]W1226 15:15:50.226087 140461759739712 hdf5_format.py:221] No training configuration found in save file: the model was *not* compiled. Compile it manually.\n",
      " 18%|█▊        | 20/110 [43:42<3:17:03, 131.38s/it]W1226 15:18:01.734383 140461759739712 hdf5_format.py:221] No training configuration found in save file: the model was *not* compiled. Compile it manually.\n",
      " 19%|█▉        | 21/110 [45:55<3:15:50, 132.03s/it]W1226 15:20:15.267008 140461759739712 hdf5_format.py:221] No training configuration found in save file: the model was *not* compiled. Compile it manually.\n",
      " 20%|██        | 22/110 [48:08<3:13:46, 132.11s/it]W1226 15:22:27.584050 140461759739712 hdf5_format.py:221] No training configuration found in save file: the model was *not* compiled. Compile it manually.\n",
      " 21%|██        | 23/110 [50:19<3:11:25, 132.01s/it]W1226 15:24:39.366992 140461759739712 hdf5_format.py:221] No training configuration found in save file: the model was *not* compiled. Compile it manually.\n",
      " 22%|██▏       | 24/110 [52:31<3:09:10, 131.99s/it]W1226 15:26:51.564683 140461759739712 hdf5_format.py:221] No training configuration found in save file: the model was *not* compiled. Compile it manually.\n",
      " 23%|██▎       | 25/110 [54:45<3:07:32, 132.38s/it]W1226 15:29:04.587636 140461759739712 hdf5_format.py:221] No training configuration found in save file: the model was *not* compiled. Compile it manually.\n",
      " 24%|██▎       | 26/110 [56:56<3:04:52, 132.06s/it]W1226 15:31:15.878966 140461759739712 hdf5_format.py:221] No training configuration found in save file: the model was *not* compiled. Compile it manually.\n",
      " 25%|██▍       | 27/110 [59:05<3:01:14, 131.02s/it]W1226 15:33:24.476180 140461759739712 hdf5_format.py:221] No training configuration found in save file: the model was *not* compiled. Compile it manually.\n",
      " 25%|██▌       | 28/110 [1:01:15<2:58:46, 130.81s/it]W1226 15:35:34.823628 140461759739712 hdf5_format.py:221] No training configuration found in save file: the model was *not* compiled. Compile it manually.\n",
      " 26%|██▋       | 29/110 [1:03:26<2:56:38, 130.84s/it]W1226 15:37:45.731816 140461759739712 hdf5_format.py:221] No training configuration found in save file: the model was *not* compiled. Compile it manually.\n",
      " 27%|██▋       | 30/110 [1:05:35<2:53:53, 130.42s/it]W1226 15:39:55.147736 140461759739712 hdf5_format.py:221] No training configuration found in save file: the model was *not* compiled. Compile it manually.\n",
      " 28%|██▊       | 31/110 [1:07:47<2:52:11, 130.78s/it]W1226 15:42:06.789149 140461759739712 hdf5_format.py:221] No training configuration found in save file: the model was *not* compiled. Compile it manually.\n",
      " 29%|██▉       | 32/110 [1:09:58<2:50:16, 130.98s/it]W1226 15:44:18.227240 140461759739712 hdf5_format.py:221] No training configuration found in save file: the model was *not* compiled. Compile it manually.\n",
      " 30%|███       | 33/110 [1:12:10<2:48:12, 131.08s/it]W1226 15:46:29.830424 140461759739712 hdf5_format.py:221] No training configuration found in save file: the model was *not* compiled. Compile it manually.\n",
      " 31%|███       | 34/110 [1:14:19<2:45:28, 130.64s/it]W1226 15:48:39.158029 140461759739712 hdf5_format.py:221] No training configuration found in save file: the model was *not* compiled. Compile it manually.\n",
      " 32%|███▏      | 35/110 [1:16:31<2:43:35, 130.88s/it]W1226 15:50:50.585200 140461759739712 hdf5_format.py:221] No training configuration found in save file: the model was *not* compiled. Compile it manually.\n",
      " 33%|███▎      | 36/110 [1:18:43<2:41:48, 131.20s/it]W1226 15:53:02.553674 140461759739712 hdf5_format.py:221] No training configuration found in save file: the model was *not* compiled. Compile it manually.\n",
      " 34%|███▎      | 37/110 [1:20:54<2:39:32, 131.13s/it]W1226 15:55:13.634235 140461759739712 hdf5_format.py:221] No training configuration found in save file: the model was *not* compiled. Compile it manually.\n",
      " 35%|███▍      | 38/110 [1:23:03<2:36:42, 130.59s/it]W1226 15:57:23.147924 140461759739712 hdf5_format.py:221] No training configuration found in save file: the model was *not* compiled. Compile it manually.\n",
      " 99%|█████████▉| 109/110 [3:57:52<02:11, 131.23s/it]W1226 18:32:12.019807 140461759739712 hdf5_format.py:221] No training configuration found in save file: the model was *not* compiled. Compile it manually.\n",
      "100%|██████████| 110/110 [4:00:03<00:00, 130.94s/it]"
     ]
    },
    {
     "name": "stdout",
     "output_type": "stream",
     "text": [
      "CPU times: user 3h 59min 24s, sys: 19.6 s, total: 3h 59min 44s\n",
      "Wall time: 4h 3s\n"
     ]
    },
    {
     "name": "stderr",
     "output_type": "stream",
     "text": [
      "\n"
     ]
    }
   ],
   "source": [
    "%%time\n",
    "batch_losses_vec = []\n",
    "#sess = tf.Session()\n",
    "#with sess.as_default():\n",
    "for step in tqdm(np.arange(0, 1094, 10)):\n",
    "    #print(step)\n",
    "    modelname = f'history/{ts}/{str(step).zfill(5)}_model.h5'\n",
    "    #print(modelname)\n",
    "    steploss = mv.perf_wrapper(modelname,\n",
    "                               dataloc=test_loc,\n",
    "                               eager=True)\n",
    "    #print('steploss, ', steploss)\n",
    "    batch_losses_vec.append([float(x) for x in steploss])\n",
    "    mv.json_save({'batch_losses_vec': batch_losses_vec,\n",
    "                  'step': int(step)\n",
    "              }, \n",
    "              f'history/{ts}/{str(step).zfill(5)}_validation_losses.json')"
   ]
  },
  {
   "cell_type": "code",
   "execution_count": null,
   "metadata": {},
   "outputs": [],
   "source": [
    "# Hmm interesting information about this compile warning, \n",
    "# in https://stackoverflow.com/questions/53295570/userwarning-no-training-configuration-found-in-save-file-the-model-was-not-c  \n",
    "# I have not used this model.compile() recently."
   ]
  },
  {
   "cell_type": "code",
   "execution_count": 16,
   "metadata": {},
   "outputs": [],
   "source": [
    "# crap I forgot to save the shuffled ylabels..\n",
    "\n",
    "\n",
    "mu.save_that(save_location=f'{outdir}/train_scaled_balanced_shuffled.h5', \n",
    "             name='Ylabels', X=Ylabels)"
   ]
  },
  {
   "cell_type": "code",
   "execution_count": 17,
   "metadata": {},
   "outputs": [
    {
     "data": {
      "text/plain": [
       "['X', 'Ylabels']"
      ]
     },
     "execution_count": 17,
     "metadata": {},
     "output_type": "execute_result"
    }
   ],
   "source": [
    "mu.h5_keys(f'{outdir}/train_scaled_balanced_shuffled.h5')"
   ]
  },
  {
   "cell_type": "code",
   "execution_count": 18,
   "metadata": {},
   "outputs": [
    {
     "data": {
      "text/plain": [
       "110"
      ]
     },
     "execution_count": 18,
     "metadata": {},
     "output_type": "execute_result"
    }
   ],
   "source": [
    "len(batch_losses_vec)"
   ]
  },
  {
   "cell_type": "code",
   "execution_count": 20,
   "metadata": {},
   "outputs": [
    {
     "data": {
      "text/plain": [
       "<matplotlib.legend.Legend at 0x7fbf018dacf8>"
      ]
     },
     "execution_count": 20,
     "metadata": {},
     "output_type": "execute_result"
    },
    {
     "data": {
      "image/png": "[encoded data removed]",
      "text/plain": [
       "<Figure size 432x288 with 1 Axes>"
      ]
     },
     "metadata": {},
     "output_type": "display_data"
    }
   ],
   "source": [
    "# .... hopefully if some of that stuff finishes ..\n",
    "# I can run this ... \n",
    "lossesarr = np.array(batch_losses_vec)\n",
    "meanlossesarr = np.mean(lossesarr, axis=1)\n",
    "\n",
    "batch_losses_vec[:5]\n",
    "#batch_losses_vec = []\n",
    "#for step in np.arange(0, 1068, 10):\n",
    "# [2.8359528, 0.45356295, 1.7049086, 4.099845]\n",
    "\n",
    "plt.plot([x[0] for x in batch_losses_vec], color='blue', label='0')\n",
    "plt.plot([x[1] for x in batch_losses_vec], color='green', label='1')\n",
    "plt.plot([x[2] for x in batch_losses_vec], color='red', label='2')\n",
    "plt.plot([x[3] for x in batch_losses_vec], color='orange', label='3')\n",
    "plt.plot(meanlossesarr, color='black', label='mean')\n",
    "plt.title(f'validation losses  (model {ts})')\n",
    "plt.legend()\n",
    "#plt.plot\n"
   ]
  },
  {
   "cell_type": "code",
   "execution_count": null,
   "metadata": {},
   "outputs": [],
   "source": []
  }
 ],
 "metadata": {
  "kernelspec": {
   "display_name": "conda_tensorflow_p36",
   "language": "python",
   "name": "conda_tensorflow_p36"
  },
  "language_info": {
   "codemirror_mode": {
    "name": "ipython",
    "version": 3
   },
   "file_extension": ".py",
   "mimetype": "text/x-python",
   "name": "python",
   "nbconvert_exporter": "python",
   "pygments_lexer": "ipython3",
   "version": "3.6.5"
  }
 },
 "nbformat": 4,
 "nbformat_minor": 2
}
