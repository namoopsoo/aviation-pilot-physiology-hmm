{
 "cells": [
  {
   "cell_type": "code",
   "execution_count": null,
   "metadata": {},
   "outputs": [],
   "source": [
    "# per https://machinelearningmastery.com/use-dropout-lstm-networks-time-series-forecasting/  ,\n",
    "# definitely best to try the different combinations."
   ]
  },
  {
   "cell_type": "code",
   "execution_count": 1,
   "metadata": {},
   "outputs": [
    {
     "name": "stdout",
     "output_type": "stream",
     "text": [
      "1.14.0\n"
     ]
    },
    {
     "name": "stderr",
     "output_type": "stream",
     "text": [
      "Using TensorFlow backend.\n"
     ]
    }
   ],
   "source": [
    "from importlib import reload\n",
    "import os\n",
    "import pandas as pd\n",
    "from io import StringIO\n",
    "import itertools\n",
    "import ipdb\n",
    "import datetime\n",
    "from collections import Counter\n",
    "\n",
    "import h5py\n",
    "import json\n",
    "import tensorflow as tf\n",
    "from tensorflow import keras\n",
    "\n",
    "# Helper libraries\n",
    "import numpy as np\n",
    "import matplotlib.pyplot as plt\n",
    "from tqdm import tqdm\n",
    "import joblib\n",
    "print(tf.__version__)\n",
    "\n",
    "from keras.preprocessing import sequence\n",
    "from keras.models import Sequential\n",
    "from keras.layers import Dense, Embedding\n",
    "from keras.layers import LSTM\n",
    "\n",
    "from keras.callbacks import EarlyStopping\n",
    "from tensorflow.compat.v1.losses import sparse_softmax_cross_entropy\n",
    "\n",
    "from sklearn.preprocessing import StandardScaler\n",
    "from sklearn.preprocessing import MinMaxScaler\n",
    "import mytf.s3utils as msu\n",
    "import mytf.utils as mu\n",
    "import mytf.validation as mv\n",
    "import mytf.plot as mp"
   ]
  },
  {
   "cell_type": "code",
   "execution_count": 2,
   "metadata": {},
   "outputs": [],
   "source": [
    "tf.enable_eager_execution()"
   ]
  },
  {
   "cell_type": "code",
   "execution_count": 3,
   "metadata": {},
   "outputs": [
    {
     "name": "stdout",
     "output_type": "stream",
     "text": [
      "starting, 2020-02-16T035758Z\n",
      "Made new workdir, history/2020-02-16T035758Z\n"
     ]
    },
    {
     "data": {
      "text/plain": [
       "[]"
      ]
     },
     "execution_count": 3,
     "metadata": {},
     "output_type": "execute_result"
    }
   ],
   "source": [
    "datadir = 'history/2020-02-03T000055Z'\n",
    "ts = mu.quickts(); print('starting,', ts)\n",
    "\n",
    "workdir = f'history/{ts}'\n",
    "os.mkdir(workdir)\n",
    "print(f'Made new workdir, {workdir}')\n",
    "os.listdir(workdir)"
   ]
  },
  {
   "cell_type": "code",
   "execution_count": 4,
   "metadata": {},
   "outputs": [],
   "source": [
    "lstm_params = [{\n",
    "    'units': 64,\n",
    "    'dropout': 0.2,\n",
    "    'recurrent_dropout': 0.2,\n",
    "    'batch_input_shape': (None, 64, 8),\n",
    "    'kernel_initializer': tf.initializers.glorot_normal() # GlorotNormal()\n",
    "                           #tf.initializers.he_normal()\n",
    "    },]\n",
    "\n",
    "optimizer_params = {\n",
    "    'learning_rate': 0.001,  \n",
    "    'beta1': 0.9, \n",
    "    'beta2': 0.999, \n",
    "    'epsilon': 1e-08\n",
    "}\n",
    "\n",
    "def bake_model(lstm_params):\n",
    "    model = tf.keras.Sequential([\n",
    "        tf.keras.layers.LSTM(**lstm_params[0]),\n",
    "        # 4 because 'A', 'B', 'C', 'D'.\n",
    "        tf.keras.layers.Dense(4)])\n",
    "    return model"
   ]
  },
  {
   "cell_type": "code",
   "execution_count": 5,
   "metadata": {},
   "outputs": [
    {
     "name": "stdout",
     "output_type": "stream",
     "text": [
      "datadir history/2020-02-03T000055Z workdir history/2020-02-16T035758Z\n"
     ]
    }
   ],
   "source": [
    "BATCH_SIZE = 32\n",
    "EPOCHS = 2\n",
    "#\n",
    "print('datadir', datadir, 'workdir', workdir)\n",
    "train_shuff_loc = f'{datadir}/train_scaled_balanced_shuffled.h5'\n",
    "\n",
    "X, Ylabels = mu.read_h5_two(\n",
    "                source_location=train_shuff_loc, \n",
    "                Xdataset=f'X',\n",
    "                Ydataset=f'Ylabels')\n",
    "size = X.shape[0]\n",
    "\n",
    "# save base unfitted model.\n",
    "model = bake_model(lstm_params)\n",
    "mu.save_model(model=model, \n",
    "              loc=f'{workdir}/00000__unfitted_model.h5')"
   ]
  },
  {
   "cell_type": "code",
   "execution_count": 6,
   "metadata": {},
   "outputs": [
    {
     "name": "stdout",
     "output_type": "stream",
     "text": [
      "Start train with history/2020-02-16T035758Z/00000__unfitted_model.h5\n",
      "WARNING:tensorflow:No training configuration found in save file: the model was *not* compiled. Compile it manually.\n"
     ]
    },
    {
     "data": {
      "application/vnd.jupyter.widget-view+json": {
       "model_id": "8a056474cdca487db41cb7d510c8b82e",
       "version_major": 2,
       "version_minor": 0
      },
      "text/plain": [
       "HBox(children=(FloatProgress(value=1.0, bar_style='info', max=1.0), HTML(value='')))"
      ]
     },
     "metadata": {},
     "output_type": "display_data"
    },
    {
     "name": "stdout",
     "output_type": "stream",
     "text": [
      "WARNING:tensorflow:From /home/ec2-user/anaconda3/envs/tensorflow_p36/lib/python3.6/site-packages/tensorflow/python/ops/losses/losses_impl.py:121: add_dispatch_support.<locals>.wrapper (from tensorflow.python.ops.array_ops) is deprecated and will be removed in a future version.\n",
      "Instructions for updating:\n",
      "Use tf.where in 2.0, which has the same broadcast rule as np.where\n",
      "\n"
     ]
    },
    {
     "data": {
      "application/vnd.jupyter.widget-view+json": {
       "model_id": "72fd1441c8b549b083020c0a7660637e",
       "version_major": 2,
       "version_minor": 0
      },
      "text/plain": [
       "HBox(children=(FloatProgress(value=1.0, bar_style='info', max=1.0), HTML(value='')))"
      ]
     },
     "metadata": {},
     "output_type": "display_data"
    },
    {
     "name": "stdout",
     "output_type": "stream",
     "text": [
      "\n",
      "CPU times: user 23min 48s, sys: 1.5 s, total: 23min 49s\n",
      "Wall time: 23min 47s\n"
     ]
    }
   ],
   "source": [
    "%%time\n",
    "modelloc = f'{workdir}/00000__unfitted_model.h5'\n",
    "print(f'Start train with {modelloc}')\n",
    "model = mu.load_model(modelloc)\n",
    "\n",
    "class_weights = {0: 1., 1: 0., 2: 0., 3: 0.}\n",
    "dataset_batches = mu.build_dataset_weighty_v3(\n",
    "        {'x_train': X,\n",
    "         'ylabels_train': Ylabels.astype('int64')},\n",
    "        list(range(size)), \n",
    "        class_weights,\n",
    "        batch_size=BATCH_SIZE)\n",
    "    \n",
    "mu.do_train(\n",
    "        model,\n",
    "        dataset_batches,\n",
    "        k=size,\n",
    "        num_epochs=EPOCHS,\n",
    "        optimizer_params=optimizer_params,\n",
    "        saveloc=workdir)\n"
   ]
  },
  {
   "cell_type": "markdown",
   "metadata": {},
   "source": [
    "\n",
    "### Validation"
   ]
  },
  {
   "cell_type": "code",
   "execution_count": 7,
   "metadata": {},
   "outputs": [
    {
     "name": "stdout",
     "output_type": "stream",
     "text": [
      "test_loc ['X_0', 'X_1', 'X_2', 'X_3', 'Ylabels_0', 'Ylabels_1', 'Ylabels_2', 'Ylabels_3']\n"
     ]
    }
   ],
   "source": [
    "test_loc = f'{datadir}/test_balanced.h5'\n",
    "print('test_loc', mu.h5_keys(test_loc))"
   ]
  },
  {
   "cell_type": "code",
   "execution_count": 8,
   "metadata": {},
   "outputs": [
    {
     "name": "stdout",
     "output_type": "stream",
     "text": [
      "history/2020-02-16T035758Z/epoch_000_batch_00000_model.h5 True\n",
      "history/2020-02-16T035758Z/epoch_000_batch_00200_model.h5 True\n",
      "history/2020-02-16T035758Z/epoch_000_batch_00400_model.h5 True\n",
      "history/2020-02-16T035758Z/epoch_000_batch_00600_model.h5 True\n",
      "history/2020-02-16T035758Z/epoch_000_batch_00800_model.h5 True\n",
      "history/2020-02-16T035758Z/epoch_000_batch_01000_model.h5 True\n",
      "history/2020-02-16T035758Z/epoch_000_batch_01200_model.h5 True\n",
      "history/2020-02-16T035758Z/epoch_000_batch_01400_model.h5 True\n",
      "history/2020-02-16T035758Z/epoch_000_batch_01600_model.h5 True\n",
      "history/2020-02-16T035758Z/epoch_000_batch_01760_model.h5 True\n",
      "history/2020-02-16T035758Z/epoch_001_batch_00000_model.h5 True\n",
      "history/2020-02-16T035758Z/epoch_001_batch_00200_model.h5 True\n",
      "history/2020-02-16T035758Z/epoch_001_batch_00400_model.h5 True\n",
      "history/2020-02-16T035758Z/epoch_001_batch_00600_model.h5 True\n",
      "history/2020-02-16T035758Z/epoch_001_batch_00800_model.h5 True\n",
      "history/2020-02-16T035758Z/epoch_001_batch_01000_model.h5 True\n",
      "history/2020-02-16T035758Z/epoch_001_batch_01200_model.h5 True\n",
      "history/2020-02-16T035758Z/epoch_001_batch_01400_model.h5 True\n",
      "history/2020-02-16T035758Z/epoch_001_batch_01600_model.h5 True\n",
      "history/2020-02-16T035758Z/epoch_001_batch_01760_model.h5 True\n",
      "modelnames_vec ['history/2020-02-16T035758Z/epoch_000_batch_00000', 'history/2020-02-16T035758Z/epoch_000_batch_00200', 'history/2020-02-16T035758Z/epoch_000_batch_00400', 'history/2020-02-16T035758Z/epoch_000_batch_00600', 'history/2020-02-16T035758Z/epoch_000_batch_00800', 'history/2020-02-16T035758Z/epoch_000_batch_01000', 'history/2020-02-16T035758Z/epoch_000_batch_01200', 'history/2020-02-16T035758Z/epoch_000_batch_01400', 'history/2020-02-16T035758Z/epoch_000_batch_01600', 'history/2020-02-16T035758Z/epoch_000_batch_01760', 'history/2020-02-16T035758Z/epoch_001_batch_00000', 'history/2020-02-16T035758Z/epoch_001_batch_00200', 'history/2020-02-16T035758Z/epoch_001_batch_00400', 'history/2020-02-16T035758Z/epoch_001_batch_00600', 'history/2020-02-16T035758Z/epoch_001_batch_00800', 'history/2020-02-16T035758Z/epoch_001_batch_01000', 'history/2020-02-16T035758Z/epoch_001_batch_01200', 'history/2020-02-16T035758Z/epoch_001_batch_01400', 'history/2020-02-16T035758Z/epoch_001_batch_01600', 'history/2020-02-16T035758Z/epoch_001_batch_01760']\n"
     ]
    }
   ],
   "source": [
    "\n",
    "modelnames_vec = []\n",
    "for epoch in range(EPOCHS):\n",
    "    for batch in list(np.arange(0, 1760, 200)) + [1760]:\n",
    "        step = batch\n",
    "        prefix = (f'{workdir}/epoch_{str(epoch).zfill(3)}'\n",
    "                               f'_batch_{str(batch).zfill(5)}')\n",
    "\n",
    "        modelname = f'{prefix}_model.h5'\n",
    "        print(modelname, os.path.exists(modelname))\n",
    "        modelnames_vec.append(prefix)\n",
    "print('modelnames_vec', modelnames_vec)"
   ]
  },
  {
   "cell_type": "code",
   "execution_count": 9,
   "metadata": {},
   "outputs": [
    {
     "name": "stderr",
     "output_type": "stream",
     "text": [
      "  0%|          | 0/20 [00:00<?, ?it/s]"
     ]
    },
    {
     "name": "stdout",
     "output_type": "stream",
     "text": [
      "starting validation 2020-02-16T043641Z\n",
      "test_loc history/2020-02-03T000055Z/test_balanced.h5\n",
      "history/2020-02-16T035758Z/epoch_000_batch_00000_model.h5 True\n",
      "WARNING:tensorflow:No training configuration found in save file: the model was *not* compiled. Compile it manually.\n"
     ]
    },
    {
     "name": "stderr",
     "output_type": "stream",
     "text": [
      "  5%|▌         | 1/20 [04:51<1:32:22, 291.70s/it]"
     ]
    },
    {
     "name": "stdout",
     "output_type": "stream",
     "text": [
      "history/2020-02-16T035758Z/epoch_000_batch_00200_model.h5 True\n",
      "WARNING:tensorflow:No training configuration found in save file: the model was *not* compiled. Compile it manually.\n"
     ]
    },
    {
     "name": "stderr",
     "output_type": "stream",
     "text": [
      " 10%|█         | 2/20 [09:44<1:27:34, 291.91s/it]"
     ]
    },
    {
     "name": "stdout",
     "output_type": "stream",
     "text": [
      "history/2020-02-16T035758Z/epoch_000_batch_00400_model.h5 True\n",
      "WARNING:tensorflow:No training configuration found in save file: the model was *not* compiled. Compile it manually.\n"
     ]
    },
    {
     "name": "stderr",
     "output_type": "stream",
     "text": [
      " 15%|█▌        | 3/20 [14:35<1:22:38, 291.65s/it]"
     ]
    },
    {
     "name": "stdout",
     "output_type": "stream",
     "text": [
      "history/2020-02-16T035758Z/epoch_000_batch_00600_model.h5 True\n",
      "WARNING:tensorflow:No training configuration found in save file: the model was *not* compiled. Compile it manually.\n"
     ]
    },
    {
     "name": "stderr",
     "output_type": "stream",
     "text": [
      " 20%|██        | 4/20 [19:27<1:17:50, 291.93s/it]"
     ]
    },
    {
     "name": "stdout",
     "output_type": "stream",
     "text": [
      "history/2020-02-16T035758Z/epoch_000_batch_00800_model.h5 True\n",
      "WARNING:tensorflow:No training configuration found in save file: the model was *not* compiled. Compile it manually.\n"
     ]
    },
    {
     "name": "stderr",
     "output_type": "stream",
     "text": [
      " 25%|██▌       | 5/20 [24:20<1:13:04, 292.27s/it]"
     ]
    },
    {
     "name": "stdout",
     "output_type": "stream",
     "text": [
      "history/2020-02-16T035758Z/epoch_000_batch_01000_model.h5 True\n",
      "WARNING:tensorflow:No training configuration found in save file: the model was *not* compiled. Compile it manually.\n"
     ]
    },
    {
     "name": "stderr",
     "output_type": "stream",
     "text": [
      " 30%|███       | 6/20 [29:13<1:08:15, 292.52s/it]"
     ]
    },
    {
     "name": "stdout",
     "output_type": "stream",
     "text": [
      "history/2020-02-16T035758Z/epoch_000_batch_01200_model.h5 True\n",
      "WARNING:tensorflow:No training configuration found in save file: the model was *not* compiled. Compile it manually.\n"
     ]
    },
    {
     "name": "stderr",
     "output_type": "stream",
     "text": [
      " 35%|███▌      | 7/20 [34:08<1:03:29, 293.07s/it]"
     ]
    },
    {
     "name": "stdout",
     "output_type": "stream",
     "text": [
      "history/2020-02-16T035758Z/epoch_000_batch_01400_model.h5 True\n",
      "WARNING:tensorflow:No training configuration found in save file: the model was *not* compiled. Compile it manually.\n"
     ]
    },
    {
     "name": "stderr",
     "output_type": "stream",
     "text": [
      " 40%|████      | 8/20 [39:03<58:43, 293.64s/it]  "
     ]
    },
    {
     "name": "stdout",
     "output_type": "stream",
     "text": [
      "history/2020-02-16T035758Z/epoch_000_batch_01600_model.h5 True\n",
      "WARNING:tensorflow:No training configuration found in save file: the model was *not* compiled. Compile it manually.\n"
     ]
    },
    {
     "name": "stderr",
     "output_type": "stream",
     "text": [
      " 45%|████▌     | 9/20 [43:55<53:44, 293.12s/it]"
     ]
    },
    {
     "name": "stdout",
     "output_type": "stream",
     "text": [
      "history/2020-02-16T035758Z/epoch_000_batch_01760_model.h5 True\n",
      "WARNING:tensorflow:No training configuration found in save file: the model was *not* compiled. Compile it manually.\n"
     ]
    },
    {
     "name": "stderr",
     "output_type": "stream",
     "text": [
      " 50%|█████     | 10/20 [48:47<48:48, 292.84s/it]"
     ]
    },
    {
     "name": "stdout",
     "output_type": "stream",
     "text": [
      "history/2020-02-16T035758Z/epoch_001_batch_00000_model.h5 True\n",
      "WARNING:tensorflow:No training configuration found in save file: the model was *not* compiled. Compile it manually.\n"
     ]
    },
    {
     "name": "stderr",
     "output_type": "stream",
     "text": [
      " 55%|█████▌    | 11/20 [53:41<43:58, 293.21s/it]"
     ]
    },
    {
     "name": "stdout",
     "output_type": "stream",
     "text": [
      "history/2020-02-16T035758Z/epoch_001_batch_00200_model.h5 True\n",
      "WARNING:tensorflow:No training configuration found in save file: the model was *not* compiled. Compile it manually.\n"
     ]
    },
    {
     "name": "stderr",
     "output_type": "stream",
     "text": [
      " 60%|██████    | 12/20 [58:32<39:00, 292.62s/it]"
     ]
    },
    {
     "name": "stdout",
     "output_type": "stream",
     "text": [
      "history/2020-02-16T035758Z/epoch_001_batch_00400_model.h5 True\n",
      "WARNING:tensorflow:No training configuration found in save file: the model was *not* compiled. Compile it manually.\n"
     ]
    },
    {
     "name": "stderr",
     "output_type": "stream",
     "text": [
      " 65%|██████▌   | 13/20 [1:03:24<34:05, 292.25s/it]"
     ]
    },
    {
     "name": "stdout",
     "output_type": "stream",
     "text": [
      "history/2020-02-16T035758Z/epoch_001_batch_00600_model.h5 True\n",
      "WARNING:tensorflow:No training configuration found in save file: the model was *not* compiled. Compile it manually.\n"
     ]
    },
    {
     "name": "stderr",
     "output_type": "stream",
     "text": [
      " 70%|███████   | 14/20 [1:08:15<29:12, 292.08s/it]"
     ]
    },
    {
     "name": "stdout",
     "output_type": "stream",
     "text": [
      "history/2020-02-16T035758Z/epoch_001_batch_00800_model.h5 True\n",
      "WARNING:tensorflow:No training configuration found in save file: the model was *not* compiled. Compile it manually.\n"
     ]
    },
    {
     "name": "stderr",
     "output_type": "stream",
     "text": [
      " 75%|███████▌  | 15/20 [1:13:08<24:20, 292.17s/it]"
     ]
    },
    {
     "name": "stdout",
     "output_type": "stream",
     "text": [
      "history/2020-02-16T035758Z/epoch_001_batch_01000_model.h5 True\n",
      "WARNING:tensorflow:No training configuration found in save file: the model was *not* compiled. Compile it manually.\n"
     ]
    },
    {
     "name": "stderr",
     "output_type": "stream",
     "text": [
      " 80%|████████  | 16/20 [1:17:59<19:27, 291.92s/it]"
     ]
    },
    {
     "name": "stdout",
     "output_type": "stream",
     "text": [
      "history/2020-02-16T035758Z/epoch_001_batch_01200_model.h5 True\n",
      "WARNING:tensorflow:No training configuration found in save file: the model was *not* compiled. Compile it manually.\n"
     ]
    },
    {
     "name": "stderr",
     "output_type": "stream",
     "text": [
      " 85%|████████▌ | 17/20 [1:22:51<14:35, 291.86s/it]"
     ]
    },
    {
     "name": "stdout",
     "output_type": "stream",
     "text": [
      "history/2020-02-16T035758Z/epoch_001_batch_01400_model.h5 True\n",
      "WARNING:tensorflow:No training configuration found in save file: the model was *not* compiled. Compile it manually.\n"
     ]
    },
    {
     "name": "stderr",
     "output_type": "stream",
     "text": [
      " 90%|█████████ | 18/20 [1:27:44<09:44, 292.43s/it]"
     ]
    },
    {
     "name": "stdout",
     "output_type": "stream",
     "text": [
      "history/2020-02-16T035758Z/epoch_001_batch_01600_model.h5 True\n",
      "WARNING:tensorflow:No training configuration found in save file: the model was *not* compiled. Compile it manually.\n"
     ]
    },
    {
     "name": "stderr",
     "output_type": "stream",
     "text": [
      " 95%|█████████▌| 19/20 [1:32:35<04:51, 291.92s/it]"
     ]
    },
    {
     "name": "stdout",
     "output_type": "stream",
     "text": [
      "history/2020-02-16T035758Z/epoch_001_batch_01760_model.h5 True\n",
      "WARNING:tensorflow:No training configuration found in save file: the model was *not* compiled. Compile it manually.\n"
     ]
    },
    {
     "name": "stderr",
     "output_type": "stream",
     "text": [
      "100%|██████████| 20/20 [1:37:31<00:00, 292.56s/it]"
     ]
    },
    {
     "name": "stdout",
     "output_type": "stream",
     "text": [
      "done validation 2020-02-16T061412Z\n"
     ]
    },
    {
     "name": "stderr",
     "output_type": "stream",
     "text": [
      "\n"
     ]
    },
    {
     "data": {
      "text/plain": [
       "<matplotlib.legend.Legend at 0x7fcbf2cd06d8>"
      ]
     },
     "execution_count": 9,
     "metadata": {},
     "output_type": "execute_result"
    },
    {
     "data": {
      "image/png": "[encoded data removed]",
      "text/plain": [
       "<Figure size 432x288 with 1 Axes>"
      ]
     },
     "metadata": {},
     "output_type": "display_data"
    }
   ],
   "source": [
    "print('starting validation', mu.quickts())\n",
    "batch_losses_vec = []\n",
    "print('test_loc', test_loc)\n",
    "epoch = 0\n",
    "for step, prefix in enumerate(tqdm(modelnames_vec)):\n",
    "    # prefix = (f'{workdir}/epoch_{str(epoch).zfill(3)}'\n",
    "    #                        f'_batch_{str(batch).zfill(5)}')\n",
    "\n",
    "    modelname = f'{prefix}_model.h5'\n",
    "    print(modelname, os.path.exists(modelname))\n",
    "\n",
    "    steploss = mv.perf_wrapper(modelname,\n",
    "                               dataloc=test_loc,\n",
    "                               eager=True,\n",
    "                              batch_size=32)\n",
    "    batch_losses_vec.append([float(x) for x in steploss])\n",
    "    mu.to_json_local({'batch_losses_vec': batch_losses_vec,\n",
    "                  'step': int(step)\n",
    "              }, \n",
    "              f'{prefix}_validation_losses.json')\n",
    "    \n",
    "print('done validation', mu.quickts())\n",
    "#####\n",
    "lossesarr = np.array(batch_losses_vec)\n",
    "meanlossesarr = np.mean(lossesarr, axis=1)\n",
    "\n",
    "batch_losses_vec[:5]\n",
    "#batch_losses_vec = []\n",
    "\n",
    "plt.plot([x[0] for x in batch_losses_vec], color='blue', label='0')\n",
    "plt.plot([x[1] for x in batch_losses_vec], color='green', label='1')\n",
    "plt.plot([x[2] for x in batch_losses_vec], color='red', label='2')\n",
    "plt.plot([x[3] for x in batch_losses_vec], color='orange', label='3')\n",
    "plt.plot(meanlossesarr, color='black', label='mean')\n",
    "plt.title(f'validation losses  (model {ts})')\n",
    "plt.legend()     \n",
    "        "
   ]
  },
  {
   "cell_type": "code",
   "execution_count": null,
   "metadata": {},
   "outputs": [],
   "source": [
    "meanlossesarr"
   ]
  }
 ],
 "metadata": {
  "kernelspec": {
   "display_name": "conda_tensorflow_p36",
   "language": "python",
   "name": "conda_tensorflow_p36"
  },
  "language_info": {
   "codemirror_mode": {
    "name": "ipython",
    "version": 3
   },
   "file_extension": ".py",
   "mimetype": "text/x-python",
   "name": "python",
   "nbconvert_exporter": "python",
   "pygments_lexer": "ipython3",
   "version": "3.6.5"
  }
 },
 "nbformat": 4,
 "nbformat_minor": 2
}
