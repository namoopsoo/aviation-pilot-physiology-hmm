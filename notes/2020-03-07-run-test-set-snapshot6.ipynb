{
 "cells": [
  {
   "cell_type": "code",
   "execution_count": 1,
   "metadata": {},
   "outputs": [
    {
     "name": "stdout",
     "output_type": "stream",
     "text": [
      "1.14.0\n"
     ]
    },
    {
     "name": "stderr",
     "output_type": "stream",
     "text": [
      "Using TensorFlow backend.\n"
     ]
    }
   ],
   "source": [
    "from importlib import reload\n",
    "import os\n",
    "import pandas as pd\n",
    "from io import StringIO\n",
    "import itertools\n",
    "import ipdb\n",
    "import datetime\n",
    "from collections import Counter\n",
    "\n",
    "import h5py\n",
    "import json\n",
    "import tensorflow as tf\n",
    "from tensorflow import keras\n",
    "\n",
    "# Helper libraries\n",
    "import numpy as np\n",
    "import matplotlib.pyplot as plt\n",
    "from tqdm import tqdm\n",
    "import joblib\n",
    "print(tf.__version__)\n",
    "\n",
    "from keras.preprocessing import sequence\n",
    "from keras.models import Sequential\n",
    "from keras.layers import Dense, Embedding\n",
    "from keras.layers import LSTM\n",
    "\n",
    "from keras.callbacks import EarlyStopping\n",
    "from tensorflow.compat.v1.losses import sparse_softmax_cross_entropy\n",
    "\n",
    "from sklearn.preprocessing import StandardScaler\n",
    "from sklearn.preprocessing import MinMaxScaler\n",
    "import mytf.s3utils as msu\n",
    "import mytf.utils as mu\n",
    "import mytf.validation as mv\n",
    "import mytf.plot as mp"
   ]
  },
  {
   "cell_type": "code",
   "execution_count": 4,
   "metadata": {},
   "outputs": [],
   "source": [
    "test1M = msu.s3_csv_to_df(bucket_name='my-sagemaker-blah',\n",
    "                 s3_filename='aviation/test.first1M.csv')\n",
    "\n"
   ]
  },
  {
   "cell_type": "code",
   "execution_count": 5,
   "metadata": {},
   "outputs": [
    {
     "data": {
      "text/plain": [
       "(999999, 28)"
      ]
     },
     "execution_count": 5,
     "metadata": {},
     "output_type": "execute_result"
    }
   ],
   "source": [
    "test1M.shape"
   ]
  },
  {
   "cell_type": "code",
   "execution_count": 7,
   "metadata": {},
   "outputs": [
    {
     "data": {
      "text/plain": [
       "1    999999\n",
       "Name: crew, dtype: int64"
      ]
     },
     "execution_count": 7,
     "metadata": {},
     "output_type": "execute_result"
    }
   ],
   "source": [
    "test1M.crew.value_counts()"
   ]
  },
  {
   "cell_type": "code",
   "execution_count": 8,
   "metadata": {
    "scrolled": true
   },
   "outputs": [
    {
     "data": {
      "text/plain": [
       "id                   0\n",
       "crew                 1\n",
       "experiment        LOFT\n",
       "time                 0\n",
       "seat                 0\n",
       "eeg_fp1        17.8995\n",
       "eeg_f7         6.12783\n",
       "eeg_f8        0.994807\n",
       "eeg_t4        -28.2062\n",
       "eeg_t6        -47.6955\n",
       "eeg_t5         -187.08\n",
       "eeg_t3        -33.1835\n",
       "eeg_fp2       -4.22078\n",
       "eeg_o1         8.17816\n",
       "eeg_p3         33.1603\n",
       "eeg_pz         33.8125\n",
       "eeg_f3         21.7447\n",
       "eeg_fz         16.2938\n",
       "eeg_f4        -7.04448\n",
       "eeg_c4        -14.4051\n",
       "eeg_p4        -4.03384\n",
       "eeg_poz      -0.393799\n",
       "eeg_c3         31.8381\n",
       "eeg_cz         17.0756\n",
       "eeg_o2        -8.13735\n",
       "ecg           -7323.12\n",
       "r              643.177\n",
       "gsr            594.779\n",
       "Name: 0, dtype: object"
      ]
     },
     "execution_count": 8,
     "metadata": {},
     "output_type": "execute_result"
    }
   ],
   "source": [
    "test1M.iloc[0]"
   ]
  },
  {
   "cell_type": "code",
   "execution_count": 9,
   "metadata": {},
   "outputs": [
    {
     "data": {
      "text/plain": [
       "0    500000\n",
       "1    499999\n",
       "Name: seat, dtype: int64"
      ]
     },
     "execution_count": 9,
     "metadata": {},
     "output_type": "execute_result"
    }
   ],
   "source": [
    "test1M.seat.value_counts()"
   ]
  },
  {
   "cell_type": "code",
   "execution_count": 10,
   "metadata": {},
   "outputs": [
    {
     "data": {
      "text/plain": [
       "LOFT    999999\n",
       "Name: experiment, dtype: int64"
      ]
     },
     "execution_count": 10,
     "metadata": {},
     "output_type": "execute_result"
    }
   ],
   "source": [
    "test1M.experiment.value_counts()"
   ]
  },
  {
   "cell_type": "code",
   "execution_count": 11,
   "metadata": {},
   "outputs": [
    {
     "data": {
      "text/html": [
       "<div>\n",
       "<style scoped>\n",
       "    .dataframe tbody tr th:only-of-type {\n",
       "        vertical-align: middle;\n",
       "    }\n",
       "\n",
       "    .dataframe tbody tr th {\n",
       "        vertical-align: top;\n",
       "    }\n",
       "\n",
       "    .dataframe thead th {\n",
       "        text-align: right;\n",
       "    }\n",
       "</style>\n",
       "<table border=\"1\" class=\"dataframe\">\n",
       "  <thead>\n",
       "    <tr style=\"text-align: right;\">\n",
       "      <th></th>\n",
       "      <th>id</th>\n",
       "      <th>time</th>\n",
       "      <th>seat</th>\n",
       "      <th>eeg_fp1</th>\n",
       "      <th>ecg</th>\n",
       "      <th>r</th>\n",
       "      <th>gsr</th>\n",
       "    </tr>\n",
       "  </thead>\n",
       "  <tbody>\n",
       "    <tr>\n",
       "      <th>0</th>\n",
       "      <td>0</td>\n",
       "      <td>0.000000</td>\n",
       "      <td>0</td>\n",
       "      <td>17.899500</td>\n",
       "      <td>-7323.120117</td>\n",
       "      <td>643.177002</td>\n",
       "      <td>594.778992</td>\n",
       "    </tr>\n",
       "    <tr>\n",
       "      <th>1</th>\n",
       "      <td>1</td>\n",
       "      <td>0.000000</td>\n",
       "      <td>1</td>\n",
       "      <td>45.883202</td>\n",
       "      <td>-3335.080078</td>\n",
       "      <td>826.724976</td>\n",
       "      <td>136.235001</td>\n",
       "    </tr>\n",
       "    <tr>\n",
       "      <th>2</th>\n",
       "      <td>2</td>\n",
       "      <td>0.003906</td>\n",
       "      <td>0</td>\n",
       "      <td>33.120098</td>\n",
       "      <td>-7323.120117</td>\n",
       "      <td>643.177002</td>\n",
       "      <td>594.778992</td>\n",
       "    </tr>\n",
       "    <tr>\n",
       "      <th>3</th>\n",
       "      <td>3</td>\n",
       "      <td>0.003906</td>\n",
       "      <td>1</td>\n",
       "      <td>43.280102</td>\n",
       "      <td>-3335.080078</td>\n",
       "      <td>826.724976</td>\n",
       "      <td>136.235001</td>\n",
       "    </tr>\n",
       "    <tr>\n",
       "      <th>4</th>\n",
       "      <td>4</td>\n",
       "      <td>0.007812</td>\n",
       "      <td>0</td>\n",
       "      <td>7.929110</td>\n",
       "      <td>-7323.120117</td>\n",
       "      <td>643.177002</td>\n",
       "      <td>594.778992</td>\n",
       "    </tr>\n",
       "    <tr>\n",
       "      <th>5</th>\n",
       "      <td>5</td>\n",
       "      <td>0.007812</td>\n",
       "      <td>1</td>\n",
       "      <td>30.535999</td>\n",
       "      <td>-3335.080078</td>\n",
       "      <td>826.724976</td>\n",
       "      <td>136.235001</td>\n",
       "    </tr>\n",
       "    <tr>\n",
       "      <th>6</th>\n",
       "      <td>6</td>\n",
       "      <td>0.011719</td>\n",
       "      <td>0</td>\n",
       "      <td>17.369301</td>\n",
       "      <td>-7323.120117</td>\n",
       "      <td>643.177002</td>\n",
       "      <td>594.778992</td>\n",
       "    </tr>\n",
       "    <tr>\n",
       "      <th>7</th>\n",
       "      <td>7</td>\n",
       "      <td>0.011719</td>\n",
       "      <td>1</td>\n",
       "      <td>33.028599</td>\n",
       "      <td>-3335.080078</td>\n",
       "      <td>826.724976</td>\n",
       "      <td>136.235001</td>\n",
       "    </tr>\n",
       "    <tr>\n",
       "      <th>8</th>\n",
       "      <td>8</td>\n",
       "      <td>0.015625</td>\n",
       "      <td>0</td>\n",
       "      <td>14.567900</td>\n",
       "      <td>-7323.120117</td>\n",
       "      <td>643.177002</td>\n",
       "      <td>594.778992</td>\n",
       "    </tr>\n",
       "    <tr>\n",
       "      <th>9</th>\n",
       "      <td>9</td>\n",
       "      <td>0.015625</td>\n",
       "      <td>1</td>\n",
       "      <td>37.561600</td>\n",
       "      <td>-3335.080078</td>\n",
       "      <td>826.724976</td>\n",
       "      <td>136.235001</td>\n",
       "    </tr>\n",
       "  </tbody>\n",
       "</table>\n",
       "</div>"
      ],
      "text/plain": [
       "   id      time  seat    eeg_fp1          ecg           r         gsr\n",
       "0   0  0.000000     0  17.899500 -7323.120117  643.177002  594.778992\n",
       "1   1  0.000000     1  45.883202 -3335.080078  826.724976  136.235001\n",
       "2   2  0.003906     0  33.120098 -7323.120117  643.177002  594.778992\n",
       "3   3  0.003906     1  43.280102 -3335.080078  826.724976  136.235001\n",
       "4   4  0.007812     0   7.929110 -7323.120117  643.177002  594.778992\n",
       "5   5  0.007812     1  30.535999 -3335.080078  826.724976  136.235001\n",
       "6   6  0.011719     0  17.369301 -7323.120117  643.177002  594.778992\n",
       "7   7  0.011719     1  33.028599 -3335.080078  826.724976  136.235001\n",
       "8   8  0.015625     0  14.567900 -7323.120117  643.177002  594.778992\n",
       "9   9  0.015625     1  37.561600 -3335.080078  826.724976  136.235001"
      ]
     },
     "execution_count": 11,
     "metadata": {},
     "output_type": "execute_result"
    }
   ],
   "source": [
    "test1M[['id', 'time', 'seat', 'eeg_fp1', 'ecg', 'r', 'gsr']].iloc[:10]"
   ]
  },
  {
   "cell_type": "code",
   "execution_count": 12,
   "metadata": {},
   "outputs": [
    {
     "data": {
      "text/plain": [
       "[<matplotlib.lines.Line2D at 0x7f027da9e630>]"
      ]
     },
     "execution_count": 12,
     "metadata": {},
     "output_type": "execute_result"
    },
    {
     "data": {
      "image/png": "[encoded data removed]",
      "text/plain": [
       "<Figure size 432x288 with 1 Axes>"
      ]
     },
     "metadata": {},
     "output_type": "display_data"
    }
   ],
   "source": [
    "plt.plot(test1M[test1M.seat == 0].r.tolist())"
   ]
  },
  {
   "cell_type": "code",
   "execution_count": 13,
   "metadata": {},
   "outputs": [
    {
     "name": "stdout",
     "output_type": "stream",
     "text": [
      "False\n"
     ]
    }
   ],
   "source": [
    "timevec = test1M[test1M.seat == 0].time.tolist()\n",
    "print(sorted(timevec) == timevec)"
   ]
  },
  {
   "cell_type": "code",
   "execution_count": 15,
   "metadata": {
    "scrolled": false
   },
   "outputs": [
    {
     "data": {
      "text/plain": [
       "[(0.0, 0.0),\n",
       " (0.00390625, 0.00390625),\n",
       " (0.0078125, 0.0078125),\n",
       " (0.01171875, 0.01171875),\n",
       " (0.015625, 0.015625),\n",
       " (0.01953125, 0.01953125),\n",
       " (0.0234375, 0.0234375),\n",
       " (0.02734375, 0.02734375),\n",
       " (0.03125, 0.03125),\n",
       " (0.03515625, 0.03515625),\n",
       " (0.0390625, 0.0390625),\n",
       " (0.04296875, 0.04296875),\n",
       " (0.046875, 0.046875),\n",
       " (0.05078125, 0.05078125),\n",
       " (0.0546875, 0.0546875),\n",
       " (0.05859375, 0.05859375),\n",
       " (0.0625, 0.0625),\n",
       " (0.06640625, 0.06640625),\n",
       " (0.0703125, 0.0703125),\n",
       " (0.07421875, 0.07421875)]"
      ]
     },
     "execution_count": 15,
     "metadata": {},
     "output_type": "execute_result"
    }
   ],
   "source": [
    "(list(zip(sorted(timevec), timevec))[:20])"
   ]
  },
  {
   "cell_type": "code",
   "execution_count": 17,
   "metadata": {},
   "outputs": [
    {
     "data": {
      "text/plain": [
       "(497920, 500000)"
      ]
     },
     "execution_count": 17,
     "metadata": {},
     "output_type": "execute_result"
    }
   ],
   "source": [
    "len([x for x in list(zip(sorted(timevec), timevec))\n",
    "    if x[0] != x[1]]), len(timevec)"
   ]
  },
  {
   "cell_type": "code",
   "execution_count": 18,
   "metadata": {},
   "outputs": [
    {
     "name": "stdout",
     "output_type": "stream",
     "text": [
      "512 2.0 10.0\n"
     ]
    }
   ],
   "source": [
    "for i, x in enumerate(list(zip(sorted(timevec), timevec))):\n",
    "    if x[0] != x[1]:\n",
    "        print(i, x[0], x[1])\n",
    "        break"
   ]
  },
  {
   "cell_type": "code",
   "execution_count": 20,
   "metadata": {},
   "outputs": [
    {
     "data": {
      "text/plain": [
       "[(1.9921875, 1.9921875),\n",
       " (1.99609375, 1.99609375),\n",
       " (2.0, 10.0),\n",
       " (2.00390625, 10.00390625),\n",
       " (2.0078125, 10.0078125),\n",
       " (2.01171875, 10.01171875),\n",
       " (2.015625, 10.015625),\n",
       " (2.01953125, 10.01953125),\n",
       " (2.0234375, 10.0234375),\n",
       " (2.02734375, 10.02734375)]"
      ]
     },
     "execution_count": 20,
     "metadata": {},
     "output_type": "execute_result"
    }
   ],
   "source": [
    "list(zip(sorted(timevec), timevec))[510:520]"
   ]
  },
  {
   "cell_type": "code",
   "execution_count": 26,
   "metadata": {},
   "outputs": [
    {
     "data": {
      "text/plain": [
       "[<matplotlib.lines.Line2D at 0x7f027ca1a4a8>]"
      ]
     },
     "execution_count": 26,
     "metadata": {},
     "output_type": "execute_result"
    },
    {
     "data": {
      "image/png": "[encoded data removed]",
      "text/plain": [
       "<Figure size 432x288 with 1 Axes>"
      ]
     },
     "metadata": {},
     "output_type": "display_data"
    }
   ],
   "source": [
    "plt.plot(test1M[test1M.seat == 0].time.tolist()[:1000], label='0')"
   ]
  },
  {
   "cell_type": "code",
   "execution_count": 27,
   "metadata": {},
   "outputs": [
    {
     "data": {
      "text/plain": [
       "[<matplotlib.lines.Line2D at 0x7f027c82d208>]"
      ]
     },
     "execution_count": 27,
     "metadata": {},
     "output_type": "execute_result"
    },
    {
     "data": {
      "image/png": "[encoded data removed]",
      "text/plain": [
       "<Figure size 432x288 with 1 Axes>"
      ]
     },
     "metadata": {},
     "output_type": "display_data"
    }
   ],
   "source": [
    "# What the hell is that? \n",
    "plt.plot(test1M[test1M.seat == 0].time.tolist()[:10000], label='0')"
   ]
  },
  {
   "cell_type": "code",
   "execution_count": 28,
   "metadata": {},
   "outputs": [
    {
     "data": {
      "text/plain": [
       "[<matplotlib.lines.Line2D at 0x7f027c760f60>]"
      ]
     },
     "execution_count": 28,
     "metadata": {},
     "output_type": "execute_result"
    },
    {
     "data": {
      "image/png": "[encoded data removed]",
      "text/plain": [
       "<Figure size 432x288 with 1 Axes>"
      ]
     },
     "metadata": {},
     "output_type": "display_data"
    }
   ],
   "source": [
    "plt.plot(test1M[test1M.seat == 0].time.tolist()[:100000], label='0')"
   ]
  },
  {
   "cell_type": "code",
   "execution_count": 29,
   "metadata": {},
   "outputs": [
    {
     "data": {
      "text/plain": [
       "[<matplotlib.lines.Line2D at 0x7f027d357710>]"
      ]
     },
     "execution_count": 29,
     "metadata": {},
     "output_type": "execute_result"
    },
    {
     "data": {
      "image/png": "[encoded data removed]",
      "text/plain": [
       "<Figure size 432x288 with 1 Axes>"
      ]
     },
     "metadata": {},
     "output_type": "display_data"
    }
   ],
   "source": [
    "plt.plot(test1M[test1M.seat == 0].time.tolist()[100000:200000], label='0')"
   ]
  },
  {
   "cell_type": "code",
   "execution_count": 30,
   "metadata": {},
   "outputs": [
    {
     "data": {
      "text/plain": [
       "[<matplotlib.lines.Line2D at 0x7f027c69de48>]"
      ]
     },
     "execution_count": 30,
     "metadata": {},
     "output_type": "execute_result"
    },
    {
     "data": {
      "image/png": "[encoded data removed]",
      "text/plain": [
       "<Figure size 432x288 with 1 Axes>"
      ]
     },
     "metadata": {},
     "output_type": "display_data"
    }
   ],
   "source": [
    "plt.plot(test1M[test1M.seat == 0].time.tolist()[-100000:], label='0')"
   ]
  },
  {
   "cell_type": "code",
   "execution_count": 31,
   "metadata": {},
   "outputs": [
    {
     "data": {
      "text/plain": [
       "[<matplotlib.lines.Line2D at 0x7f027c665358>]"
      ]
     },
     "execution_count": 31,
     "metadata": {},
     "output_type": "execute_result"
    },
    {
     "data": {
      "image/png": "[encoded data removed]",
      "text/plain": [
       "<Figure size 432x288 with 1 Axes>"
      ]
     },
     "metadata": {},
     "output_type": "display_data"
    }
   ],
   "source": [
    "# Yea wtf, based on this, even the data itself is showing that shit is abnormal\n",
    "plt.plot(test1M[test1M.seat == 0].time.tolist()[:10000], label='t')\n",
    "plt.plot(test1M[test1M.seat == 0].r.tolist()[:10000], label='r')"
   ]
  },
  {
   "cell_type": "code",
   "execution_count": 34,
   "metadata": {},
   "outputs": [
    {
     "data": {
      "text/plain": [
       "[<matplotlib.lines.Line2D at 0x7f027cc67b70>]"
      ]
     },
     "execution_count": 34,
     "metadata": {},
     "output_type": "execute_result"
    },
    {
     "data": {
      "image/png": "[encoded data removed]",
      "text/plain": [
       "<Figure size 432x288 with 1 Axes>"
      ]
     },
     "metadata": {},
     "output_type": "display_data"
    }
   ],
   "source": [
    "sortedTestDf = test1M.sort_values(by=['time']).copy()\n",
    "# test1M.sort_values?\n",
    "plt.plot(sortedTestDf[sortedTestDf.seat == 0].time.tolist()[:10000], label='t')\n",
    "plt.plot(sortedTestDf[sortedTestDf.seat == 0].r.tolist()[:10000], label='r')"
   ]
  },
  {
   "cell_type": "code",
   "execution_count": 33,
   "metadata": {},
   "outputs": [
    {
     "data": {
      "text/plain": [
       "True"
      ]
     },
     "execution_count": 33,
     "metadata": {},
     "output_type": "execute_result"
    }
   ],
   "source": [
    "# ok but this is true, so basically what the fack? It indicates that time was what going backwards haha?\n",
    "# Or time is not what we think it is ? hahaha! even crazier. \n",
    "sorted(test1M['id'].tolist()) == test1M['id'].tolist()"
   ]
  },
  {
   "cell_type": "code",
   "execution_count": 40,
   "metadata": {},
   "outputs": [
    {
     "name": "stdout",
     "output_type": "stream",
     "text": [
      "True\n",
      "True\n"
     ]
    }
   ],
   "source": [
    "# Okay but it is good that there are no duplicates in the time, per the below.\n",
    "# So I think it is safe to assume I can sort the data, run predictions separately for seat=0 and seat=1 ,\n",
    "# then the predictions need to be resorted by the original index column again . \n",
    "print(test1M[test1M.seat == 0].time.unique().shape == test1M[test1M.seat == 0].time.shape)\n",
    "print(test1M[test1M.seat == 1].time.unique().shape == test1M[test1M.seat == 1].time.shape)\n",
    "\n"
   ]
  },
  {
   "cell_type": "markdown",
   "metadata": {},
   "source": [
    "#### Preprocess\n",
    "Ok dang but the preprocessing might be difficult if the time jumps really globally and not locally.\n",
    "What are the biggest jumps in there. is the first 1million missing ? Visually it does look like it is missing a lot.\n"
   ]
  },
  {
   "cell_type": "code",
   "execution_count": 46,
   "metadata": {},
   "outputs": [
    {
     "data": {
      "text/plain": [
       "set()"
      ]
     },
     "execution_count": 46,
     "metadata": {},
     "output_type": "execute_result"
    }
   ],
   "source": [
    "set(test1M[test1M.seat == 0].time.tolist()[:-1]) -  set(test1M[test1M.seat == 1].time.tolist())"
   ]
  },
  {
   "cell_type": "code",
   "execution_count": 45,
   "metadata": {},
   "outputs": [
    {
     "data": {
      "text/plain": [
       "2756.12109375"
      ]
     },
     "execution_count": 45,
     "metadata": {},
     "output_type": "execute_result"
    }
   ],
   "source": [
    "test1M[test1M.seat == 0].time.tolist()[-1]"
   ]
  },
  {
   "cell_type": "code",
   "execution_count": 47,
   "metadata": {},
   "outputs": [
    {
     "data": {
      "text/plain": [
       "True"
      ]
     },
     "execution_count": 47,
     "metadata": {},
     "output_type": "execute_result"
    }
   ],
   "source": [
    "(test1M[test1M.seat == 0].time.tolist()[:-1]) ==  (test1M[test1M.seat == 1].time.tolist())"
   ]
  },
  {
   "cell_type": "code",
   "execution_count": 48,
   "metadata": {},
   "outputs": [
    {
     "data": {
      "text/plain": [
       "[0.0, 0.00390625, 0.0078125, 0.01171875, 0.015625]"
      ]
     },
     "execution_count": 48,
     "metadata": {},
     "output_type": "execute_result"
    }
   ],
   "source": [
    "test1M[test1M.seat == 0].time.tolist()[:5]"
   ]
  },
  {
   "cell_type": "code",
   "execution_count": 49,
   "metadata": {},
   "outputs": [
    {
     "data": {
      "text/plain": [
       "0.00390625"
      ]
     },
     "execution_count": 49,
     "metadata": {},
     "output_type": "execute_result"
    }
   ],
   "source": [
    "1/256"
   ]
  },
  {
   "cell_type": "code",
   "execution_count": 54,
   "metadata": {},
   "outputs": [
    {
     "data": {
      "text/plain": [
       "(705536, 705536)"
      ]
     },
     "execution_count": 54,
     "metadata": {},
     "output_type": "execute_result"
    }
   ],
   "source": [
    "len(np.arange(0, 2756, 1/256)), 2756*256"
   ]
  },
  {
   "cell_type": "code",
   "execution_count": 55,
   "metadata": {},
   "outputs": [
    {
     "data": {
      "text/plain": [
       "205568"
      ]
     },
     "execution_count": 55,
     "metadata": {},
     "output_type": "execute_result"
    }
   ],
   "source": [
    "# Ah shit. so yea indeed a lot of holes... \n",
    "len(set(np.arange(0, 2756, 1/256)) - set(test1M[test1M.seat == 0].time.tolist()[:-1]))"
   ]
  },
  {
   "cell_type": "code",
   "execution_count": 56,
   "metadata": {},
   "outputs": [
    {
     "data": {
      "text/plain": [
       "[3.00390625,\n",
       " 3.0078125,\n",
       " 3.0,\n",
       " 3.01171875,\n",
       " 3.67578125,\n",
       " 4.0,\n",
       " 4.00390625,\n",
       " 4.0078125,\n",
       " 4.01171875,\n",
       " 4.81640625]"
      ]
     },
     "execution_count": 56,
     "metadata": {},
     "output_type": "execute_result"
    }
   ],
   "source": [
    "list(set(np.arange(0, 2756, 1/256)) - set(test1M[test1M.seat == 0].time.tolist()[:-1]))[:10]"
   ]
  },
  {
   "cell_type": "markdown",
   "metadata": {},
   "source": [
    "#### so indeed need to likely sort across the whole dataset .\n",
    "Also the test dataset has a few non informative columns.. at least can use awk to remove them..\n",
    "( Esp. per this cool [article](https://www.tim-dennis.com/data/tech/2016/08/09/using-awk-filter-rows.html) )\n",
    "\n",
    "```bash\n",
    "(pandars3) $ head -5 data/test.csv | awk -F ',' '{print $1,\",\",$2, $3, $4, $5}'\n",
    "id , crew experiment time seat\n",
    "0 , 1 LOFT 0.00000000 0\n",
    "1 , 1 LOFT 0.00000000 1\n",
    "2 , 1 LOFT 0.00390625 0\n",
    "3 , 1 LOFT 0.00390625 1\n",
    "\n",
    "(pandars3) $ head -5 data/test.csv | awk -F ',' '{print $1,\",\", $4, \",\", $5}'\n",
    "id , time , seat\n",
    "0 , 0.00000000 , 0\n",
    "1 , 0.00000000 , 1\n",
    "2 , 0.00390625 , 0\n",
    "3 , 0.00390625 , 1\n",
    "```\n",
    "\n",
    "Or also I can use awk to treat seat=0 and seat=1 separately...\n",
    "\n",
    "```bash\n",
    "(pandars3) $ awk -F ',' '{if ( $5 == 0) {print $1,\",\", $4, \",\", $5}}' data/test.csv |head -10\n",
    "0 , 0.00000000 , 0\n",
    "2 , 0.00390625 , 0\n",
    "4 , 0.00781250 , 0\n",
    "6 , 0.01171875 , 0\n",
    "8 , 0.01562500 , 0\n",
    "10 , 0.01953125 , 0\n",
    "12 , 0.02343750 , 0\n",
    "14 , 0.02734375 , 0\n",
    "16 , 0.03125000 , 0\n",
    "18 , 0.03515625 , 0\n",
    "```\n",
    "\n",
    "\n",
    "#### sort \n",
    "ok..\n",
    "\n",
    "```bash\n",
    "awk -F ',' '{if ( $5 == 0) {print $1,\",\", $4, \",\", $5}}' data/test.csv |head -10 | sort -t',' -k2n,2 -r\n",
    "```\n",
    "\n",
    "Ok but the space separater was clashing with the unix `sort` .. so instead..\n",
    "\n",
    "```bash\n",
    "(pandars3) $ awk -F ',' 'BEGIN {OFS = \"\" } {if ( $5 == 0) {print $1,\",\", $4, \",\", $5}}' data/test.csv |head -5\n",
    "0,0.00000000,0\n",
    "2,0.00390625,0\n",
    "4,0.00781250,0\n",
    "6,0.01171875,0\n",
    "8,0.01562500,0\n",
    "\n",
    "```\n",
    "\n",
    "#### try sort again,,\n",
    "\n",
    "```bash\n",
    "awk -F ',' 'BEGIN {OFS = \"\" } {if ( $5 == 0) {print $1,\",\", $4, \",\", $5}}' data/test.csv \\\n",
    "        |head -5 \\\n",
    "        | sort -t ',' -k2n,2 -r\n",
    "```\n",
    "Hmm still didnt quite seem to work, but probably because numeric doesnt work on floats!?\n",
    "\n",
    "```bash\n",
    "(pandars3) $ awk -F ',' 'BEGIN {OFS = \"\" } {if ( $5 == 0) {print $1,\",\", $4, \",\", $5}}' data/test.csv         |head -5         | sort -t',' -k2n,2 -r\n",
    "0,0.00000000,0\n",
    "2,0.00390625,0\n",
    "4,0.00781250,0\n",
    "6,0.01171875,0\n",
    "8,0.01562500,0\n",
    "(pandars3) $ awk -F ',' 'BEGIN {OFS = \"\" } {if ( $5 == 0) {print $1,\",\", $4, \",\", $5}}' data/test.csv         |head -5         | sort -t',' -k2,2 -r\n",
    "8,0.01562500,0\n",
    "6,0.01171875,0\n",
    "4,0.00781250,0\n",
    "2,0.00390625,0\n",
    "0,0.00000000,0\n",
    "```\n",
    "\n",
    "#### hmm i think this is working... \n",
    "```bash\n",
    "awk -F ',' 'BEGIN {OFS = \"\" } {if ( $5 == 0) {print $1,\",\", $4, \",\", $5}}' data/test.csv \\\n",
    "        |head -5 \\\n",
    "        | sort -t ',' -k2,2 -r --numeric-sort\n",
    "```\n",
    "\n",
    "#### wow even works with negatives\n",
    "```bash\n",
    "(pandars3) $ awk -F ',' 'BEGIN {OFS = \",\" } {if ( $5 == 0 || $5 == \"seat\") {print $1, $4, $5, $6}}' data/test.csv|head | sort -t \",\" -k 4,4 --numeric-sort\n",
    "12,0.02343750,0,-25.6259\n",
    "14,0.02734375,0,-10.3334\n",
    "16,0.03125000,0,-0.736422\n",
    "id,time,seat,eeg_fp1\n",
    "10,0.01953125,0,0.487288\n",
    "4,0.00781250,0,7.92911\n",
    "8,0.01562500,0,14.5679\n",
    "6,0.01171875,0,17.369301\n",
    "0,0.00000000,0,17.8995\n",
    "2,0.00390625,0,33.120098\n",
    "```\n",
    "\n",
    "\n",
    "#### Going all the way..\n",
    "\n",
    "```bash\n",
    "awk -F ',' 'BEGIN {OFS = \",\" } {if ( $5 == 0 || $5 == \"seat\") {print $1, $4, $5, $6}}' data/test.csv \\\n",
    "        | sort -t ',' -k 2,2  --numeric-sort  > data/test-seats-eegfp1.csv\n",
    "```\n",
    "\n",
    "* Okay so `sort` on my laptop varied between `1.7g` and `2.3g` , so yea I guess in memory sort indeed.\n",
    "\n",
    "```bash\n",
    "(pandars3) $ time awk -F ',' 'BEGIN {OFS = \",\" } {if ( $5 == 0 || $5 == \"seat\") {print $1, $4, $5, $6}}' data/test.csv \\\n",
    ">         | sort -t ',' -k 2,2  --numeric-sort  > data/test-seats-eegfp1.csv\n",
    "\n",
    "real\t6m13.695s\n",
    "user\t6m4.894s\n",
    "sys\t0m10.971s\n",
    "(pandars3) $ \n",
    "\n",
    "```\n",
    "* If I involve all the columns I need, hmm I wonder if I end up running out of memory.\n",
    "\n",
    "#### oh also crap, i guess there were multiple crews in there after all? \n",
    "\n",
    "```bash\n",
    "(pandars3) $ less data/test-seats-eegfp1.csv\n",
    "\n",
    "0,0.00000000,0,17.8995\n",
    "2075595,0.00000000,0,170.852005\n",
    "4592477,0.00000000,0,12.8333\n",
    "id,time,seat,eeg_fp1\n",
    "10580113,0.00390625,0,-50.842499\n",
    "2,0.00390625,0,33.120098\n",
    "2075598,0.00390625,0,179.259003\n",
    "4592478,0.00390625,0,2.28976\n",
    "10580114,0.00781250,0,-33.115501\n",
    "16110215,0.00781250,0,-3.9552\n",
    "2075600,0.00781250,0,170.884003\n",
    "4,0.00781250,0,7.92911\n",
    "4592479,0.00781250,0,-14.4628\n",
    "\n",
    "```\n",
    "* Aha...\n",
    "```bash\n",
    "(pandars3) $ awk -F ',' 'BEGIN {OFS = \",\"} {if ($2 != 1) print $1,$2,$3,$4,$5 }' data/test.csv |head -5 \n",
    "id,crew,experiment,time,seat\n",
    "2075595,2,LOFT,0.00000000,0\n",
    "2075596,2,LOFT,0.00000000,1\n",
    "2075597,2,LOFT,0.00300000,1\n",
    "2075598,2,LOFT,0.00390625,0\n",
    "(pandars3) $\n",
    "```\n",
    "* That's actually kind of good. It works to my advantage in that those 18million rows can be nicely split out into not perhaps 4 or 5 crews of 2 seats each or so, so sorting larger sets in memory will be that much more feasible!\n",
    "\n",
    "```bash\n",
    "(pandars3) $ time awk -F ',' '{print $2}' data/test.csv|uniq\n",
    "crew\n",
    "1\n",
    "2\n",
    "3\n",
    "4\n",
    "5\n",
    "6\n",
    "7\n",
    "8\n",
    "13\n",
    "\n",
    "real\t5m22.960s\n",
    "user\t5m24.085s\n",
    "sys\t0m4.936s\n",
    "```\n",
    "\n",
    "#### Ok.. so going to make the several separate datasets then... and sort them later\n",
    "\n",
    "```bash\n",
    "for i in 1 2 3 4 5 6 7 8 13; \n",
    "   do \n",
    "   for j in 0 1 ; \n",
    "     do \n",
    "     outfile=\"data/test-crew-${i}_seat-${j}.csv\"\n",
    "     echo Starting ${outfile} $(date)\n",
    "     \n",
    "     awk -v crew=${i} -v seat=${j} \\\n",
    "              -F ',' 'BEGIN {OFS = \",\" } \\\n",
    "                      {if (($5 == seat || $5 == \"seat\") \\\n",
    "                          && ($2 == crew || $2 == \"crew\")) \\\n",
    "                      {print $0 } } \\\n",
    "                      ' data/test.csv \\\n",
    "         | sort -t ',' -k 2,2  --numeric-sort  >  ${outfile} \n",
    "     done \n",
    "   done\n",
    "\n",
    "\n",
    " head data/test.csv | awk -v crew=4,seat=1 '{print \"hello\" \"crew\" crew \"seat\" seat }' \n",
    "\n",
    "```\n"
   ]
  },
  {
   "cell_type": "markdown",
   "metadata": {},
   "source": [
    "##### Output from running the above\n",
    "\n",
    "```bash\n",
    "\n",
    "Starting data/test-crew-1_seat-0.csv Sun Mar 8 20:40:10 EDT 2020\n",
    "Starting data/test-crew-1_seat-1.csv Sun Mar 8 20:46:13 EDT 2020\n",
    "Starting data/test-crew-2_seat-0.csv Sun Mar 8 20:52:14 EDT 2020\n",
    "Starting data/test-crew-2_seat-1.csv Sun Mar 8 20:58:29 EDT 2020\n",
    "Starting data/test-crew-3_seat-0.csv Sun Mar 8 21:04:44 EDT 2020\n",
    "Starting data/test-crew-3_seat-1.csv Sun Mar 8 21:10:49 EDT 2020\n",
    "Starting data/test-crew-4_seat-0.csv Sun Mar 8 21:17:03 EDT 2020\n",
    "Starting data/test-crew-4_seat-1.csv Sun Mar 8 21:23:10 EDT 2020\n",
    "Starting data/test-crew-5_seat-0.csv Sun Mar 8 21:29:08 EDT 2020\n",
    "Starting data/test-crew-5_seat-1.csv Sun Mar 8 21:35:24 EDT 2020\n",
    "Starting data/test-crew-6_seat-0.csv Sun Mar 8 21:41:34 EDT 2020\n",
    "Starting data/test-crew-6_seat-1.csv Sun Mar 8 21:47:38 EDT 2020\n",
    "Starting data/test-crew-7_seat-0.csv Sun Mar 8 21:53:44 EDT 2020\n",
    "Starting data/test-crew-7_seat-1.csv Sun Mar 8 21:59:46 EDT 2020\n",
    "Starting data/test-crew-8_seat-0.csv Sun Mar 8 22:05:46 EDT 2020\n",
    "Starting data/test-crew-8_seat-1.csv Sun Mar 8 22:11:49 EDT 2020\n",
    "Starting data/test-crew-13_seat-0.csv Sun Mar 8 22:17:55 EDT 2020\n",
    "Starting data/test-crew-13_seat-1.csv Sun Mar 8 22:23:49 EDT 2020\n",
    "```\n",
    "\n",
    "\n"
   ]
  },
  {
   "cell_type": "markdown",
   "metadata": {},
   "source": [
    "### 2020-03-15"
   ]
  },
  {
   "cell_type": "markdown",
   "metadata": {},
   "source": [
    "#### Ah crap, after that ^^ ... I sorted by the old sort key oops. \n",
    "\n",
    "```python\n",
    "In [2]: df = pd.read_csv('data/test-crew-1_seat-0.csv')\n",
    "\n",
    "In [37]: df[['id', 'time']].iloc[:10]                                                           \n",
    "Out[37]: \n",
    "        id         time\n",
    "0        0     0.000000\n",
    "1       10     0.019531\n",
    "2      100     0.195312\n",
    "3     1000     1.953125\n",
    "4    10000  1014.531250\n",
    "5   100000  1173.312500\n",
    "6  1000000  2756.125000\n",
    "7  1000002  2756.128906\n",
    "8  1000004  2756.132812\n",
    "9  1000006  2756.136719\n",
    "\n",
    "In [38]: df.time.tolist() == sorted(df.time.tolist())                                           \n",
    "Out[38]: False\n",
    "    \n",
    "```\n",
    "\n",
    "So when instead I tried ..\n",
    "\n",
    "```bash\n",
    "(pandars3) $ cat data/test-crew-1_seat-0.csv | sort -t ',' -k 4,4  --numeric-sort > data/test-crew-1_seat-0.sorted.csv\n",
    "\n",
    "```\n",
    "The only thing the header row is the 2nd row for some reason. so skipped row1 and..\n",
    "\n",
    "```python\n",
    "In [43]: df2 = pd.read_csv('data/test-crew-1_seat-0.sorted.csv', skiprows=1)                              \n",
    "\n",
    "In [44]: df2.time.tolist() == sorted(df2.time.tolist())                                                   \n",
    "Out[44]: True\n",
    "\n",
    "```\n",
    "\n"
   ]
  },
  {
   "cell_type": "markdown",
   "metadata": {},
   "source": [
    "#### And seeming like time steps are showing the rows at least for crew1, seat0, are continguous\n",
    "\n",
    "```python\n",
    "\n",
    "In [118]: df2['time2'] = df2.time.shift()                                                                 \n",
    "\n",
    "In [119]: df2[['id', 'time', 'time2']].iloc[:10]                                                          \n",
    "Out[119]: \n",
    "   id      time     time2\n",
    "0   2  0.003906       NaN\n",
    "1   4  0.007812  0.003906\n",
    "2   6  0.011719  0.007812\n",
    "3   8  0.015625  0.011719\n",
    "4  10  0.019531  0.015625\n",
    "5  12  0.023438  0.019531\n",
    "6  14  0.027344  0.023438\n",
    "7  16  0.031250  0.027344\n",
    "8  18  0.035156  0.031250\n",
    "9  20  0.039062  0.035156\n",
    "\n",
    "In [120]: df2.apply(lambda x: x.time - x.time2, axis=1).unique().shape                                    \n",
    "Out[120]: (2,)\n",
    "\n",
    "```\n"
   ]
  },
  {
   "cell_type": "markdown",
   "metadata": {},
   "source": [
    "#### Today\n",
    "- so today I wrote up to commit `5cc128` , building overlapped, index aware, unlabelled data\n",
    "- Did some general QA and the `make_test_data` func roughly seems functional.\n",
    "- This basically is the first time I'm applying the window funcs on data where the output label is missing\n",
    "- And I had been ignoring the index this whole time as well haha. So I needed to add taht as well."
   ]
  },
  {
   "cell_type": "markdown",
   "metadata": {},
   "source": [
    "\n",
    "#### for now still just testing out locally  ..\n",
    "```python\n",
    "# locally the scaler is ...\n",
    "# scaler = joblib.load('history/2020-02-02T044441Z/scalers.joblib')\n",
    "\n",
    "# copied to s3 also so I can do a quick qa on laptop...\n",
    "# (tensorflow_p36) $ aws s3 cp ./history/2020-02-02T044441Z/scalers.joblib s3://mybucket/aviation/history/2020-02-02T044441Z/scalers.joblib\n",
    "upload: history/2020-02-02T044441Z/scalers.joblib to s3://mybucket/aviation/history/2020-02-02T044441Z/scalers.joblib\n",
    "```\n",
    "\n",
    "* `8` Feature cols currently using as per [earlier notebook](https://github.com/namoopsoo/aviation-pilot-physiology-hmm/blob/master/notes/2019-12-21--update.md)\n",
    "\n",
    "```python\n",
    "cols = ['r', 'ecg', 'gsr', \n",
    "        'eeg_fp1','eeg_f7', 'eeg_f8', 'eeg_t4', 'eeg_t6', ]\n",
    "```\n",
    "\n",
    "```python\n",
    "In [43]: df2 = pd.read_csv('data/test-crew-1_seat-0.sorted.csv', skiprows=1)                              \n",
    "\n",
    "In [206]: featurecols = ['r', 'ecg', 'gsr',  \n",
    "     ...:         'eeg_fp1','eeg_f7', 'eeg_f8', 'eeg_t4', 'eeg_t6', ]                                                 \n",
    "\n",
    "In [207]: %%time \n",
    "     ...: ipdb.runcall(mu.make_test_data, df2, \n",
    "     ...:             window_size=64, \n",
    "     ...:             row_batch_size=10000, \n",
    "     ...:             feature_cols=featurecols, \n",
    "     ...:             save_dir=outdir) \n",
    "     ...:                                                                                                 \n",
    "> /Users/michal/LeDropbox/Dropbox/Code/Kaggle/reducing-commercial-aviation-fatalities/mytf/utils.py(540)make_test_data()\n",
    "    539     # keep_index; and option for overlap.\n",
    "--> 540     _ = get_windows_h5(df,\n",
    "    541                        cols=['id'] + feature_cols, # + ['event'],\n",
    "\n",
    "ipdb> c                                                                                                   \n",
    "CPU times: user 17.5 s, sys: 3.44 s, total: 21 s\n",
    "Wall time: 31.1 s\n",
    "```\n",
    "\n",
    "#### Want to applyl scalers next .. \n",
    "* Below using `finalloc = ('data/2020-03-15T2032Z/finaltest.h5')`  because I had hard coded `finaltest.h5` into the `make_test_data` func.\n",
    "\n",
    "```python\n",
    "import joblib\n",
    "workdir = 'data/2020-03-15T2032Z'\n",
    "finalloc = f'{workdir}/finaltest.h5'\n",
    "mu.apply_scalers(finalloc, \n",
    "               datasets=[x for x in mu.h5_keys(testloc) \n",
    "                           if '_X' in x],\n",
    "               scaler=scaler,\n",
    "               outloc=f'{workdir}/finaltest_scaled.h5')\n",
    "```\n",
    "\n",
    "\n",
    "```python\n",
    "In [211]: finalloc = ('data/2020-03-15T2032Z/finaltest.h5') \n",
    "     ...: #IX = mu.read_h5_raw(finalloc, 'dataset_0_IX') \n",
    "     ...: #X = mu.read_h5_raw(finalloc, 'dataset_0_X') \n",
    "     ...: workdir = ('data/2020-03-15T2032Z')                                                             \n",
    "\n",
    "\n",
    "```\n",
    "\n",
    "But ...\n",
    "\n",
    "```python\n",
    "\n",
    "In [212]: %%time \n",
    "     ...: mu.apply_scalers(finalloc,  \n",
    "     ...:                datasets=[x for x in mu.h5_keys(finalloc)  \n",
    "     ...:                            if '_X' in x], \n",
    "     ...:                scaler=scalers, \n",
    "     ...:                outloc=f'{workdir}/finaltest_scaled.h5' \n",
    "     ...:  \n",
    "     ...:                   ) \n",
    "     ...:                                                                                                 \n",
    "  0%|                                                                             | 0/105 [00:00<?, ?it/s]\n",
    "---------------------------------------------------------------------------\n",
    "ValueError                                Traceback (most recent call last)\n",
    "<timed eval> in <module>\n",
    "\n",
    "~/.../mytf/utils.py in apply_scalers(loc, datasets, scaler, outloc)\n",
    "    922         Xss = np.reshape(scaler.transform(\n",
    "    923             np.reshape(X,\n",
    "--> 924                        (fullsize, X.shape[2]))),\n",
    "    925                          original_shape)\n",
    "    926 \n",
    "\n",
    "/usr/local/miniconda3/envs/pandars3/lib/python3.7/site-packages/sklearn/preprocessing/data.py in transform(self, X)\n",
    "    385                         force_all_finite=\"allow-nan\")\n",
    "    386 \n",
    "--> 387         X *= self.scale_\n",
    "    388         X += self.min_\n",
    "    389         return X\n",
    "\n",
    "ValueError: operands could not be broadcast together with shapes (635968,7) (8,) (635968,7) \n",
    "\n",
    "In [213]: X = mu.read_h5_raw(finalloc, 'dataset_0_X')                                                     \n",
    "\n",
    "In [214]: X.shape                                                                                         \n",
    "Out[214]: (9937, 64, 7)\n",
    "\n",
    "In [215]: len(featurecols)                                                                                \n",
    "Out[215]: 8\n",
    "\n",
    "In [216]: print(featurecols)                                                                              \n",
    "['r', 'ecg', 'gsr', 'eeg_fp1', 'eeg_f7', 'eeg_f8', 'eeg_t4', 'eeg_t6']\n",
    "\n",
    "\n",
    "```\n"
   ]
  },
  {
   "cell_type": "markdown",
   "metadata": {},
   "source": [
    "### 2020-03-21"
   ]
  },
  {
   "cell_type": "markdown",
   "metadata": {},
   "source": [
    "#### got to fix that bad shape somehow... \n",
    "* Ah ok oops. had a bug in the `_inner_get_windows` func..  Fixing in commit `bb77d33`.\n",
    "* Also realized since just from 1 out of 18 test files I had created, since it was `3.5G` , I cant  throw `18` datasets in there. \n",
    "* Instead, just got to do one piece at a time. Part of the predict pipeline I suppose... Delete/overwrite each time.\n",
    "* Perhaps I can just jam that into `predict.py` , as an update.\n",
    "\n",
    "```\n",
    "import joblib\n",
    "import pandas as pd\n",
    "df2 = pd.read_csv('data/test-crew-1_seat-0.sorted.csv', skiprows=1)                              \n",
    "\n",
    "featurecols = ['r', 'ecg', 'gsr',  \n",
    "              'eeg_fp1','eeg_f7', 'eeg_f8', 'eeg_t4', 'eeg_t6', ]                                                 \n",
    "workdir = 'data/2020-03-15T2032Z'\n",
    "\n",
    "%%time\n",
    "mu.make_test_data(df2, \n",
    "            window_size=64, \n",
    "            row_batch_size=10000, \n",
    "            feature_cols=featurecols, \n",
    "            save_dir=workdir)\n",
    "# ==> In [236]:\n",
    "# Wall time: 29.9 s\n",
    "\n",
    "\n",
    "finalloc = f'{workdir}/finaltest.h5'\n",
    "\n",
    "# In [239]: len([x for x in mu.h5_keys(finalloc)  \n",
    "#                                 if '_X' in x])                                                       \n",
    "# Out[239]: 105\n",
    "\n",
    "\n",
    "# Got this message locally too... hopefully for now its ok..\n",
    "# After testing this flow locally I want to do the whole thing in cloud...\n",
    "# \n",
    "scalers = joblib.load('history/2020-02-02T044441Z/scalers.joblib')\n",
    "/usr/local/miniconda3/envs/pandars3/lib/python3.7/site-packages/sklearn/base.py:251: UserWarning: Trying to unpickle estimator MinMaxScaler from version 0.21.3 when using version 0.20.2. This might lead to breaking code or invalid results. Use at your own risk.\n",
    "  UserWarning)\n",
    "\n",
    "# Look at time just for one ... \n",
    "%%time\n",
    "mu.apply_scalers(finalloc, \n",
    "               datasets=[x for x in mu.h5_keys(finalloc) \n",
    "                           if '_X' in x][:1],\n",
    "               scaler=scalers,\n",
    "               outloc=f'{workdir}/finaltest_scaled.h5')\n",
    "# => Wall time: 312 ms\n",
    "# Ok so its still pretty cheap..\n",
    "\n",
    "# Quick validation .. \n",
    "In [246]: X = mu.read_h5_raw(finalloc, 'dataset_0_X')                                                     \n",
    "\n",
    "In [247]: Xs = mu.read_h5_raw(f'{workdir}/finaltest_scaled.h5', 'dataset_0_X_scaled')                     \n",
    "\n",
    "In [248]: X.shape, Xs.shape                                                                               \n",
    "Out[248]: ((9937, 64, 8), (9937, 64, 8))\n",
    "\n",
    "In [249]: X[:1,:1,:]                                                                                      \n",
    "Out[249]: \n",
    "array([[[ 6.43177002e+02, -7.32312012e+03,  5.94778992e+02,\n",
    "          3.31200980e+01,  2.83565010e+01, -7.23922000e+00,\n",
    "         -7.69086000e+00, -2.58337990e+01]]])\n",
    "\n",
    "In [250]: Xs[:1,:1,:]                                                                                     \n",
    "Out[250]: \n",
    "array([[[-0.00865528,  0.37437108,  0.29741032,  0.58548244,\n",
    "          0.58233324,  0.58615207,  0.59763897,  0.56314214]]])\n",
    "\n",
    "\n",
    "```\n",
    "* Ok, validation looks good...\n",
    "* Also obviously not scaling the index, but I can just re-use the index data from the original `finaltest.h5` I suppose. Or copy over, to make that code simpler, so dont have to specify multiple files in predict? \n",
    "\n",
    "#### Indices... hmm\n",
    "* This looks weird though. Why not overlapping though? Grr..\n",
    "\n",
    "```python\n",
    "\n",
    "In [251]: IX1 = mu.read_h5_raw(finalloc, 'dataset_1_IX')                                                  \n",
    "\n",
    "In [252]: IX0 = mu.read_h5_raw(finalloc, 'dataset_0_IX')                                                  \n",
    "\n",
    "In [253]: IX0.shape, IX1.shape                                                                            \n",
    "Out[253]: ((9937,), (9937,))\n",
    "\n",
    "In [254]: len(set(IX0))                                                                                   \n",
    "Out[254]: 9937\n",
    "\n",
    "In [255]: len(set(IX0) & set(IX1))                                                                        \n",
    "Out[255]: 1\n",
    "\n",
    "In [256]: set(IX0) & set(IX1)                                                                             \n",
    "Out[256]: {1650208.0}\n",
    "\n",
    "In [257]: IX2 = mu.read_h5_raw(finalloc, 'dataset_2_IX')                                                  \n",
    "\n",
    "In [258]: len(set(IX1) & set(IX2))                                                                        \n",
    "Out[258]: 1\n",
    "\n",
    "In [259]: set(IX1) & set(IX2)                                                                             \n",
    "Out[259]: {1945483.0}\n",
    "\n",
    "In [260]: IX3 = mu.read_h5_raw(finalloc, 'dataset_3_IX')                                                  \n",
    "\n",
    "In [261]: set(IX2) & set(IX3)                                                                             \n",
    "Out[261]: {92512.0}\n",
    "\n",
    "\n",
    "```\n",
    "\n",
    "* ok... made changes to `predict.py`  , going to test them out... \n",
    "* Running locally .. \n",
    "\n",
    "```bash\n",
    "time python predict.py --test-loc data/2020-03-15T2032Z/finaltest_scaled.h5 \\\n",
    "        --batch-size 1024 \\\n",
    "        --model-loc history/2020-02-16T035758Z/epoch_001_batch_01760_model.h5 \\\n",
    "        --work-dir data/2020-03-15T2032Z \\\n",
    "        --eager     \n",
    "```\n"
   ]
  },
  {
   "cell_type": "markdown",
   "metadata": {},
   "source": [
    "### 2020-03-22"
   ]
  },
  {
   "cell_type": "markdown",
   "metadata": {},
   "source": [
    "#### And let the predict script publish results\n",
    "\n",
    "* From [previous notebook](https://github.com/namoopsoo/aviation-pilot-physiology-hmm/blob/master/notes/2019-12-21--update.md#apply-and-transfer)\n",
    "\n",
    "```python\n",
    "workdir = 'data/2020-03-15T2032Z'\n",
    "finalloc = f'{workdir}/finaltest.h5'\n",
    "finalscaledloc = f'{workdir}/finaltest_scaled.h5'\n",
    "\n",
    "mu.transfer(source_location=finalloc, \n",
    "            source_datasets=[x for x in mu.h5_keys(finalloc) \n",
    "                               if '_IX' in x], \n",
    "            save_location=finalscaledloc)\n",
    "\n",
    "\n",
    "In [282]: len([mu.read_h5_raw(finalscaledloc,  x) for x in  \n",
    "     ...:                                     mu.h5_keys(finalloc)   if '_IX' in x]) \n",
    "     ...:                                                                                                 \n",
    "Out[282]: 105\n",
    "```\n",
    "\n",
    "#### and ok not much overlap but anyway thats fine \n",
    "\n",
    "```python\n",
    "In [283]: np.concatenate([mu.read_h5_raw(finalscaledloc,  x) for x in  \n",
    "     ...:                                     mu.h5_keys(finalloc)   if '_IX' in x]).shape                \n",
    "Out[283]: (1037828,)\n",
    "\n",
    "In [284]: len(set(np.concatenate([mu.read_h5_raw(finalscaledloc,  x) for x in  \n",
    "     ...:                                     mu.h5_keys(finalloc)   if '_IX' in x])))                    \n",
    "Out[284]: 1037724\n",
    "```\n",
    "\n",
    "```python\n",
    "joblib.Parallel(n_jobs=-1,\n",
    "                backend='multiprocessing',\n",
    "                verbose=10)\n",
    "                \n",
    "from time import sleep\n",
    "from joblib import Parallel, delayed\n",
    "r = Parallel(n_jobs=2, verbose=10)(delayed(sleep)(.2) for _ in range(10))\n",
    "```"
   ]
  }
 ],
 "metadata": {
  "kernelspec": {
   "display_name": "conda_tensorflow_p36",
   "language": "python",
   "name": "conda_tensorflow_p36"
  },
  "language_info": {
   "codemirror_mode": {
    "name": "ipython",
    "version": 3
   },
   "file_extension": ".py",
   "mimetype": "text/x-python",
   "name": "python",
   "nbconvert_exporter": "python",
   "pygments_lexer": "ipython3",
   "version": "3.6.5"
  }
 },
 "nbformat": 4,
 "nbformat_minor": 2
}
